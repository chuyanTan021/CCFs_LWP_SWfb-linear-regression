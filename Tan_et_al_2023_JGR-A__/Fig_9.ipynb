{
 "cells": [
  {
   "cell_type": "code",
   "execution_count": 1,
   "id": "8abdf2b7-646f-4d5d-8591-aef4ff794c0d",
   "metadata": {},
   "outputs": [],
   "source": [
    "import sys\n",
    "\n",
    "sys.path.append('/glade/work/chuyan/Research/Cloud_CCFs_RMs_Tan_et_al_2023_JGR-A__')"
   ]
  },
  {
   "cell_type": "code",
   "execution_count": 2,
   "id": "f070222e-708b-4353-95a4-482f1100dc16",
   "metadata": {},
   "outputs": [],
   "source": [
    "import netCDF4 as nc\n",
    "import numpy as np\n",
    "import matplotlib.pyplot as plt\n",
    "import xarray as xr\n",
    "# import PyNIO as Nio #deprecated\n",
    "import pandas as pd\n",
    "import glob\n",
    "from scipy.stats import *\n",
    "from copy import deepcopy\n",
    "from sklearn import linear_model\n",
    "from sklearn.metrics import mean_squared_error, r2_score\n",
    "from matplotlib.ticker import MaxNLocator\n",
    "from matplotlib.colors import BoundaryNorm\n",
    "\n",
    "from area_mean import *\n",
    "from scipy.optimize import curve_fit\n",
    "# import seaborn as sns\n",
    "from copy import deepcopy\n",
    "from useful_func_cy import *"
   ]
  },
  {
   "cell_type": "markdown",
   "id": "ba4d05f3-820e-4a61-9084-9681d4ea10f3",
   "metadata": {},
   "source": [
    "### Fig 9:\n",
    "Probability density function of 40^{o}S - 85^{o}S SW_{FB} with constraint range:"
   ]
  },
  {
   "cell_type": "code",
   "execution_count": 3,
   "id": "a13fa441-ab03-4043-ac30-97588b3d7cf2",
   "metadata": {},
   "outputs": [],
   "source": [
    "# model list\n",
    "\n",
    "exp = 'piControl'\n",
    "    \n",
    "# CMIP6: 31 (30: BCCCSMCM2MR)\n",
    "AWICM11MR = {'modn': 'AWI-CM-1-1-MR', 'consort': 'AWI', 'cmip': 'cmip6',\n",
    "            'exper': exp, 'ensmem': 'r1i1p1f1', 'gg': 'gn', \"typevar\": 'Amon'}\n",
    "BCCESM1 = {'modn': 'BCC-ESM1', 'consort': 'BCC', 'cmip': 'cmip6',\n",
    "               'exper': exp, 'ensmem': 'r1i1p1f1', 'gg': 'gn', \"typevar\": 'Amon'}\n",
    "CAMSCSM1 = {'modn': 'CAMS-CSM1-0', 'consort': 'CAMS', 'cmip': 'cmip6',\n",
    "            'exper': exp, 'ensmem': 'r1i1p1f1', 'gg': 'gn', \"typevar\": 'Amon'}\n",
    "CMCCCM2SR5 = {'modn': 'CMCC-CM2-SR5', 'consort': 'CMCC', 'cmip': 'cmip6', \n",
    "             'exper': exp, 'ensmem': 'r1i1p1f1', 'gg': 'gn', \"typevar\": 'Amon'}\n",
    "CESM2 = {'modn': 'CESM2', 'consort': 'NCAR', 'cmip': 'cmip6',\n",
    "             'exper': exp, 'ensmem': 'r1i1p1f1', 'gg': 'gn', \"typevar\": 'Amon'}\n",
    "CESM2FV2 = {'modn': 'CESM2-FV2', 'consort': 'NCAR', 'cmip': 'cmip6',\n",
    "             'exper': exp, 'ensmem': 'r1i1p1f1', 'gg': 'gn', \"typevar\": 'Amon'}\n",
    "CESM2WACCM = {'modn': 'CESM2-WACCM', 'consort': 'NCAR', 'cmip': 'cmip6',\n",
    "             'exper': exp, 'ensmem': 'r1i1p1f1', 'gg': 'gn', \"typevar\": 'Amon'}\n",
    "CESM2WACCMFV2 = {'modn': 'CESM2-WACCM-FV2', 'consort': 'NCAR', 'cmip': 'cmip6',\n",
    "             'exper': exp, 'ensmem': 'r1i1p1f1', 'gg': 'gn', \"typevar\": 'Amon'}\n",
    "CNRMCM61 = {'modn': 'CNRM-CM6-1', 'consort': 'CNRM-CERFACS', 'cmip': 'cmip6', \n",
    "               'exper': exp, 'ensmem': 'r1i1p1f2', 'gg': 'gr', \"typevar\": 'Amon'}\n",
    "CNRMCM61HR = {'modn': 'CNRM-CM6-1-HR', 'consort': 'CNRM-CERFACS', 'cmip': 'cmip6',\n",
    "               'exper': exp, 'ensmem': 'r1i1p1f2', 'gg': 'gr', \"typevar\": 'Amon'}\n",
    "CNRMESM21 = {'modn': 'CNRM-ESM2-1', 'consort': 'CNRM-CERFACS', 'cmip': 'cmip6', \n",
    "                 'exper': exp, 'ensmem': 'r1i1p1f2', 'gg': 'gr', \"typevar\": 'Amon'}\n",
    "CanESM5 = {'modn': 'CanESM5', 'consort': 'CCCma', 'cmip': 'cmip6',\n",
    "               'exper': exp, 'ensmem': 'r1i1p1f1', 'gg': 'gn', \"typevar\": 'Amon'}\n",
    "E3SM10 = {'modn': 'E3SM-1-0', 'consort': 'E3SM-Project', 'cmip': 'cmip6',\n",
    "              'exper': exp, 'ensmem': 'r1i1p1f1', 'gg': 'gr', \"typevar\": 'Amon'}\n",
    "ECEarth3 = {'modn': 'EC-Earth3', 'consort': 'EC-Earth-Consortium', 'cmip': 'cmip6',\n",
    "       'exper': exp, 'ensmem': 'r1i1p1f1', 'gg': 'gr', \"typevar\": 'Amon'}\n",
    "ECEarth3Veg = {'modn': 'EC-Earth3-Veg', 'consort': 'EC-Earth-Consortium', 'cmip': 'cmip6',\n",
    "       'exper': exp, 'ensmem': 'r1i1p1f1', 'gg': 'gr', \"typevar\": 'Amon'}\n",
    "FGOALSg3 = {'modn': 'FGOALS-g3', 'consort': 'CAS', 'cmip': 'cmip6',\n",
    "                'exper': exp, 'ensmem': 'r1i1p1f1', 'gg': 'gn', \"typevar\": 'Amon'}\n",
    "GISSE21G = {'modn': 'GISS-E2-1-G', 'consort': 'NASA-GISS', 'cmip': 'cmip6',\n",
    "                'exper': exp, 'ensmem': 'r1i1p1f1', 'gg': 'gn', \"typevar\": 'Amon'}\n",
    "GISSE21H = {'modn': 'GISS-E2-1-H', 'consort': 'NASA-GISS', 'cmip': 'cmip6',\n",
    "                'exper': exp, 'ensmem': 'r1i1p1f1', 'gg': 'gn', \"typevar\": 'Amon'}\n",
    "GISSE22G = {'modn': 'GISS-E2-2-G', 'consort': 'NASA-GISS', 'cmip': 'cmip6',\n",
    "               'exper': exp, 'ensmem': 'r1i1p1f1', 'gg': 'gn', \"typevar\": 'Amon'}\n",
    "GFDLCM4 = {'modn': 'GFDL-CM4', 'consort': 'NOAA-GFDL', 'cmip': 'cmip6',\n",
    "           'exper': exp, 'ensmem': 'r1i1p1f1', 'gg': 'gr1', \"typevar\": 'Amon'}\n",
    "INM_CM48 = {'modn': 'INM-CM4-8', 'consort': 'INM', 'cmip': 'cmip6', \n",
    "                'exper': exp, 'ensmem': 'r1i1p1f1', 'gg': 'gr1', \"typevar\": 'Amon'}\n",
    "IPSLCM6ALR = {'modn': 'IPSL-CM6A-LR', 'consort': 'IPSL', 'cmip': 'cmip6',\n",
    "                  'exper': exp, 'ensmem': 'r1i1p1f1', 'gg': 'gr', \"typevar\": 'Amon'}\n",
    "MIROCES2L = {'modn': 'MIROC-ES2L', 'consort': 'MIROC', 'cmip': 'cmip6',\n",
    "              'exper': exp, 'ensmem': 'r1i1p1f2', 'gg': 'gn', \"typevar\": 'Amon'}\n",
    "MIROC6 = {'modn': 'MIROC6', 'consort': 'MIROC', 'cmip': 'cmip6',\n",
    "              'exper': exp, 'ensmem': 'r1i1p1f1', 'gg': 'gn', \"typevar\": 'Amon'}\n",
    "MPIESM12LR = {'modn': 'MPI-ESM1-2-LR', 'consort': 'MPI-M', 'cmip': 'cmip6',\n",
    "                  'exper': exp, 'ensmem': 'r1i1p1f1', 'gg': 'gn', \"typevar\": 'Amon'}\n",
    "MRIESM20 = {'modn': 'MRI-ESM2-0', 'consort': 'MRI', 'cmip': 'cmip6',\n",
    "                'exper': exp, 'ensmem': 'r1i1p1f1', 'gg': 'gn', \"typevar\": 'Amon'}\n",
    "NESM3 = {'modn': 'NESM3', 'consort': 'NUIST', 'cmip': 'cmip6', \n",
    "                 'exper': exp, 'ensmem': 'r1i1p1f1', 'gg': 'gn', \"typevar\": 'Amon'}\n",
    "NorESM2MM = {'modn': 'NorESM2-MM', 'consort': 'NCC', 'cmip': 'cmip6',\n",
    "                 'exper': exp, 'ensmem': 'r1i1p1f1', 'gg': 'gn', \"typevar\": 'Amon'}\n",
    "SAM0 = {'modn': 'SAM0-UNICON', 'consort': 'SNU', 'cmip': 'cmip6', \n",
    "            'exper': exp, 'ensmem': 'r1i1p1f1', 'gg': 'gn', \"typevar\": 'Amon'}\n",
    "TaiESM1 = {'modn': 'TaiESM1', 'consort': 'AS-RCEC', 'cmip': 'cmip6', \n",
    "                 'exper': exp, 'ensmem': 'r1i1p1f1', 'gg': 'gn', \"typevar\": 'Amon'}\n",
    "\n",
    "# CMIP5: 20 (18, ACCESS10, ACCESS13)\n",
    "ACCESS10 = {'modn': 'ACCESS1-0', 'consort': 'CSIRO-BOM', 'cmip': 'cmip5',   # 2-d (145) and 3-d (146) variables have different lat shape\n",
    "            'exper': exp, 'ensmem': 'r1i1p1', \"typevar\": 'Amon'}\n",
    "ACCESS13 = {'modn': 'ACCESS1-3', 'consort': 'CSIRO-BOM', 'cmip': 'cmip5',   # 2-d (145) and 3-d (146) variables have different lat shape\n",
    "            'exper': exp, 'ensmem': 'r1i1p1', \"typevar\": 'Amon'}\n",
    "BNUESM = {'modn': 'BNU-ESM', 'consort': 'BNU', 'cmip': 'cmip5',\n",
    "          'exper': exp, 'ensmem': 'r1i1p1', \"typevar\": 'Amon'}\n",
    "CCSM4 = {'modn': 'CCSM4', 'consort': 'NCAR', 'cmip': 'cmip5',\n",
    "             'exper': exp, 'ensmem': 'r1i1p1', \"typevar\": 'Amon'}\n",
    "CNRMCM5 = {'modn': 'CNRM-CM5', 'consort': 'CNRM-CERFACS', 'cmip': 'cmip5',\n",
    "            'exper': exp, 'ensmem': 'r1i1p1', \"typevar\": 'Amon'}\n",
    "CSIRO_Mk360 = {'modn': 'CSIRO-Mk3-6-0', 'consort': 'CSIRO-QCCCE', 'cmip': 'cmip5',\n",
    "            'exper': exp, 'ensmem': 'r1i1p1', \"typevar\": 'Amon'}\n",
    "CanESM2 = {'modn': 'CanESM2', 'consort': 'CCCma', 'cmip': 'cmip5',\n",
    "            'exper': exp, 'ensmem': 'r1i1p1', \"typevar\": 'Amon'}\n",
    "FGOALSg2 = {'modn': 'FGOALS-g2', 'consort': 'LASG-CESS', 'cmip': 'cmip5',   # missing 'prw' in piControl\n",
    "            'exper': exp, 'ensmem': 'r1i1p1', \"typevar\": 'Amon'}\n",
    "FGOALSs2 = {'modn': 'FGOALS-s2', 'consort': 'LASG-IAP', 'cmip': 'cmip5',\n",
    "            'exper': exp, 'ensmem': 'r1i1p1', \"typevar\": 'Amon'}\n",
    "GFDLCM3 = {'modn': 'GFDL-CM3', 'consort': 'NOAA-GFDL', 'cmip': 'cmip5',\n",
    "            'exper': exp, 'ensmem': 'r1i1p1', \"typevar\": 'Amon'}\n",
    "GISSE2H = {'modn': 'GISS-E2-H', 'consort': 'NASA-GISS', 'cmip': 'cmip5',\n",
    "           'exper': exp, 'ensmem': 'r1i1p1', \"typevar\": 'Amon'}\n",
    "GISSE2R = {'modn': 'GISS-E2-R', 'consort': 'NASA-GISS', 'cmip': 'cmip5',\n",
    "           'exper': exp, 'ensmem': 'r1i1p1', \"typevar\": 'Amon'}\n",
    "IPSLCM5ALR = {'modn': 'IPSL-CM5A-LR', 'consort': 'IPSL', 'cmip': 'cmip5',\n",
    "               'exper': exp, 'ensmem': 'r1i1p1', \"typevar\": 'Amon'}\n",
    "MIROC5 = {'modn': 'MIROC5', 'consort': 'MIROC', 'cmip': 'cmip5',\n",
    "            'exper': exp, 'ensmem': 'r1i1p1', \"typevar\": 'Amon'}\n",
    "MPIESMMR = {'modn': 'MPI-ESM-MR', 'consort': 'MPI-M', 'cmip': 'cmip5',\n",
    "            'exper': exp, 'ensmem': 'r1i1p1', \"typevar\": 'Amon'}\n",
    "NorESM1M = {'modn': 'NorESM1-M', 'consort': 'NCC', 'cmip': 'cmip5',\n",
    "            'exper': exp, 'ensmem': 'r1i1p1', \"typevar\": 'Amon'}\n",
    "MIROCESM = {'modn': 'MIROC-ESM', 'consort': 'MIROC', 'cmip': 'cmip5', \n",
    "            'exper': exp, 'ensmem': 'r1i1p1', \"typevar\": 'Amon'}\n",
    "MRICGCM3 = {'modn': 'MRI-CGCM3', 'consort': 'MRI', 'cmip': 'cmip5', \n",
    "            'exper': exp, 'ensmem': 'r1i1p1', \"typevar\": 'Amon'}\n",
    "MPIESMLR = {'modn': 'MPI-ESM-LR', 'consort': 'MPI-M', 'cmip': 'cmip5',\n",
    "            'exper': exp, 'ensmem': 'r1i1p1', \"typevar\": 'Amon'}\n",
    "bcccsm11 = {'modn': 'bcc-csm1-1', 'consort': 'BCC', 'cmip': 'cmip5', \n",
    "            'exper': exp, 'ensmem': 'r1i1p1', \"typevar\": 'Amon'}\n",
    "GFDLESM2G = {'modn': 'GFDL-ESM2G', 'consort': 'NOAA-GFDL', 'cmip': 'cmip5', \n",
    "            'exper': exp, 'ensmem': 'r1i1p1', \"typevar\": 'Amon'}\n",
    "GFDLESM2M = {'modn': 'GFDL-ESM2M', 'consort': 'NOAA-GFDL', 'cmip': 'cmip5', \n",
    "           'exper': exp, 'ensmem': 'r1i1p1', \"typevar\": 'Amon'}\n",
    "\n",
    "# cmip5 + cmip6 (50):\n",
    "\n",
    "deck2 = [BCCESM1, CanESM5, CESM2, CESM2FV2, CESM2WACCM, CNRMESM21, GISSE21G, GISSE21H, IPSLCM6ALR, MRIESM20, MIROC6, SAM0, E3SM10, FGOALSg3, GFDLCM4, CAMSCSM1, INM_CM48, MPIESM12LR, AWICM11MR, CMCCCM2SR5, CESM2WACCMFV2, CNRMCM61, CNRMCM61HR, ECEarth3, ECEarth3Veg, GISSE22G, MIROCES2L, NESM3, NorESM2MM, TaiESM1, BNUESM, CCSM4, CNRMCM5, CSIRO_Mk360, CanESM2, FGOALSg2, FGOALSs2, GFDLCM3, GISSE2H, GISSE2R, IPSLCM5ALR, MIROC5, MPIESMMR, NorESM1M, MIROCESM, MRICGCM3, MPIESMLR, bcccsm11, GFDLESM2G, GFDLESM2M]  # current # 30 + 20 = 50\n",
    "deck_nas2 = ['BCCESM1', 'CanESM5', 'CESM2', 'CESM2FV2', 'CESM2WACCM', 'CNRMESM21', 'GISSE21G', 'GISSE21H', 'IPSLCM6ALR', 'MRIESM20', 'MIROC6', 'SAM0', 'E3SM10', 'FGOALSg3', 'GFDLCM4', 'CAMSCSM1', 'INM_CM48', 'MPIESM12LR', 'AWICM11MR', 'CMCCCM2SR5', 'CESM2WACCMFV2', 'CNRMCM61', 'CNRMCM61HR', 'ECEarth3', 'ECEarth3Veg', 'GISSE22G', 'MIROCES2L', 'NESM3', 'NorESM2MM', 'TaiESM1', 'BNUESM', 'CCSM4', 'CNRMCM5', 'CSIRO_Mk360', 'CanESM2', 'FGOALSg2', 'FGOALSs2', 'GFDLCM3', 'GISSE2H', 'GISSE2R', 'IPSLCM5ALR', 'MIROC5', 'MPIESMMR', 'NorESM1M', 'MIROCESM', 'MRICGCM3', 'MPIESMLR', 'bcccsm11', 'GFDLESM2G', 'GFDLESM2M']  # current # 30 + 20 = 50\n",
    "\n",
    "deck3 = [CanESM5, E3SM10, CESM2FV2, CESM2, CNRMCM61, CESM2WACCMFV2, CNRMESM21, NESM3, IPSLCM6ALR, CESM2WACCM, MIROCESM, TaiESM1, ECEarth3Veg, CNRMCM61HR, ECEarth3, \n",
    "         FGOALSs2, IPSLCM5ALR, CSIRO_Mk360, BNUESM, GFDLCM3, GFDLCM4, SAM0, CanESM2, MPIESMLR, CMCCCM2SR5, MPIESMMR, FGOALSg2, BCCESM1, CNRMCM5, AWICM11MR, MRIESM20, \n",
    "          GISSE21H, MPIESM12LR, CCSM4, NorESM1M, FGOALSg3, bcccsm11, MIROC5, GISSE21G, MIROCES2L, MRICGCM3, MIROC6, NorESM2MM, GFDLESM2M, GFDLESM2G, GISSE22G, GISSE21H, CAMSCSM1, GISSE2R, INM_CM48]\n",
    "deck3_nas = ['CanESM5', 'E3SM10', 'CESM2FV2', 'CESM2', 'CNRMCM61', 'CESM2WACCMFV2', 'CNRMESM21', 'NESM3', 'IPSLCM6ALR', 'CESM2WACCM', 'MIROCESM', 'TaiESM1', 'ECEarth3Veg', 'CNRMCM61HR', 'ECEarth3', \n",
    "         'FGOALSs2', 'IPSLCM5ALR', 'CSIRO_Mk360', 'BNUESM', 'GFDLCM3', 'GFDLCM4', 'SAM0', 'CanESM2', 'MPIESMLR', 'CMCCCM2SR5', 'MPIESMMR', 'FGOALSg2', 'BCCESM1', 'CNRMCM5', 'AWICM11MR', 'MRIESM20', \n",
    "          'GISSE21H', 'MPIESM12LR', 'CCSM4', 'NorESM1M', 'FGOALSg3', 'bcccsm11', 'MIROC5', 'GISSE21G', 'MIROCES2L', 'MRICGCM3', 'MIROC6', 'NorESM2MM', 'GFDLESM2M', 'GFDLESM2G', 'GISSE22G', 'GISSE21H', 'CAMSCSM1', 'GISSE2R', 'INM_CM48']"
   ]
  },
  {
   "cell_type": "code",
   "execution_count": 4,
   "id": "6d73a3bf-bb0d-46ca-84ef-30b46561db11",
   "metadata": {},
   "outputs": [],
   "source": [
    "# Calculate 5*5 bin array for variables (LWP, CCFs) in Sounthern Ocean Region:\n",
    "#..set are-mean range and define function\n",
    "s_range = arange(-90., 90., 5.) + 2.5  #..global-region latitude edge: (36)\n",
    "x_range = arange(-180., 180., 5.)  #..logitude sequences edge: number: 72\n",
    "y_range = arange(-85, -40., 5.) +2.5  #..southern-ocaen latitude edge: 9\n",
    "\n",
    "path_data = '/glade/scratch/chuyan/CMIP_output/CMIP_lrm_RESULT/'\n",
    "path_plot = '/glade/work/chuyan/Research/Cloud_CCFs_RMs/Tan_et_al_2023_JGR-A__/plot_file/'"
   ]
  },
  {
   "cell_type": "code",
   "execution_count": 5,
   "id": "3b400eed-a5ba-4fb1-a0be-145475615206",
   "metadata": {},
   "outputs": [],
   "source": [
    "# Read CMIP5/ CMIP6 cloud feedbacks data:\n",
    "\n",
    "fn_cmip5 = '/glade/work/chuyan/Research/Cloud_CCFs_RMs/Course_objective_ana/CMIP5_cld_fbks.nc'\n",
    "\n",
    "fn_cmip6 = '/glade/work/chuyan/Research/Cloud_CCFs_RMs/Course_objective_ana/CMIP6_cld_fbkd_July12.nc'\n",
    "\n",
    "# glob.glob(fn_cmip5)\n",
    "f_cmip5 = nc.Dataset(fn_cmip5, 'r')\n",
    "\n",
    "f_cmip6 = nc.Dataset(fn_cmip6, 'r')\n",
    "\n",
    "# print(f_cmip5.variables['model'])"
   ]
  },
  {
   "cell_type": "code",
   "execution_count": 6,
   "id": "718e3c85-0854-47d3-bd9d-d058a121cfe7",
   "metadata": {},
   "outputs": [
    {
     "name": "stdout",
     "output_type": "stream",
     "text": [
      "['ACCESS-CM2' 'ACCESS-ESM1-5' 'AWI-CM-1-1-MR' 'BCC-CSM2-MR' 'BCC-ESM1'\n",
      " 'CAMS-CSM1-0' 'CESM2' 'CESM2-FV2' 'CESM2-WACCM' 'CESM2-WACCM-FV2' 'CIESM'\n",
      " 'CMCC-CM2-SR5' 'CMCC-ESM2' 'CNRM-CM6-1' 'CNRM-CM6-1-HR' 'CNRM-ESM2-1'\n",
      " 'CanESM5' 'E3SM-1-0' 'EC-Earth3' 'EC-Earth3-AerChem' 'EC-Earth3-Veg'\n",
      " 'FGOALS-f3-L' 'FGOALS-g3' 'GFDL-CM4' 'GFDL-ESM4' 'GISS-E2-1-G'\n",
      " 'GISS-E2-1-H' 'GISS-E2-2-G' 'HadGEM3-GC31-LL' 'HadGEM3-GC31-MM'\n",
      " 'IITM-ESM' 'INM-CM4-8' 'INM-CM5-0' 'IPSL-CM5A2-INCA' 'IPSL-CM6A-LR'\n",
      " 'IPSL-CM6A-LR-INCA' 'KACE-1-0-G' 'MIROC-ES2L' 'MIROC6' 'MPI-ESM-1-2-HAM'\n",
      " 'MPI-ESM1-2-HR' 'MPI-ESM1-2-LR' 'MRI-ESM2-0' 'NESM3' 'NorCPM1'\n",
      " 'NorESM2-LM' 'NorESM2-MM' 'SAM0-UNICON' 'TaiESM1' 'UKESM1-0-LL'\n",
      " 'ACCESS1-0' 'ACCESS1-3' 'BNU-ESM' 'CCSM4' 'CNRM-CM5' 'CSIRO-Mk3-6-0'\n",
      " 'CanESM2' 'FGOALS-g2' 'FGOALS-s2' 'GFDL-CM3' 'GFDL-ESM2G' 'GFDL-ESM2M'\n",
      " 'GISS-E2-H' 'GISS-E2-R' 'HadGEM2-ES' 'IPSL-CM5A-LR' 'IPSL-CM5A-MR'\n",
      " 'IPSL-CM5B-LR' 'MIROC-ESM' 'MIROC5' 'MPI-ESM-LR' 'MPI-ESM-MR' 'MPI-ESM-P'\n",
      " 'MRI-CGCM3' 'NorESM1-M' 'NorESM1-ME' 'bcc-csm1-1-m' 'bcc-csm1-1' 'inmcm4']\n",
      "(90, 144, 79)\n",
      "(79, 90, 144)\n",
      "(79,)\n",
      "(50,)\n"
     ]
    }
   ],
   "source": [
    "# variables from Zelinka's SWfb files:\n",
    "lat_mz = np.asarray(f_cmip6.variables['latitude'])\n",
    "bound_lat_mz = np.asarray(f_cmip6.variables['bounds_latitude'])\n",
    "\n",
    "lon_mz = np.asarray(f_cmip6.variables['longitude'])\n",
    "bound_lon_mz = np.asarray(f_cmip6.variables['bounds_longitude'])\n",
    "\n",
    "# convert longitude matrix from (0, 360) to (-180., 180.):\n",
    "lon_mz2 = lon_mz[:]*1.\n",
    "bound_lon_mz2 = bound_lon_mz[:] * 1.\n",
    "lon_mz2[lon_mz2 > 180] = lon_mz2[lon_mz2 > 180]-360.\n",
    "bound_lon_mz2[bound_lon_mz2 > 180] = bound_lon_mz2[bound_lon_mz2 > 180] - 360\n",
    "ind_lon = argsort(lon_mz2)\n",
    "lon_mz2 = lon_mz2[ind_lon]\n",
    "\n",
    "bound_lon_mz2 = bound_lon_mz2[ind_lon, :]\n",
    "# print(lon_mz2)\n",
    "# print(bound_lon_mz2)\n",
    "# model_names:\n",
    "cmip6model_nas = f_cmip6.variables['model'].long_name\n",
    "cmip5model_nas = f_cmip5.variables['model'].long_name\n",
    "\n",
    "cmip6_nas = cmip6model_nas[1:-1].split()\n",
    "for i in range(len(cmip6_nas)):\n",
    "    cmip6_nas[i] = cmip6_nas[i][1:-1]\n",
    "    \n",
    "cmip5_nas = cmip5model_nas[1:-1].split()\n",
    "for i in range(len(cmip5_nas)):\n",
    "    cmip5_nas[i] = cmip5_nas[i][1:-1]\n",
    "# print(cmip6_nas)\n",
    "# print(cmip5_nas)\n",
    "\n",
    "model_nas = []\n",
    "model_nas = np.append(cmip6_nas, cmip5_nas)\n",
    "print(model_nas)\n",
    "\n",
    "# SW_cloud_Feedback:\n",
    "sw_cld_fb_mz = []\n",
    "\n",
    "cmip6_sw_cld_fb_mz = np.asarray(f_cmip6.variables['SWCLD_fbk6_map'])\n",
    "cmip5_sw_cld_fb_mz = np.asarray(f_cmip5.variables['SWCLD_fbk5_map'])\n",
    "\n",
    "sw_cld_fb_mz = np.append(cmip6_sw_cld_fb_mz, cmip5_sw_cld_fb_mz, axis = 2)\n",
    "print(sw_cld_fb_mz.shape)\n",
    "\n",
    "# Handle nan value\n",
    "sw_cld_fb_mz = np.where(sw_cld_fb_mz!=1.e+20, sw_cld_fb_mz, np.nan)\n",
    "ind_nan = np.isnan(sw_cld_fb_mz)\n",
    "# print(np.nonzero(ind_nan==True))  # #0\n",
    "\n",
    "reshape_sw_cld_fb = np.transpose(sw_cld_fb_mz,(2, 0, 1))\n",
    "\n",
    "print(reshape_sw_cld_fb.shape)\n",
    "# SO_sw_cldfb = area_mean(reshape_sw_cld_fb[:,(latsi0):(latsi1+1+1),:], y_range_swcld, x_range_swcld) # -85.S ~ -40.S\n",
    "SO_sw_cldfb = latitude_mean(reshape_sw_cld_fb[:,:,:], lat_mz, lon_mz, lat_range=[-85., -40.])\n",
    "# SO_sw_cldfb_5085 = area_mean(reshape_sw_cld_fb[:,(latsi0):(latsi2+1+1),:], y_range_swcld5085, x_range_swcld) # -85.S ~ -50.S\n",
    "SO_sw_cldfb_5085 = latitude_mean(reshape_sw_cld_fb[:,:,:], lat_mz, lon_mz, lat_range=[-85., -50.])\n",
    "# SO_sw_cldfb_4050 = area_mean(reshape_sw_cld_fb[:,(latsi2+1):(latsi1+1+1),:], y_range_swcld4050, x_range_swcld) # -50.S ~ -40.S\n",
    "SO_sw_cldfb_4050 = latitude_mean(reshape_sw_cld_fb[:,:,:], lat_mz, lon_mz, lat_range=[-50., -40.])\n",
    "\n",
    "print(SO_sw_cldfb.shape)\n",
    "\n",
    "# The 50 GCMs' SW_FB at different Latitude Bands:\n",
    "SW_FB_4085 = []\n",
    "SW_FB_5085 = []\n",
    "SW_FB_4050 = []\n",
    "\n",
    "for i in range(len(deck3)):\n",
    "    for j in range(len(SO_sw_cldfb)):\n",
    "        # 50\n",
    "        if (deck3[i]['modn']== model_nas[j]):\n",
    "            # if (i in modelconstraintbystep1_nas):\n",
    "            SW_FB_4085 = np.append(SW_FB_4085, SO_sw_cldfb[j])\n",
    "            SW_FB_4050 = np.append(SW_FB_4050, SO_sw_cldfb_4050[j])\n",
    "            SW_FB_5085 = np.append(SW_FB_5085, SO_sw_cldfb_5085[j])\n",
    "        \n",
    "print(SW_FB_4085.shape)"
   ]
  },
  {
   "cell_type": "code",
   "execution_count": 7,
   "id": "08e72ee9-ebbb-42c4-a0d4-1c53372c7a2e",
   "metadata": {},
   "outputs": [
    {
     "name": "stdout",
     "output_type": "stream",
     "text": [
      "511201962310544.9\n",
      "31504567559423.332\n",
      "0.17670354420260315 [-0.163578  0.26995 ]\n"
     ]
    }
   ],
   "source": [
    "# The area ratio of 3 latitude bands' to the global earth's surface area.:\n",
    "R = 6.3781 * 10**6\n",
    "S_global_sfc = 4 * np.pi * R**2\n",
    "print(S_global_sfc)\n",
    "\n",
    "S_4050_sfc = 2 * np.pi * R**2 * (np.sin(np.deg2rad(-40.)) - np.sin(np.deg2rad(-50.)))\n",
    "print(S_4050_sfc)\n",
    "S_5085_sfc = 2 * np.pi * R**2 * (np.sin(np.deg2rad(-50.)) - np.sin(np.deg2rad(-85.)))\n",
    "S_4085_sfc = 2 * np.pi * R**2 * (np.sin(np.deg2rad(-40.)) - np.sin(np.deg2rad(-85.)))\n",
    "\n",
    "ratio_4085 = S_4085_sfc / S_global_sfc\n",
    "ratio_4050 = S_4050_sfc / S_global_sfc\n",
    "ratio_5085 = S_5085_sfc / S_global_sfc\n",
    "\n",
    "print(ratio_4085, np.array([-0.92572, 1.52770]) * ratio_4085)"
   ]
  },
  {
   "cell_type": "code",
   "execution_count": 18,
   "id": "289a6bc9-4af8-4fd5-b64b-f590b0a8ac9f",
   "metadata": {},
   "outputs": [
    {
     "name": "stdout",
     "output_type": "stream",
     "text": [
      "0.0034954625518427065 0.039573489427333006\n",
      "-0.2770796771091642 0.2699504398454928\n"
     ]
    }
   ],
   "source": [
    "# the Constraint lists of models from FIG 9:\n",
    "\n",
    "# con_list_4085 = [2, 3, 5, 9, 12, 14, 18, 19, 21, 24, 26, 31, 33, 34, 35, 36, 37, 38, 39, 40, 45, 46, 48]\n",
    "# con_list_4050 = [8, 12, 14, 19, 20, 26, 31, 38, 41, 45, 46, 48, 49]\n",
    "# con_list_5085 = [1, 2, 3, 5, 8, 9, 11, 12, 14, 16, 19, 20, 26, 31, 34, 35, 37, 38, 39, 40, 45, 46, 48]\n",
    "con_list_4085 = [1, 2, 3, 5, 9, 11, 12, 14, 18, 21, 24, 26, 31, 33, 34, 35, 38, 45, 46, 48]\n",
    "con_list_4050 = [0, 8, 26, 31, 38, 45, 46, 48]\n",
    "con_list_5085 = [1, 2, 5, 9, 12, 14, 16, 26, 31, 35, 38, 45, 46, 48]\n",
    "\n",
    "print(np.min(SW_FB_4050[con_list_4050] * ratio_4050), np.max(SW_FB_4050[con_list_4050] * ratio_4050))\n",
    "print(np.min(SW_FB_4085 * ratio_4085), np.max(SW_FB_4085 * ratio_4085))"
   ]
  },
  {
   "cell_type": "code",
   "execution_count": 11,
   "id": "eb5645ce-248f-4849-8895-d3ea88673599",
   "metadata": {},
   "outputs": [
    {
     "name": "stdout",
     "output_type": "stream",
     "text": [
      "mean of SW_fb at 4085:  0.0189803876143099 ; The standard deviation of SW_fb at 4085:  0.11692780718501407\n",
      "mean of SW_fb at 4050:  0.016128995762730945 ; The standard deviation of SW_fb at 4050:  0.012262934571428748\n",
      "mean of SW_fb at 5085:  -0.07787706073734811 ; The standard deviation of SW_fb at 5085:  0.04587198228816262\n"
     ]
    }
   ],
   "source": [
    "# the area-weighted Latitudinal-averaged SW_FB: mean and uncertainty (standard deviation):\n",
    "\n",
    "Mean_weighted_SW_fb_4085 = np.mean(SW_FB_4085[con_list_4085] * ratio_4085)\n",
    "Std_weighted_SW_fb_4085 = np.std(SW_FB_4085[con_list_4085] * ratio_4085)\n",
    "\n",
    "print(\"mean of SW_fb at 4085: \", np.mean(SW_FB_4085[con_list_4085] * ratio_4085),\n",
    "       \"; The standard deviation of SW_fb at 4085: \", np.std(SW_FB_4085[con_list_4085] * ratio_4085))\n",
    "\n",
    "Mean_weighted_SW_fb_4050 = np.mean(SW_FB_4050[con_list_4050] * ratio_4050)\n",
    "Std_weighted_SW_fb_4050 = np.std(SW_FB_4050[con_list_4050] * ratio_4050)\n",
    "\n",
    "print(\"mean of SW_fb at 4050: \", np.mean(SW_FB_4050[con_list_4050] * ratio_4050),\n",
    "      \"; The standard deviation of SW_fb at 4050: \", np.std(SW_FB_4050[con_list_4050] * ratio_4050))\n",
    "\n",
    "Mean_weighted_SW_fb_5085 = np.mean(SW_FB_5085[con_list_5085] * ratio_5085)\n",
    "Std_weighted_SW_fb_5085 = np.std(SW_FB_5085[con_list_5085] * ratio_5085)\n",
    "\n",
    "print(\"mean of SW_fb at 5085: \", np.mean(SW_FB_5085[con_list_5085] * ratio_5085), \n",
    "      \"; The standard deviation of SW_fb at 5085: \", np.std(SW_FB_5085[con_list_5085] * ratio_5085))"
   ]
  },
  {
   "cell_type": "code",
   "execution_count": 12,
   "id": "3faa1bc9-522b-4b35-87e3-fa083eaa4d63",
   "metadata": {},
   "outputs": [
    {
     "name": "stdout",
     "output_type": "stream",
     "text": [
      "original range of 40-85^{o}S SW_FB: [-0.27707968  0.26995044]\n"
     ]
    }
   ],
   "source": [
    "# Compute the constraint range for 40-85^o S SW_FB by combine the (40-50) & (50-85) constraint ranges and propagae their uncertainty:\n",
    "# Assume Gaussian Distribution:\n",
    "\n",
    "Mean_weighted_SWfb_SO = np.mean(SW_FB_4085 * ratio_4085)\n",
    "Std_weighted_SWfb_SO = np.std(SW_FB_4085 * ratio_4085)\n",
    "\n",
    "Mean_Constraint_weighted_SWfb_SO = (Mean_weighted_SW_fb_4050 + Mean_weighted_SW_fb_5085)\n",
    "Std_Constraint_weighted_SWfb_SO = np.sqrt((1.* Std_weighted_SW_fb_4050**2 + 1.* Std_weighted_SW_fb_5085**2 + 2.*1.*1.*(pearsonr(SW_FB_4050, SW_FB_5085)[0] * Std_weighted_SW_fb_4050 * Std_weighted_SW_fb_5085)))\n",
    "\n",
    "print(\"original range of 40-85^{o}S SW_FB:\", np.array([np.min(SW_FB_4085 * ratio_4085), np.max(SW_FB_4085 * ratio_4085)]))"
   ]
  },
  {
   "cell_type": "code",
   "execution_count": 13,
   "id": "3fbde4f5-2b3f-4166-a7fc-bcf8c95212a7",
   "metadata": {},
   "outputs": [
    {
     "name": "stdout",
     "output_type": "stream",
     "text": [
      "95 % range of 40-85^{o}S SW_FB: [-0.26709747  0.20988793]\n",
      "95 % confidence range after observational constraint: [-0.16720805  0.04371192]\n"
     ]
    }
   ],
   "source": [
    "# Compute the 95% ranges of the 40-85^o S SW_FB:\n",
    "\n",
    "range_SWfb_SO_before = np.array([np.nanpercentile(SW_FB_4085 * ratio_4085, 2.5), np.nanpercentile(SW_FB_4085 * ratio_4085, 100 - 2.5)])\n",
    "range_SWfb_SO_after = np.array([Mean_Constraint_weighted_SWfb_SO - 1.96* Std_Constraint_weighted_SWfb_SO, Mean_Constraint_weighted_SWfb_SO + 1.96* Std_Constraint_weighted_SWfb_SO])\n",
    "\n",
    "print(\"95 % range of 40-85^{o}S SW_FB:\", range_SWfb_SO_before)\n",
    "print(\"95 % confidence range after observational constraint:\", range_SWfb_SO_after)"
   ]
  },
  {
   "cell_type": "code",
   "execution_count": 14,
   "id": "48867fb0-d189-4e29-ab08-1c9a022563d2",
   "metadata": {
    "tags": []
   },
   "outputs": [
    {
     "name": "stdout",
     "output_type": "stream",
     "text": [
      "[1, 2, 3, 5, 9, 11, 21]\n",
      " yes\n"
     ]
    }
   ],
   "source": [
    "# IS the high ECS model out of the 95% confidence range?\n",
    "model_withle95SOSWCLD = []\n",
    "for i in range(len(deck3)):\n",
    "    \n",
    "    if ((SW_FB_4085[i] * ratio_4085) >= 0.0501323):\n",
    "        \n",
    "        model_withle95SOSWCLD.append(i)\n",
    "\n",
    "print(model_withle95SOSWCLD)\n",
    "print(\" yes\")"
   ]
  },
  {
   "cell_type": "code",
   "execution_count": 15,
   "id": "5be4c421-c88b-41c9-82ed-23d335f964bd",
   "metadata": {},
   "outputs": [
    {
     "data": {
      "text/plain": [
       "<matplotlib.legend.Legend at 0x2b34f8b2e410>"
      ]
     },
     "execution_count": 15,
     "metadata": {},
     "output_type": "execute_result"
    },
    {
     "data": {
      "image/png": "[encoded data removed]",
      "text/plain": [
       "<Figure size 720x504 with 1 Axes>"
      ]
     },
     "metadata": {
      "needs_background": "light"
     },
     "output_type": "display_data"
    }
   ],
   "source": [
    "import seaborn as sns\n",
    "\n",
    "plt.figure(figsize = (10, 7))\n",
    "\n",
    "sns.kdeplot((SW_FB_4050[con_list_4050] * ratio_4050), common_norm = True, bw_adjust = 0.7, linewidth = 2.8, c='red', label = r\"$ kde\\ of\\ 40-50^{o}S\\ SW_{FB} $\")\n",
    "\n",
    "sns.kdeplot((SW_FB_5085[con_list_5085] * ratio_5085), common_norm = True, bw_adjust = 0.7, linewidth = 2.8, c='blue', label = r\"$ kde\\ of\\ 50-85^{o}S\\ SW_{FB} $\")\n",
    "\n",
    "plt.legend()"
   ]
  },
  {
   "cell_type": "code",
   "execution_count": 22,
   "id": "83c801c4-a555-49fb-952c-f04fff6e0e6f",
   "metadata": {},
   "outputs": [
    {
     "name": "stdout",
     "output_type": "stream",
     "text": [
      "(array([ 5,  7,  6, 10, 12,  2,  1,  3,  1,  2,  1]), array([-0.27707968, -0.22707968, -0.17707968, -0.12707968, -0.07707968,\n",
      "       -0.02707968,  0.02292032,  0.07292032,  0.12292032,  0.17292032,\n",
      "        0.22292032,  0.27292032]))\n"
     ]
    },
    {
     "data": {
      "text/plain": [
       "<matplotlib.legend.Legend at 0x2b34fc4cb390>"
      ]
     },
     "execution_count": 22,
     "metadata": {},
     "output_type": "execute_result"
    },
    {
     "data": {
      "image/png": "[encoded data removed]",
      "text/plain": [
       "<Figure size 576x432 with 1 Axes>"
      ]
     },
     "metadata": {
      "needs_background": "light"
     },
     "output_type": "display_data"
    }
   ],
   "source": [
    "# kde + histogram plot: \n",
    "import seaborn as sns\n",
    "parameters = {'axes.labelsize': 18, 'legend.fontsize': 14, \n",
    "         'axes.titlesize': 22,  'xtick.labelsize': 16,  'ytick.labelsize': 16}\n",
    "plt.rcParams.update(parameters)\n",
    "\n",
    "fig = plt.figure( figsize = (16.0/2., 12.0/2.))\n",
    "ax = fig.add_subplot(111)\n",
    "\n",
    "# Histogram:\n",
    "# bins:\n",
    "\n",
    "xinc = 0.05\n",
    "xbins = np.arange( np.min(SW_FB_4085 * ratio_4085), np.max(SW_FB_4085 * ratio_4085)+xinc, xinc )\n",
    "# print(xbins)\n",
    "his_SW_FB = np.histogram((SW_FB_4085 * ratio_4085), xbins)\n",
    "print(his_SW_FB)\n",
    "xvals = his_SW_FB[1][:-1]\n",
    "ax.bar(xvals + xinc/2, his_SW_FB[0] / 3.7, edgecolor = 'b', color = [], width = .03, label = r'$ SW_{FB}\\ prior $', linewidth = 1.5)  # y-axis Scaled by 4. for visulization.\n",
    "\n",
    "# # pdf continues line:\n",
    "# fvalsx = his_SW_FB[0].astype(float)/(np.size(SW_FB_4085 ) * xinc)\n",
    "# plt.plot(xvals + xinc/2, fvalsx, 'b', label = 'pdf', linewidth = 1.5)\n",
    "\n",
    "\n",
    "# Kernel density estimate (seaborn kdeplot function use a Gaussian kernel):\n",
    "\n",
    "kde_plot = sns.kdeplot((SW_FB_4085 * ratio_4085), common_norm = True, bw_adjust = 0.95, linewidth = 2.8, c = 'k', label = r'$ kde\\ of\\ SW_{FB}$')\n",
    "\n",
    "# get the kernel distribution curve line for later fill:\n",
    "kde_x, kde_y = kde_plot.lines[0].get_data()\n",
    "\n",
    "ax.axvline(Mean_weighted_SWfb_SO, c = 'k', linewidth = 3., linestyle = '--', label = r'$ Multimodel\\ Mean$', zorder = 97)\n",
    "\n",
    "ax.fill_between(kde_x, kde_y, where=(kde_x > np.min(range_SWfb_SO_before)) & (kde_x < np.max(range_SWfb_SO_before)) , \n",
    "                interpolate= False, facecolor = 'gray', alpha = 0.53, label = r'$ 95 \\%\\ range\\ before\\ constraint $', zorder = 98)\n",
    "ax.fill_between(kde_x, kde_y, where=(kde_x > np.min(range_SWfb_SO_after)) & (kde_x < np.max(range_SWfb_SO_after)) , \n",
    "                interpolate= False, facecolor = '#EF9A9A', alpha = 0.68, label = r'$ 95 \\%\\ confidence\\ after\\ constraint $', zorder = 99)\n",
    "\n",
    "ax.set_ylim(0, 15/3.7)\n",
    "ax.set_yticks(np.arange(0, 15/3.7, 2./3.7))\n",
    "ax.set_yticklabels(np.arange(0, 15, 2))\n",
    "\n",
    "ax.set_xlabel(r\"$ SW_{FB}\\ (40^{o} S - 85^{o} S)\\ [W/ m^{2}/ K] $\", fontsize = 15)\n",
    "ax.set_ylabel(r\"$ Number\\ of\\ GCMs $\", fontsize = 15)\n",
    "\n",
    "# change the order of legend:\n",
    "\n",
    "# get handles and labels\n",
    "handles, labels = plt.gca().get_legend_handles_labels()\n",
    "\n",
    "# specify order of items in legend\n",
    "order = [4, 0, 1, 2, 3]\n",
    "\n",
    "# add legend to plot\n",
    "plt.legend([handles[idx] for idx in order],[labels[idx] for idx in order], fontsize = 11)\n",
    "# plt.legend(fontsize = 11)\n",
    "\n",
    "# plt.savefig(path_plot+ \"Fig_9.jpg\", bbox_inches = \"tight\", dpi = 500)"
   ]
  },
  {
   "cell_type": "markdown",
   "id": "b2886f12-32e6-430a-bcf2-6805699ce510",
   "metadata": {},
   "source": []
  },
  {
   "cell_type": "code",
   "execution_count": null,
   "id": "3a16826f-e044-49ce-b1cd-43984b135a71",
   "metadata": {},
   "outputs": [],
   "source": []
  }
 ],
 "metadata": {
  "kernelspec": {
   "display_name": "NPL-3.7.9",
   "language": "python",
   "name": "npl-3.7.9"
  },
  "language_info": {
   "codemirror_mode": {
    "name": "ipython",
    "version": 3
   },
   "file_extension": ".py",
   "mimetype": "text/x-python",
   "name": "python",
   "nbconvert_exporter": "python",
   "pygments_lexer": "ipython3",
   "version": "3.7.9"
  }
 },
 "nbformat": 4,
 "nbformat_minor": 5
}
