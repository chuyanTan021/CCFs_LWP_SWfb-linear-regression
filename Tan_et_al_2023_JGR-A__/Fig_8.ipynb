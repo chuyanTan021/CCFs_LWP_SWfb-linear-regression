{
 "cells": [
  {
   "cell_type": "code",
   "execution_count": 1,
   "id": "8abdf2b7-646f-4d5d-8591-aef4ff794c0d",
   "metadata": {},
   "outputs": [],
   "source": [
    "import sys\n",
    "\n",
    "sys.path.append('/glade/work/chuyan/Research/Cloud_CCFs_RMs_Tan_et_al_2023_JGR-A__')"
   ]
  },
  {
   "cell_type": "code",
   "execution_count": 2,
   "id": "f070222e-708b-4353-95a4-482f1100dc16",
   "metadata": {},
   "outputs": [],
   "source": [
    "import netCDF4 as nc\n",
    "import numpy as np\n",
    "import matplotlib.pyplot as plt\n",
    "import xarray as xr\n",
    "# import PyNIO as Nio #deprecated\n",
    "import pandas as pd\n",
    "import glob\n",
    "from scipy.stats import *\n",
    "from copy import deepcopy\n",
    "from sklearn import linear_model\n",
    "from sklearn.metrics import mean_squared_error, r2_score\n",
    "from matplotlib.ticker import MaxNLocator\n",
    "from matplotlib.colors import BoundaryNorm\n",
    "\n",
    "from area_mean import *\n",
    "from scipy.optimize import curve_fit\n",
    "# import seaborn as sns\n",
    "from copy import deepcopy\n",
    "from useful_func_cy import *"
   ]
  },
  {
   "cell_type": "markdown",
   "id": "ba4d05f3-820e-4a61-9084-9681d4ea10f3",
   "metadata": {
    "tags": []
   },
   "source": [
    "### Fig 10:\n",
    "Probability density function of 40^{o}S - 85^{o}S SW_{FB} with constraint range:"
   ]
  },
  {
   "cell_type": "code",
   "execution_count": 3,
   "id": "a13fa441-ab03-4043-ac30-97588b3d7cf2",
   "metadata": {},
   "outputs": [],
   "source": [
    "# model list\n",
    "\n",
    "exp = 'piControl'\n",
    "    \n",
    "# CMIP6: 31 (30: BCCCSMCM2MR)\n",
    "AWICM11MR = {'modn': 'AWI-CM-1-1-MR', 'consort': 'AWI', 'cmip': 'cmip6',\n",
    "            'exper': exp, 'ensmem': 'r1i1p1f1', 'gg': 'gn', \"typevar\": 'Amon'}\n",
    "BCCESM1 = {'modn': 'BCC-ESM1', 'consort': 'BCC', 'cmip': 'cmip6',\n",
    "               'exper': exp, 'ensmem': 'r1i1p1f1', 'gg': 'gn', \"typevar\": 'Amon'}\n",
    "CAMSCSM1 = {'modn': 'CAMS-CSM1-0', 'consort': 'CAMS', 'cmip': 'cmip6',\n",
    "            'exper': exp, 'ensmem': 'r1i1p1f1', 'gg': 'gn', \"typevar\": 'Amon'}\n",
    "CMCCCM2SR5 = {'modn': 'CMCC-CM2-SR5', 'consort': 'CMCC', 'cmip': 'cmip6', \n",
    "             'exper': exp, 'ensmem': 'r1i1p1f1', 'gg': 'gn', \"typevar\": 'Amon'}\n",
    "CESM2 = {'modn': 'CESM2', 'consort': 'NCAR', 'cmip': 'cmip6',\n",
    "             'exper': exp, 'ensmem': 'r1i1p1f1', 'gg': 'gn', \"typevar\": 'Amon'}\n",
    "CESM2FV2 = {'modn': 'CESM2-FV2', 'consort': 'NCAR', 'cmip': 'cmip6',\n",
    "             'exper': exp, 'ensmem': 'r1i1p1f1', 'gg': 'gn', \"typevar\": 'Amon'}\n",
    "CESM2WACCM = {'modn': 'CESM2-WACCM', 'consort': 'NCAR', 'cmip': 'cmip6',\n",
    "             'exper': exp, 'ensmem': 'r1i1p1f1', 'gg': 'gn', \"typevar\": 'Amon'}\n",
    "CESM2WACCMFV2 = {'modn': 'CESM2-WACCM-FV2', 'consort': 'NCAR', 'cmip': 'cmip6',\n",
    "             'exper': exp, 'ensmem': 'r1i1p1f1', 'gg': 'gn', \"typevar\": 'Amon'}\n",
    "CNRMCM61 = {'modn': 'CNRM-CM6-1', 'consort': 'CNRM-CERFACS', 'cmip': 'cmip6', \n",
    "               'exper': exp, 'ensmem': 'r1i1p1f2', 'gg': 'gr', \"typevar\": 'Amon'}\n",
    "CNRMCM61HR = {'modn': 'CNRM-CM6-1-HR', 'consort': 'CNRM-CERFACS', 'cmip': 'cmip6',\n",
    "               'exper': exp, 'ensmem': 'r1i1p1f2', 'gg': 'gr', \"typevar\": 'Amon'}\n",
    "CNRMESM21 = {'modn': 'CNRM-ESM2-1', 'consort': 'CNRM-CERFACS', 'cmip': 'cmip6', \n",
    "                 'exper': exp, 'ensmem': 'r1i1p1f2', 'gg': 'gr', \"typevar\": 'Amon'}\n",
    "CanESM5 = {'modn': 'CanESM5', 'consort': 'CCCma', 'cmip': 'cmip6',\n",
    "               'exper': exp, 'ensmem': 'r1i1p1f1', 'gg': 'gn', \"typevar\": 'Amon'}\n",
    "E3SM10 = {'modn': 'E3SM-1-0', 'consort': 'E3SM-Project', 'cmip': 'cmip6',\n",
    "              'exper': exp, 'ensmem': 'r1i1p1f1', 'gg': 'gr', \"typevar\": 'Amon'}\n",
    "ECEarth3 = {'modn': 'EC-Earth3', 'consort': 'EC-Earth-Consortium', 'cmip': 'cmip6',\n",
    "       'exper': exp, 'ensmem': 'r1i1p1f1', 'gg': 'gr', \"typevar\": 'Amon'}\n",
    "ECEarth3Veg = {'modn': 'EC-Earth3-Veg', 'consort': 'EC-Earth-Consortium', 'cmip': 'cmip6',\n",
    "       'exper': exp, 'ensmem': 'r1i1p1f1', 'gg': 'gr', \"typevar\": 'Amon'}\n",
    "FGOALSg3 = {'modn': 'FGOALS-g3', 'consort': 'CAS', 'cmip': 'cmip6',\n",
    "                'exper': exp, 'ensmem': 'r1i1p1f1', 'gg': 'gn', \"typevar\": 'Amon'}\n",
    "GISSE21G = {'modn': 'GISS-E2-1-G', 'consort': 'NASA-GISS', 'cmip': 'cmip6',\n",
    "                'exper': exp, 'ensmem': 'r1i1p1f1', 'gg': 'gn', \"typevar\": 'Amon'}\n",
    "GISSE21H = {'modn': 'GISS-E2-1-H', 'consort': 'NASA-GISS', 'cmip': 'cmip6',\n",
    "                'exper': exp, 'ensmem': 'r1i1p1f1', 'gg': 'gn', \"typevar\": 'Amon'}\n",
    "GISSE22G = {'modn': 'GISS-E2-2-G', 'consort': 'NASA-GISS', 'cmip': 'cmip6',\n",
    "               'exper': exp, 'ensmem': 'r1i1p1f1', 'gg': 'gn', \"typevar\": 'Amon'}\n",
    "GFDLCM4 = {'modn': 'GFDL-CM4', 'consort': 'NOAA-GFDL', 'cmip': 'cmip6',\n",
    "           'exper': exp, 'ensmem': 'r1i1p1f1', 'gg': 'gr1', \"typevar\": 'Amon'}\n",
    "INM_CM48 = {'modn': 'INM-CM4-8', 'consort': 'INM', 'cmip': 'cmip6', \n",
    "                'exper': exp, 'ensmem': 'r1i1p1f1', 'gg': 'gr1', \"typevar\": 'Amon'}\n",
    "IPSLCM6ALR = {'modn': 'IPSL-CM6A-LR', 'consort': 'IPSL', 'cmip': 'cmip6',\n",
    "                  'exper': exp, 'ensmem': 'r1i1p1f1', 'gg': 'gr', \"typevar\": 'Amon'}\n",
    "MIROCES2L = {'modn': 'MIROC-ES2L', 'consort': 'MIROC', 'cmip': 'cmip6',\n",
    "              'exper': exp, 'ensmem': 'r1i1p1f2', 'gg': 'gn', \"typevar\": 'Amon'}\n",
    "MIROC6 = {'modn': 'MIROC6', 'consort': 'MIROC', 'cmip': 'cmip6',\n",
    "              'exper': exp, 'ensmem': 'r1i1p1f1', 'gg': 'gn', \"typevar\": 'Amon'}\n",
    "MPIESM12LR = {'modn': 'MPI-ESM1-2-LR', 'consort': 'MPI-M', 'cmip': 'cmip6',\n",
    "                  'exper': exp, 'ensmem': 'r1i1p1f1', 'gg': 'gn', \"typevar\": 'Amon'}\n",
    "MRIESM20 = {'modn': 'MRI-ESM2-0', 'consort': 'MRI', 'cmip': 'cmip6',\n",
    "                'exper': exp, 'ensmem': 'r1i1p1f1', 'gg': 'gn', \"typevar\": 'Amon'}\n",
    "NESM3 = {'modn': 'NESM3', 'consort': 'NUIST', 'cmip': 'cmip6', \n",
    "                 'exper': exp, 'ensmem': 'r1i1p1f1', 'gg': 'gn', \"typevar\": 'Amon'}\n",
    "NorESM2MM = {'modn': 'NorESM2-MM', 'consort': 'NCC', 'cmip': 'cmip6',\n",
    "                 'exper': exp, 'ensmem': 'r1i1p1f1', 'gg': 'gn', \"typevar\": 'Amon'}\n",
    "SAM0 = {'modn': 'SAM0-UNICON', 'consort': 'SNU', 'cmip': 'cmip6', \n",
    "            'exper': exp, 'ensmem': 'r1i1p1f1', 'gg': 'gn', \"typevar\": 'Amon'}\n",
    "TaiESM1 = {'modn': 'TaiESM1', 'consort': 'AS-RCEC', 'cmip': 'cmip6', \n",
    "                 'exper': exp, 'ensmem': 'r1i1p1f1', 'gg': 'gn', \"typevar\": 'Amon'}\n",
    "\n",
    "# CMIP5: 20 (18, ACCESS10, ACCESS13)\n",
    "ACCESS10 = {'modn': 'ACCESS1-0', 'consort': 'CSIRO-BOM', 'cmip': 'cmip5',   # 2-d (145) and 3-d (146) variables have different lat shape\n",
    "            'exper': exp, 'ensmem': 'r1i1p1', \"typevar\": 'Amon'}\n",
    "ACCESS13 = {'modn': 'ACCESS1-3', 'consort': 'CSIRO-BOM', 'cmip': 'cmip5',   # 2-d (145) and 3-d (146) variables have different lat shape\n",
    "            'exper': exp, 'ensmem': 'r1i1p1', \"typevar\": 'Amon'}\n",
    "BNUESM = {'modn': 'BNU-ESM', 'consort': 'BNU', 'cmip': 'cmip5',\n",
    "          'exper': exp, 'ensmem': 'r1i1p1', \"typevar\": 'Amon'}\n",
    "CCSM4 = {'modn': 'CCSM4', 'consort': 'NCAR', 'cmip': 'cmip5',\n",
    "             'exper': exp, 'ensmem': 'r1i1p1', \"typevar\": 'Amon'}\n",
    "CNRMCM5 = {'modn': 'CNRM-CM5', 'consort': 'CNRM-CERFACS', 'cmip': 'cmip5',\n",
    "            'exper': exp, 'ensmem': 'r1i1p1', \"typevar\": 'Amon'}\n",
    "CSIRO_Mk360 = {'modn': 'CSIRO-Mk3-6-0', 'consort': 'CSIRO-QCCCE', 'cmip': 'cmip5',\n",
    "            'exper': exp, 'ensmem': 'r1i1p1', \"typevar\": 'Amon'}\n",
    "CanESM2 = {'modn': 'CanESM2', 'consort': 'CCCma', 'cmip': 'cmip5',\n",
    "            'exper': exp, 'ensmem': 'r1i1p1', \"typevar\": 'Amon'}\n",
    "FGOALSg2 = {'modn': 'FGOALS-g2', 'consort': 'LASG-CESS', 'cmip': 'cmip5',   # missing 'prw' in piControl\n",
    "            'exper': exp, 'ensmem': 'r1i1p1', \"typevar\": 'Amon'}\n",
    "FGOALSs2 = {'modn': 'FGOALS-s2', 'consort': 'LASG-IAP', 'cmip': 'cmip5',\n",
    "            'exper': exp, 'ensmem': 'r1i1p1', \"typevar\": 'Amon'}\n",
    "GFDLCM3 = {'modn': 'GFDL-CM3', 'consort': 'NOAA-GFDL', 'cmip': 'cmip5',\n",
    "            'exper': exp, 'ensmem': 'r1i1p1', \"typevar\": 'Amon'}\n",
    "GISSE2H = {'modn': 'GISS-E2-H', 'consort': 'NASA-GISS', 'cmip': 'cmip5',\n",
    "           'exper': exp, 'ensmem': 'r1i1p1', \"typevar\": 'Amon'}\n",
    "GISSE2R = {'modn': 'GISS-E2-R', 'consort': 'NASA-GISS', 'cmip': 'cmip5',\n",
    "           'exper': exp, 'ensmem': 'r1i1p1', \"typevar\": 'Amon'}\n",
    "IPSLCM5ALR = {'modn': 'IPSL-CM5A-LR', 'consort': 'IPSL', 'cmip': 'cmip5',\n",
    "               'exper': exp, 'ensmem': 'r1i1p1', \"typevar\": 'Amon'}\n",
    "MIROC5 = {'modn': 'MIROC5', 'consort': 'MIROC', 'cmip': 'cmip5',\n",
    "            'exper': exp, 'ensmem': 'r1i1p1', \"typevar\": 'Amon'}\n",
    "MPIESMMR = {'modn': 'MPI-ESM-MR', 'consort': 'MPI-M', 'cmip': 'cmip5',\n",
    "            'exper': exp, 'ensmem': 'r1i1p1', \"typevar\": 'Amon'}\n",
    "NorESM1M = {'modn': 'NorESM1-M', 'consort': 'NCC', 'cmip': 'cmip5',\n",
    "            'exper': exp, 'ensmem': 'r1i1p1', \"typevar\": 'Amon'}\n",
    "MIROCESM = {'modn': 'MIROC-ESM', 'consort': 'MIROC', 'cmip': 'cmip5', \n",
    "            'exper': exp, 'ensmem': 'r1i1p1', \"typevar\": 'Amon'}\n",
    "MRICGCM3 = {'modn': 'MRI-CGCM3', 'consort': 'MRI', 'cmip': 'cmip5', \n",
    "            'exper': exp, 'ensmem': 'r1i1p1', \"typevar\": 'Amon'}\n",
    "MPIESMLR = {'modn': 'MPI-ESM-LR', 'consort': 'MPI-M', 'cmip': 'cmip5',\n",
    "            'exper': exp, 'ensmem': 'r1i1p1', \"typevar\": 'Amon'}\n",
    "bcccsm11 = {'modn': 'bcc-csm1-1', 'consort': 'BCC', 'cmip': 'cmip5', \n",
    "            'exper': exp, 'ensmem': 'r1i1p1', \"typevar\": 'Amon'}\n",
    "GFDLESM2G = {'modn': 'GFDL-ESM2G', 'consort': 'NOAA-GFDL', 'cmip': 'cmip5', \n",
    "            'exper': exp, 'ensmem': 'r1i1p1', \"typevar\": 'Amon'}\n",
    "GFDLESM2M = {'modn': 'GFDL-ESM2M', 'consort': 'NOAA-GFDL', 'cmip': 'cmip5', \n",
    "           'exper': exp, 'ensmem': 'r1i1p1', \"typevar\": 'Amon'}\n",
    "\n",
    "# cmip5 + cmip6 (50):\n",
    "deck3 = [CESM2WACCMFV2, CESM2FV2, TaiESM1, CESM2WACCM, CESM2, SAM0, E3SM10, CMCCCM2SR5, NorESM1M, GFDLCM3, CCSM4, GISSE2H, ECEarth3, GISSE21H, BNUESM, GFDLCM4, CNRMESM21, ECEarth3Veg, IPSLCM5ALR, BCCESM1, CNRMCM61, CNRMCM61HR, MRICGCM3, FGOALSg2, GISSE22G, IPSLCM6ALR, GISSE2R, GISSE21G, bcccsm11, NESM3, NorESM2MM, MRIESM20, CanESM5, FGOALSg3, MIROCES2L, MIROC5, CanESM2, AWICM11MR, MIROC6, FGOALSs2, CSIRO_Mk360, INM_CM48, CNRMCM5, CAMSCSM1, MIROCESM, GFDLESM2G, MPIESM12LR, MPIESMLR, GFDLESM2M, MPIESMMR]\n",
    "deck3_nas = ['CESM2WACCMFV2', 'CESM2FV2', 'TaiESM1', 'CESM2WACCM', 'CESM2', 'SAM0', 'E3SM10', 'CMCCCM2SR5', 'NorESM1M', 'GFDLCM3', 'CCSM4', 'GISSE2H', 'ECEarth3', 'GISSE21H', 'BNUESM', 'GFDLCM4', 'CNRMESM21', 'ECEarth3Veg', 'IPSLCM5ALR', 'BCCESM1', 'CNRMCM61', 'CNRMCM61HR', 'MRICGCM3', 'FGOALSg2', 'GISSE22G', 'IPSLCM6ALR', 'GISSE2R', 'GISSE21G', 'bcccsm11', 'NESM3', 'NorESM2MM', 'MRIESM20', 'CanESM5', 'FGOALSg3', 'MIROCES2L', 'MIROC5', 'CanESM2', 'AWICM11MR', 'MIROC6', 'FGOALSs2', 'CSIRO_Mk360', 'INM_CM48', 'CNRMCM5', 'CAMSCSM1', 'MIROCESM', 'GFDLESM2G', 'MPIESM12LR', 'MPIESMLR', 'GFDLESM2M', 'MPIESMMR']"
   ]
  },
  {
   "cell_type": "code",
   "execution_count": 4,
   "id": "6d73a3bf-bb0d-46ca-84ef-30b46561db11",
   "metadata": {},
   "outputs": [],
   "source": [
    "# Calculate 5*5 bin array for variables (LWP, CCFs) in Sounthern Ocean Region:\n",
    "#..set are-mean range and define function\n",
    "s_range = arange(-90., 90., 5.) + 2.5  #..global-region latitude edge: (36)\n",
    "x_range = arange(-180., 180., 5.)  #..logitude sequences edge: number: 72\n",
    "y_range = arange(-85, -40., 5.) +2.5  #..southern-ocaen latitude edge: 9\n",
    "\n",
    "path_data = '/glade/scratch/chuyan/CMIP_output/CMIP_lrm_RESULT/'\n",
    "path_plot = '/glade/work/chuyan/Research/Cloud_CCFs_RMs/Tan_et_al_2023_JGR-A__/plot_file/'"
   ]
  },
  {
   "cell_type": "code",
   "execution_count": 5,
   "id": "3b400eed-a5ba-4fb1-a0be-145475615206",
   "metadata": {},
   "outputs": [],
   "source": [
    "# Read CMIP5/ CMIP6 cloud feedbacks data:\n",
    "\n",
    "fn_cmip5 = '/glade/work/chuyan/Research/Cloud_CCFs_RMs/Course_objective_ana/CMIP5_cld_fbks.nc'\n",
    "\n",
    "fn_cmip6 = '/glade/work/chuyan/Research/Cloud_CCFs_RMs/Course_objective_ana/CMIP6_cld_fbkd_July12.nc'\n",
    "\n",
    "# glob.glob(fn_cmip5)\n",
    "f_cmip5 = nc.Dataset(fn_cmip5, 'r')\n",
    "\n",
    "f_cmip6 = nc.Dataset(fn_cmip6, 'r')\n",
    "\n",
    "# print(f_cmip5.variables['model'])"
   ]
  },
  {
   "cell_type": "code",
   "execution_count": 6,
   "id": "718e3c85-0854-47d3-bd9d-d058a121cfe7",
   "metadata": {},
   "outputs": [
    {
     "name": "stdout",
     "output_type": "stream",
     "text": [
      "['ACCESS-CM2' 'ACCESS-ESM1-5' 'AWI-CM-1-1-MR' 'BCC-CSM2-MR' 'BCC-ESM1'\n",
      " 'CAMS-CSM1-0' 'CESM2' 'CESM2-FV2' 'CESM2-WACCM' 'CESM2-WACCM-FV2' 'CIESM'\n",
      " 'CMCC-CM2-SR5' 'CMCC-ESM2' 'CNRM-CM6-1' 'CNRM-CM6-1-HR' 'CNRM-ESM2-1'\n",
      " 'CanESM5' 'E3SM-1-0' 'EC-Earth3' 'EC-Earth3-AerChem' 'EC-Earth3-Veg'\n",
      " 'FGOALS-f3-L' 'FGOALS-g3' 'GFDL-CM4' 'GFDL-ESM4' 'GISS-E2-1-G'\n",
      " 'GISS-E2-1-H' 'GISS-E2-2-G' 'HadGEM3-GC31-LL' 'HadGEM3-GC31-MM'\n",
      " 'IITM-ESM' 'INM-CM4-8' 'INM-CM5-0' 'IPSL-CM5A2-INCA' 'IPSL-CM6A-LR'\n",
      " 'IPSL-CM6A-LR-INCA' 'KACE-1-0-G' 'MIROC-ES2L' 'MIROC6' 'MPI-ESM-1-2-HAM'\n",
      " 'MPI-ESM1-2-HR' 'MPI-ESM1-2-LR' 'MRI-ESM2-0' 'NESM3' 'NorCPM1'\n",
      " 'NorESM2-LM' 'NorESM2-MM' 'SAM0-UNICON' 'TaiESM1' 'UKESM1-0-LL'\n",
      " 'ACCESS1-0' 'ACCESS1-3' 'BNU-ESM' 'CCSM4' 'CNRM-CM5' 'CSIRO-Mk3-6-0'\n",
      " 'CanESM2' 'FGOALS-g2' 'FGOALS-s2' 'GFDL-CM3' 'GFDL-ESM2G' 'GFDL-ESM2M'\n",
      " 'GISS-E2-H' 'GISS-E2-R' 'HadGEM2-ES' 'IPSL-CM5A-LR' 'IPSL-CM5A-MR'\n",
      " 'IPSL-CM5B-LR' 'MIROC-ESM' 'MIROC5' 'MPI-ESM-LR' 'MPI-ESM-MR' 'MPI-ESM-P'\n",
      " 'MRI-CGCM3' 'NorESM1-M' 'NorESM1-ME' 'bcc-csm1-1-m' 'bcc-csm1-1' 'inmcm4']\n",
      "(90, 144, 79)\n",
      "(79, 90, 144)\n",
      "(79,)\n",
      "(50,)\n"
     ]
    }
   ],
   "source": [
    "# variables from Zelinka's SWfb files:\n",
    "lat_mz = np.asarray(f_cmip6.variables['latitude'])\n",
    "bound_lat_mz = np.asarray(f_cmip6.variables['bounds_latitude'])\n",
    "\n",
    "lon_mz = np.asarray(f_cmip6.variables['longitude'])\n",
    "bound_lon_mz = np.asarray(f_cmip6.variables['bounds_longitude'])\n",
    "\n",
    "# convert longitude matrix from (0, 360) to (-180., 180.):\n",
    "lon_mz2 = lon_mz[:]*1.\n",
    "bound_lon_mz2 = bound_lon_mz[:] * 1.\n",
    "lon_mz2[lon_mz2 > 180] = lon_mz2[lon_mz2 > 180]-360.\n",
    "bound_lon_mz2[bound_lon_mz2 > 180] = bound_lon_mz2[bound_lon_mz2 > 180] - 360\n",
    "ind_lon = argsort(lon_mz2)\n",
    "lon_mz2 = lon_mz2[ind_lon]\n",
    "\n",
    "bound_lon_mz2 = bound_lon_mz2[ind_lon, :]\n",
    "# print(lon_mz2)\n",
    "# print(bound_lon_mz2)\n",
    "# model_names:\n",
    "cmip6model_nas = f_cmip6.variables['model'].long_name\n",
    "cmip5model_nas = f_cmip5.variables['model'].long_name\n",
    "\n",
    "cmip6_nas = cmip6model_nas[1:-1].split()\n",
    "for i in range(len(cmip6_nas)):\n",
    "    cmip6_nas[i] = cmip6_nas[i][1:-1]\n",
    "    \n",
    "cmip5_nas = cmip5model_nas[1:-1].split()\n",
    "for i in range(len(cmip5_nas)):\n",
    "    cmip5_nas[i] = cmip5_nas[i][1:-1]\n",
    "# print(cmip6_nas)\n",
    "# print(cmip5_nas)\n",
    "\n",
    "model_nas = []\n",
    "model_nas = np.append(cmip6_nas, cmip5_nas)\n",
    "print(model_nas)\n",
    "\n",
    "# SW_cloud_Feedback:\n",
    "sw_cld_fb_mz = []\n",
    "\n",
    "cmip6_sw_cld_fb_mz = np.asarray(f_cmip6.variables['SWCLD_fbk6_map'])\n",
    "cmip5_sw_cld_fb_mz = np.asarray(f_cmip5.variables['SWCLD_fbk5_map'])\n",
    "\n",
    "sw_cld_fb_mz = np.append(cmip6_sw_cld_fb_mz, cmip5_sw_cld_fb_mz, axis = 2)\n",
    "print(sw_cld_fb_mz.shape)\n",
    "\n",
    "# Handle nan value\n",
    "sw_cld_fb_mz = np.where(sw_cld_fb_mz!=1.e+20, sw_cld_fb_mz, np.nan)\n",
    "ind_nan = np.isnan(sw_cld_fb_mz)\n",
    "# print(np.nonzero(ind_nan==True))  # #0\n",
    "\n",
    "reshape_sw_cld_fb = np.transpose(sw_cld_fb_mz,(2, 0, 1))\n",
    "\n",
    "print(reshape_sw_cld_fb.shape)\n",
    "# SO_sw_cldfb = area_mean(reshape_sw_cld_fb[:,(latsi0):(latsi1+1+1),:], y_range_swcld, x_range_swcld) # -85.S ~ -40.S\n",
    "SO_sw_cldfb = latitude_mean(reshape_sw_cld_fb[:,:,:], lat_mz, lon_mz, lat_range=[-85., -40.])\n",
    "# SO_sw_cldfb_5085 = area_mean(reshape_sw_cld_fb[:,(latsi0):(latsi2+1+1),:], y_range_swcld5085, x_range_swcld) # -85.S ~ -50.S\n",
    "SO_sw_cldfb_5085 = latitude_mean(reshape_sw_cld_fb[:,:,:], lat_mz, lon_mz, lat_range=[-85., -50.])\n",
    "# SO_sw_cldfb_4050 = area_mean(reshape_sw_cld_fb[:,(latsi2+1):(latsi1+1+1),:], y_range_swcld4050, x_range_swcld) # -50.S ~ -40.S\n",
    "SO_sw_cldfb_4050 = latitude_mean(reshape_sw_cld_fb[:,:,:], lat_mz, lon_mz, lat_range=[-50., -40.])\n",
    "\n",
    "print(SO_sw_cldfb.shape)\n",
    "\n",
    "# The 50 GCMs' SW_FB at different Latitude Bands:\n",
    "SW_FB_4085 = []\n",
    "SW_FB_5085 = []\n",
    "SW_FB_4050 = []\n",
    "\n",
    "for i in range(len(deck3)):\n",
    "    for j in range(len(SO_sw_cldfb)):\n",
    "        # 50\n",
    "        if (deck3[i]['modn']== model_nas[j]):\n",
    "            # if (i in modelconstraintbystep1_nas):\n",
    "            SW_FB_4085 = np.append(SW_FB_4085, SO_sw_cldfb[j])\n",
    "            SW_FB_4050 = np.append(SW_FB_4050, SO_sw_cldfb_4050[j])\n",
    "            SW_FB_5085 = np.append(SW_FB_5085, SO_sw_cldfb_5085[j])\n",
    "        \n",
    "print(SW_FB_4085.shape)"
   ]
  },
  {
   "cell_type": "markdown",
   "id": "ec9bfb05-a0af-44ec-83f4-ca9282d2c443",
   "metadata": {
    "tags": []
   },
   "source": [
    "# sorted SO SW cloud feedback:"
   ]
  },
  {
   "cell_type": "code",
   "execution_count": 7,
   "id": "f60257a3-7d65-4d10-ac33-9cd6226dc6c5",
   "metadata": {
    "collapsed": true,
    "jupyter": {
     "outputs_hidden": true
    },
    "tags": []
   },
   "outputs": [
    {
     "name": "stdout",
     "output_type": "stream",
     "text": [
      "[0, 1, 2, 3, 4, 5, 6, 7, 8, 9, 10, 11, 12, 13, 14, 15, 16, 17, 18, 19, 20, 21, 22, 23, 24, 25, 26, 27, 28, 29, 30, 31, 32, 33, 34, 35, 36, 37, 38, 39, 40, 41, 42, 43, 44, 45, 46, 47, 48, 49]\n",
      "[0, 1, 2, 3, 4, 5, 6, 7, 8, 9, 10, 11, 12, 13, 14, 15, 16, 17, 18, 19, 20, 21, 22, 23, 24, 25, 26, 27, 28, 29, 30, 31, 32, 33, 34, 35, 36, 37, 38, 39, 40, 41, 42, 43, 44, 45, 46, 47, 48, 49]\n"
     ]
    }
   ],
   "source": [
    "sorted_SOSWCLD_index = sorted(range(50), key = lambda index: SW_FB_4085[index], reverse = True)\n",
    "print(sorted_SOSWCLD_index)\n",
    "\n",
    "ordinal_sorted_SOSWCLD = [sorted_SOSWCLD_index.index(i) for i in range(50)]\n",
    "\n",
    "print(ordinal_sorted_SOSWCLD)"
   ]
  },
  {
   "cell_type": "code",
   "execution_count": 15,
   "id": "78d665fa-6751-4da3-952f-c896340b5a1f",
   "metadata": {
    "collapsed": true,
    "jupyter": {
     "outputs_hidden": true
    },
    "tags": []
   },
   "outputs": [
    {
     "name": "stdout",
     "output_type": "stream",
     "text": [
      "[ 1.52770246  1.21259446  1.10238329  0.76889119  0.66571835  0.57282465\n",
      "  0.57005512  0.23299922 -0.04742896 -0.07059348 -0.15410108 -0.16023765\n",
      " -0.23915645 -0.23981515 -0.28330926 -0.30823915 -0.31042399 -0.33767653\n",
      " -0.34825546 -0.37056604 -0.37128178 -0.3963994  -0.4590894  -0.46449433\n",
      " -0.48081179 -0.48137357 -0.59894597 -0.60610591 -0.66276868 -0.67519632\n",
      " -0.68003979 -0.6858539  -0.7338598  -0.81323349 -0.86082588 -0.92571557\n",
      " -0.94813628 -0.95840175 -1.02865439 -1.03569614 -1.03899643 -1.05858408\n",
      " -1.07141221 -1.22398444 -1.25014399 -1.46031041 -1.47836139 -1.49109229\n",
      " -1.5174983  -1.56804822]\n",
      "[1.527702463828204, 1.2125944572891378, 1.10238329460617, 0.8478378247842285, 0.768891193158363, 0.6825341865974718, 0.6657183543902879, 0.6184093724428994, 0.5804278721707453, 0.5728246466396423, 0.5700551196330336, 0.5250000317528501, 0.3836103396795972, 0.2329992179606706, 0.21167517085656323, 0.0987581734580207, 0.029139206226381244, -0.04742895812892245, -0.048667377806987176, -0.07059348059550354, -0.12152192067785351, -0.15410107535731563, -0.16023764979272903, -0.23915645144877945, -0.23981515101868076, -0.24691034939774495, -0.27472570034596244, -0.283309260516837, -0.3082391501249429, -0.3104239898401862, -0.3199650474040396, -0.3376765270459, -0.33960885388040446, -0.34825545749918124, -0.3705660432605095, -0.371281778104308, -0.3963994022625637, -0.409480980014722, -0.4482112733199354, -0.4590894048540371, -0.4644943258953327, -0.47747133248691936, -0.48081179026871795, -0.4813735723798213, -0.49844409063730727, -0.5000770086330045, -0.5440853141412342, -0.5989459654094748, -0.606105906303813, -0.6557608583968363, -0.6627686819275085, -0.6731954286598235, -0.6751963238390071, -0.6800397909713, -0.6858538960044719, -0.7338598041850481, -0.7498236817400541, -0.7677008447993066, -0.8132334914573077, -0.8608258782438867, -0.9257155717203234, -0.9435332660270727, -0.948136275350071, -0.9584017518598544, -0.9824199711530962, -1.0286543937752448, -1.0356961382562262, -1.0389964314475326, -1.058584082680094, -1.0714122061447842, -1.2239844399478148, -1.250143986649606, -1.2587798792561213, -1.4603104127912814, -1.4783613873018502, -1.4910922915783327, -1.5174983021864579, -1.566162328378461, -1.568048215215608]\n"
     ]
    }
   ],
   "source": [
    "deck4 = []\n",
    "deck_nas4 = []\n",
    "\n",
    "for i in range(len(deck3)):\n",
    "    \n",
    "    # print(deck3_nas[sorted_SOSWCLD_index[i]])\n",
    "    deck4.append(deck3[sorted_SOSWCLD_index[i]])\n",
    "    deck_nas4.append(deck3_nas[sorted_SOSWCLD_index[i]])\n",
    "    \n",
    "print(SW_FB_4085[sorted_SOSWCLD_index])\n",
    "\n",
    "print(sorted(SO_sw_cldfb, reverse = True))"
   ]
  },
  {
   "cell_type": "code",
   "execution_count": 24,
   "id": "035248c0-d708-4b74-aa71-6f7250f34de9",
   "metadata": {
    "collapsed": true,
    "jupyter": {
     "outputs_hidden": true
    },
    "tags": []
   },
   "outputs": [
    {
     "name": "stdout",
     "output_type": "stream",
     "text": [
      "1 CESM2-WACCM-FV2 1.527702463828204  |  0.2699504398454928\n",
      "2 CESM2-FV2 1.2125944572891378  |  0.21426973828342274\n",
      "3 TaiESM1 1.10238329460617  |  0.19479503522665265\n",
      "4 CESM2-WACCM 0.768891193158363  |  0.13586579893725106\n",
      "5 CESM2 0.6657183543902879  |  0.11763479266148846\n",
      "6 SAM0-UNICON 0.5728246466396423  |  0.10122014526782856\n",
      "7 E3SM-1-0 0.5700551196330336  |  0.10073076002999597\n",
      "8 CMCC-CM2-SR5 0.2329992179606706  |  0.041171787610085324\n",
      "9 NorESM1-M -0.04742895812892245  |  -0.008380864999217462\n",
      "10 GFDL-CM3 -0.07059348059550354  |  -0.012474118218823167\n",
      "11 CCSM4 -0.15410107535731563  |  -0.0272302061810701\n",
      "12 GISS-E2-H -0.16023764979272903  |  -0.028314560633070737\n",
      "13 EC-Earth3 -0.23915645144877945  |  -0.04225979258991711\n",
      "14 GISS-E2-1-H -0.23981515101868076  |  -0.0423761871384834\n",
      "15 BNU-ESM -0.283309260516837  |  -0.050061750438743724\n",
      "16 GFDL-CM4 -0.3082391501249429  |  -0.05446695028907567\n",
      "17 CNRM-ESM2-1 -0.3104239898401862  |  -0.054853019210273773\n",
      "18 EC-Earth3-Veg -0.3376765270459  |  -0.05966863912303671\n",
      "19 IPSL-CM5A-LR -0.34825545749918124  |  -0.06153797362800435\n",
      "20 BCC-ESM1 -0.3705660432605095  |  -0.0654803332052672\n",
      "21 CNRM-CM6-1 -0.371281778104308  |  -0.06560680608887569\n",
      "22 CNRM-CM6-1-HR -0.3963994022625637  |  -0.0700451792995884\n",
      "23 MRI-CGCM3 -0.4590894048540371  |  -0.08112272494357212\n",
      "24 FGOALS-g2 -0.4644943258953327  |  -0.08207779364770428\n",
      "25 GISS-E2-2-G -0.48081179026871795  |  -0.08496114743488116\n",
      "26 IPSL-CM6A-LR -0.4813735723798213  |  -0.08506041632498273\n",
      "27 GISS-E2-R -0.5989459654094748  |  -0.10583587487370394\n",
      "28 GISS-E2-1-G -0.606105906303813  |  -0.10710106180601466\n",
      "29 bcc-csm1-1 -0.6627686819275085  |  -0.11711357508307853\n",
      "30 NESM3 -0.6751963238390071  |  -0.11930958345492114\n",
      "31 NorESM2-MM -0.6800397909713  |  -0.12016544126342611\n",
      "32 MRI-ESM2-0 -0.6858538960044719  |  -0.12119281422915378\n",
      "33 CanESM5 -0.7338598041850481  |  -0.12967562834732635\n",
      "34 FGOALS-g3 -0.8132334914573077  |  -0.14370124020476366\n",
      "35 MIROC-ES2L -0.8608258782438867  |  -0.1521109836270133\n",
      "36 MIROC5 -0.9257155717203234  |  -0.1635772224465202\n",
      "37 CanESM2 -0.948136275350071  |  -0.16753904024141278\n",
      "38 AWI-CM-1-1-MR -0.9584017518598544  |  -0.16935298632362009\n",
      "39 MIROC6 -1.0286543937752448  |  -0.1817668771396659\n",
      "40 FGOALS-s2 -1.0356961382562262  |  -0.18301117834682445\n",
      "41 CSIRO-Mk3-6-0 -1.0389964314475326  |  -0.18359435185063602\n",
      "42 INM-CM4-8 -1.058584082680094  |  -0.18705555924603412\n",
      "43 CNRM-CM5 -1.0714122061447842  |  -0.18932233412771343\n",
      "44 CAMS-CSM1-0 -1.2239844399478148  |  -0.21628238858761714\n",
      "45 MIROC-ESM -1.250143986649606  |  -0.22090487320455718\n",
      "46 GFDL-ESM2G -1.4603104127912814  |  -0.25804202557618583\n",
      "47 MPI-ESM1-2-LR -1.4783613873018502  |  -0.2612316967485142\n",
      "48 MPI-ESM-LR -1.4910922915783327  |  -0.26348129265507275\n",
      "49 GFDL-ESM2M -1.5174983021864579  |  -0.26814732831778\n",
      "50 MPI-ESM-MR -1.568048215215608  |  -0.2770796771091642\n"
     ]
    }
   ],
   "source": [
    "for i in range(len(deck_nas4)):\n",
    "    \n",
    "    print(i+1, deck4[i]['modn'],  SW_FB_4085[i], ' | ',  SW_FB_4085[i]*ratio_4085)"
   ]
  },
  {
   "cell_type": "markdown",
   "id": "1da04243-5b7a-417a-a6e1-edd2e8d88859",
   "metadata": {
    "tags": []
   },
   "source": [
    "# Constraint on 40-50 & 50-85 latitude band averaged shortwave cloud feedback:"
   ]
  },
  {
   "cell_type": "code",
   "execution_count": 7,
   "id": "08e72ee9-ebbb-42c4-a0d4-1c53372c7a2e",
   "metadata": {},
   "outputs": [
    {
     "name": "stdout",
     "output_type": "stream",
     "text": [
      "511201962310544.9\n",
      "31504567559423.332\n"
     ]
    }
   ],
   "source": [
    "# The area ratio of 3 latitude bands' to the global earth's surface area.:\n",
    "R = 6.3781 * 10**6\n",
    "S_global_sfc = 4 * np.pi * R**2\n",
    "print(S_global_sfc)\n",
    "\n",
    "S_4050_sfc = 2 * np.pi * R**2 * (np.sin(np.deg2rad(-40.)) - np.sin(np.deg2rad(-50.)))\n",
    "print(S_4050_sfc)\n",
    "S_5085_sfc = 2 * np.pi * R**2 * (np.sin(np.deg2rad(-50.)) - np.sin(np.deg2rad(-85.)))\n",
    "S_4085_sfc = 2 * np.pi * R**2 * (np.sin(np.deg2rad(-40.)) - np.sin(np.deg2rad(-85.)))\n",
    "\n",
    "ratio_4085 = S_4085_sfc / S_global_sfc\n",
    "ratio_4050 = S_4050_sfc / S_global_sfc\n",
    "ratio_5085 = S_5085_sfc / S_global_sfc\n",
    "\n",
    "# print(ratio_4085, np.array([-0.92572, 1.52770]) * ratio_4085)"
   ]
  },
  {
   "cell_type": "code",
   "execution_count": 22,
   "id": "289a6bc9-4af8-4fd5-b64b-f590b0a8ac9f",
   "metadata": {},
   "outputs": [
    {
     "name": "stdout",
     "output_type": "stream",
     "text": [
      "0.0034954625518427065 0.06160347807541289\n",
      "-0.14658234010183277 0.007276818661036999\n",
      "-0.14370124020476366 0.2699504398454928\n",
      "-0.2770796771091642 0.2699504398454928\n"
     ]
    }
   ],
   "source": [
    "# the Constraint lists of models from FIG 9:\n",
    "# Lat Band: 40 - 85:\n",
    "con_list_4085 = [0, 1, 2, 3, 4, 5, 6, 7, 8, 10, 11, 12, 13, 14, 17, 23, 24, 26, 27, 33]\n",
    "\n",
    "# +- 10.8/% bias\n",
    "# con_list_4085 = [0, 1, 2, 3, 4, 5, 6, 7, 8,  9, 10, 11, 12, 13, 14, 17, 18, 23, 24, 25, 26, 27, 28, 33, 41]\n",
    "# [ 0  1  2  3  4  5  6  7  8 10 11 12 13 14 17 23 24 26 27 33]\n",
    "\n",
    "# Lat Band: 40 - 50:\n",
    "con_list_4050 = [11, 13, 23, 24, 25, 26, 27, 29, 32, 39]\n",
    "\n",
    "# +- 10.8/% bias\n",
    "# con_list_4050 = [11, 13, 23, 24, 25, 26, 27, 29, 32, 39]\n",
    "# [11 13 23 24 25 26 27 29 32 39]\n",
    "\n",
    "# Lat Band: 50 - 85:\n",
    "con_list_5085 = [0, 1, 3, 4, 6, 8, 11, 12, 13, 17, 18, 23, 24, 25, 26, 27, 33, 35]\n",
    "\n",
    "# +- 10.8/% bias\n",
    "# con_list_5085 = [0, 1, 3, 4, 6, 7, 8, 9, 10, 11, 12, 13, 14, 17, 18, 22, 23, 24, 25, 26, 27, 33, 35, 37, 40, 41]\n",
    "# [ 0  1  3  4  6  7  8  9 10 11 12 13 14 17 18 22 23 24 25 26 27 33 35 37 40 41]\n",
    "\n",
    "\n",
    "print(np.min(SW_FB_4050[con_list_4050] * ratio_4050), np.max(SW_FB_4050[con_list_4050] * ratio_4050))\n",
    "print(np.min(SW_FB_5085[con_list_5085] * ratio_5085), np.max(SW_FB_5085[con_list_5085] * ratio_5085))\n",
    "print(np.min(SW_FB_4085[con_list_4085] * ratio_4085), np.max(SW_FB_4085[con_list_4085] * ratio_4085))\n",
    "print(np.min(SW_FB_4085 * ratio_4085), np.max(SW_FB_4085 * ratio_4085))"
   ]
  },
  {
   "cell_type": "code",
   "execution_count": 23,
   "id": "eb5645ce-248f-4849-8895-d3ea88673599",
   "metadata": {},
   "outputs": [
    {
     "name": "stdout",
     "output_type": "stream",
     "text": [
      "mean of SW_fb at 4085:  0.01968346893958053 ; The standard deviation of SW_fb at 4085:  0.11659857165918562\n",
      "mean of SW_fb at 4050:  0.022940374351088786 ; The standard deviation of SW_fb at 4050:  0.017469468878093808\n",
      "mean of SW_fb at 5085:  -0.08120732827718344 ; The standard deviation of SW_fb at 5085:  0.04388912006197584\n"
     ]
    }
   ],
   "source": [
    "# the area-weighted Latitudinal-averaged SW_FB: mean and uncertainty (standard deviation):\n",
    "\n",
    "Mean_weighted_SW_fb_4085 = np.mean(SW_FB_4085[con_list_4085] * ratio_4085)\n",
    "Std_weighted_SW_fb_4085 = np.std(SW_FB_4085[con_list_4085] * ratio_4085)\n",
    "\n",
    "print(\"mean of SW_fb at 4085: \", np.mean(SW_FB_4085[con_list_4085] * ratio_4085),\n",
    "       \"; The standard deviation of SW_fb at 4085: \", np.std(SW_FB_4085[con_list_4085] * ratio_4085))\n",
    "\n",
    "Mean_weighted_SW_fb_4050 = np.mean(SW_FB_4050[con_list_4050] * ratio_4050)\n",
    "Std_weighted_SW_fb_4050 = np.std(SW_FB_4050[con_list_4050] * ratio_4050)\n",
    "\n",
    "print(\"mean of SW_fb at 4050: \", np.mean(SW_FB_4050[con_list_4050] * ratio_4050),\n",
    "      \"; The standard deviation of SW_fb at 4050: \", np.std(SW_FB_4050[con_list_4050] * ratio_4050))\n",
    "\n",
    "Mean_weighted_SW_fb_5085 = np.mean(SW_FB_5085[con_list_5085] * ratio_5085)\n",
    "Std_weighted_SW_fb_5085 = np.std(SW_FB_5085[con_list_5085] * ratio_5085)\n",
    "\n",
    "print(\"mean of SW_fb at 5085: \", np.mean(SW_FB_5085[con_list_5085] * ratio_5085), \n",
    "      \"; The standard deviation of SW_fb at 5085: \", np.std(SW_FB_5085[con_list_5085] * ratio_5085))"
   ]
  },
  {
   "cell_type": "code",
   "execution_count": 24,
   "id": "3faa1bc9-522b-4b35-87e3-fa083eaa4d63",
   "metadata": {},
   "outputs": [
    {
     "name": "stdout",
     "output_type": "stream",
     "text": [
      "original range of 40-85^{o}S SW_FB: [-0.27707968  0.26995044]\n"
     ]
    }
   ],
   "source": [
    "# Compute the constraint range for 40-85^o S SW_FB by combine the (40-50) & (50-85) constraint ranges and propagae their uncertainty:\n",
    "# Assume Gaussian Distribution:\n",
    "\n",
    "Mean_weighted_SWfb_SO = np.mean(SW_FB_4085 * ratio_4085)\n",
    "Std_weighted_SWfb_SO = np.std(SW_FB_4085 * ratio_4085)\n",
    "\n",
    "Mean_Constraint_weighted_SWfb_SO = (Mean_weighted_SW_fb_4050 + Mean_weighted_SW_fb_5085)\n",
    "Std_Constraint_weighted_SWfb_SO = np.sqrt((1.* Std_weighted_SW_fb_4050**2 + 1.* Std_weighted_SW_fb_5085**2 + 2.*1.*1.*(pearsonr(SW_FB_4050, SW_FB_5085)[0] * Std_weighted_SW_fb_4050 * Std_weighted_SW_fb_5085)))\n",
    "\n",
    "print(\"original range of 40-85^{o}S SW_FB:\", np.array([np.min(SW_FB_4085 * ratio_4085), np.max(SW_FB_4085 * ratio_4085)]))"
   ]
  },
  {
   "cell_type": "code",
   "execution_count": 25,
   "id": "3fbde4f5-2b3f-4166-a7fc-bcf8c95212a7",
   "metadata": {},
   "outputs": [
    {
     "name": "stdout",
     "output_type": "stream",
     "text": [
      "95 % range of 40-85^{o}S SW_FB: [-0.26709747  0.20988793]\n",
      "95 % confidence range after observational constraint: [-0.16750214  0.05096823]\n"
     ]
    }
   ],
   "source": [
    "# Compute the 95% ranges of the 40-85^o S SW_FB:\n",
    "\n",
    "range_SWfb_SO_before = np.array([np.nanpercentile(SW_FB_4085 * ratio_4085, 2.5), np.nanpercentile(SW_FB_4085 * ratio_4085, 100 - 2.5)])\n",
    "range_SWfb_SO_after = np.array([Mean_Constraint_weighted_SWfb_SO - 1.96* Std_Constraint_weighted_SWfb_SO, Mean_Constraint_weighted_SWfb_SO + 1.96* Std_Constraint_weighted_SWfb_SO])\n",
    "\n",
    "print(\"95 % range of 40-85^{o}S SW_FB:\", range_SWfb_SO_before)\n",
    "print(\"95 % confidence range after observational constraint:\", range_SWfb_SO_after)"
   ]
  },
  {
   "cell_type": "code",
   "execution_count": 26,
   "id": "48867fb0-d189-4e29-ab08-1c9a022563d2",
   "metadata": {
    "tags": []
   },
   "outputs": [
    {
     "name": "stdout",
     "output_type": "stream",
     "text": [
      "[0, 1, 2, 3, 4, 5, 6]\n",
      " yes\n"
     ]
    }
   ],
   "source": [
    "# IS the high ECS model out of the 95% confidence range?\n",
    "model_withle95SOSWCLD = []\n",
    "for i in range(len(deck3)):\n",
    "    \n",
    "    if ((SW_FB_4085[i] * ratio_4085) >= 0.0501323):\n",
    "        \n",
    "        model_withle95SOSWCLD.append(i)\n",
    "\n",
    "print(model_withle95SOSWCLD)\n",
    "print(\" yes\")"
   ]
  },
  {
   "cell_type": "code",
   "execution_count": 28,
   "id": "5be4c421-c88b-41c9-82ed-23d335f964bd",
   "metadata": {},
   "outputs": [
    {
     "data": {
      "image/png": "[encoded data removed]",
      "text/plain": [
       "<Figure size 720x504 with 1 Axes>"
      ]
     },
     "metadata": {
      "needs_background": "light"
     },
     "output_type": "display_data"
    }
   ],
   "source": [
    "import seaborn as sns\n",
    "# plot settings:\n",
    "parameters = {'axes.labelsize': 21, 'legend.fontsize': 19,\n",
    "       'axes.titlesize': 18, 'xtick.labelsize': 16, 'ytick.labelsize': 16}\n",
    "plt.rcParams.update(parameters)\n",
    "\n",
    "plt.figure(figsize = (10, 7))\n",
    "\n",
    "sns.kdeplot((SW_FB_4050[con_list_4050] * ratio_4050), common_norm = True, bw_adjust = 0.7, linewidth = 2.8, c='red', label = r\"$ kde\\ of\\ 40-50^{o}S\\ SW_{FB} $\")\n",
    "\n",
    "sns.kdeplot((SW_FB_5085[con_list_5085] * ratio_5085), common_norm = True, bw_adjust = 0.7, linewidth = 2.8, c='blue', label = r\"$ kde\\ of\\ 50-85^{o}S\\ SW_{FB} $\")\n",
    "\n",
    "plt.legend()\n",
    "plt.xlabel(r\"$SW_{FB}$\")\n",
    "plt.savefig(path_plot + \"Fig_kde_of_LatitudeBandsCostraint.jpg\")"
   ]
  },
  {
   "cell_type": "code",
   "execution_count": 29,
   "id": "83c801c4-a555-49fb-952c-f04fff6e0e6f",
   "metadata": {},
   "outputs": [
    {
     "name": "stdout",
     "output_type": "stream",
     "text": [
      "(array([ 5,  7,  6, 10, 12,  2,  1,  3,  1,  2,  1]), array([-0.27707968, -0.22707968, -0.17707968, -0.12707968, -0.07707968,\n",
      "       -0.02707968,  0.02292032,  0.07292032,  0.12292032,  0.17292032,\n",
      "        0.22292032,  0.27292032]))\n"
     ]
    },
    {
     "data": {
      "text/plain": [
       "<matplotlib.legend.Legend at 0x2b48f371f150>"
      ]
     },
     "execution_count": 29,
     "metadata": {},
     "output_type": "execute_result"
    },
    {
     "data": {
      "image/png": "[encoded data removed]",
      "text/plain": [
       "<Figure size 853.333x480 with 1 Axes>"
      ]
     },
     "metadata": {
      "needs_background": "light"
     },
     "output_type": "display_data"
    }
   ],
   "source": [
    "# kde + histogram plot: \n",
    "import seaborn as sns\n",
    "parameters = {'axes.labelsize': 25, 'legend.fontsize': 16, \n",
    "         'axes.titlesize': 22,  'xtick.labelsize': 17,  'ytick.labelsize': 17}\n",
    "plt.rcParams.update(parameters)\n",
    "\n",
    "fig = plt.figure( figsize = (16.0/1.35, 12.0/1.8))\n",
    "ax = fig.add_subplot(111)\n",
    "\n",
    "# Histogram:\n",
    "# bins:\n",
    "\n",
    "xinc = 0.05\n",
    "xbins = np.arange( np.min(SW_FB_4085 * ratio_4085), np.max(SW_FB_4085 * ratio_4085)+xinc, xinc )\n",
    "# print(xbins)\n",
    "his_SW_FB = np.histogram((SW_FB_4085 * ratio_4085), xbins)\n",
    "print(his_SW_FB)\n",
    "xvals = his_SW_FB[1][:-1]\n",
    "ax.bar(xvals + xinc/2, his_SW_FB[0] / 3.7, edgecolor = 'b', color = [], width = .03, label = r'$ GCM\\ SW_{FB}\\ prior $', linewidth = 1.5)  # y-axis Scaled by 4. for visulization.\n",
    "\n",
    "# # pdf continues line:\n",
    "# fvalsx = his_SW_FB[0].astype(float)/(np.size(SW_FB_4085 ) * xinc)\n",
    "# plt.plot(xvals + xinc/2, fvalsx, 'b', label = 'pdf', linewidth = 1.5)\n",
    "\n",
    "\n",
    "# Kernel density estimate (seaborn kdeplot function use a Gaussian kernel):\n",
    "\n",
    "kde_plot = sns.kdeplot((SW_FB_4085 * ratio_4085), common_norm = True, bw_adjust = 0.95, linewidth = 2.8, c = 'k', label = r'$ kde\\ of\\ SW_{FB}$')\n",
    "\n",
    "# get the kernel distribution curve line for later fill:\n",
    "kde_x, kde_y = kde_plot.lines[0].get_data()\n",
    "\n",
    "ax.axvline(Mean_weighted_SWfb_SO, c = 'k', linewidth = 3., linestyle = '--', label = r'$ Multimodel\\ Mean$', zorder = 97)\n",
    "\n",
    "# ax.fill_between(kde_x, kde_y, where=(kde_x > np.min(range_SWfb_SO_before)) & (kde_x < np.max(range_SWfb_SO_before)) , \n",
    "#                 interpolate= False, facecolor = 'gray', alpha = 0.53, label = r'$ 95 \\%\\ range\\ before\\ constraint $', zorder = 98)\n",
    "ax.fill_between(kde_x, kde_y, where=(kde_x > np.min(range_SWfb_SO_after)) & (kde_x < np.max(range_SWfb_SO_after)) , \n",
    "                interpolate= False, facecolor = '#EF9A9A', alpha = 0.68, label = r'$ 95 \\%\\ confidence\\ interval\\ of\\ constraint $', zorder = 99)\n",
    "\n",
    "ax.set_ylim(0, 15/3.7)\n",
    "ax.set_yticks(np.arange(0, 15/3.7, 2./3.7))\n",
    "ax.set_yticklabels(np.arange(0, 15, 2))\n",
    "\n",
    "ax.set_xlabel(r\"$ SW_{FB}\\ (40^{o} - 85^{o} S)\\ [W/ m^{2}/ K] $\", fontsize = 24)\n",
    "ax.set_ylabel(r\"$ Number\\ of\\ GCMs $\", fontsize = 24)\n",
    "\n",
    "# change the order of legend:\n",
    "\n",
    "# get handles and labels\n",
    "handles, labels = plt.gca().get_legend_handles_labels()\n",
    "\n",
    "# specify order of items in legend\n",
    "order = [3, 0, 1, 2]\n",
    "\n",
    "# add legend to plot\n",
    "plt.legend([handles[idx] for idx in order],[labels[idx] for idx in order], fontsize = 14)\n",
    "# plt.legend(fontsize = 11)\n",
    "\n",
    "# plt.savefig(path_plot+ \"Fig_7.jpg\", bbox_inches = \"tight\", dpi = 500)"
   ]
  },
  {
   "cell_type": "code",
   "execution_count": null,
   "id": "a6fb7195-8a13-416c-982f-3cdb2b03e970",
   "metadata": {},
   "outputs": [],
   "source": []
  },
  {
   "cell_type": "code",
   "execution_count": null,
   "id": "3a16826f-e044-49ce-b1cd-43984b135a71",
   "metadata": {},
   "outputs": [],
   "source": []
  }
 ],
 "metadata": {
  "kernelspec": {
   "display_name": "NPL-3.7.9",
   "language": "python",
   "name": "npl-3.7.9"
  },
  "language_info": {
   "codemirror_mode": {
    "name": "ipython",
    "version": 3
   },
   "file_extension": ".py",
   "mimetype": "text/x-python",
   "name": "python",
   "nbconvert_exporter": "python",
   "pygments_lexer": "ipython3",
   "version": "3.7.9"
  }
 },
 "nbformat": 4,
 "nbformat_minor": 5
}
