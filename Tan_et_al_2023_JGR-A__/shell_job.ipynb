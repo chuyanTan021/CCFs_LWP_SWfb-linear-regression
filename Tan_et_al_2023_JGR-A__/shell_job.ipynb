{
 "cells": [
  {
   "cell_type": "code",
   "execution_count": 1,
   "id": "cea7743a-1175-4438-a840-7ae901f710e6",
   "metadata": {},
   "outputs": [],
   "source": [
    "import os\n",
    "import numpy as np\n",
    "import subprocess"
   ]
  },
  {
   "cell_type": "code",
   "execution_count": 2,
   "id": "12335cf3-2551-4021-bb71-8be9f1f8ef44",
   "metadata": {
    "tags": []
   },
   "outputs": [
    {
     "name": "stdout",
     "output_type": "stream",
     "text": [
      "/glade/work/chuyan/Research/Cloud_CCFs_RMs/Tan_et_al_2023_JGR-A__\n"
     ]
    }
   ],
   "source": [
    "import sys\n",
    "# sys.path.append('/glade/work/chuyan/Research/Cloud_CCFs_RMs/Course_objective_ana')\n",
    "\n",
    "print(os.getcwd())"
   ]
  },
  {
   "cell_type": "code",
   "execution_count": 3,
   "id": "59a8e7de-8c31-41ac-9170-29d6766f7830",
   "metadata": {
    "tags": []
   },
   "outputs": [
    {
     "name": "stdout",
     "output_type": "stream",
     "text": [
      "/glade/work/chuyan/Research/Cloud_CCFs_RMs/Tan_et_al_2023_JGR-A__/output_file/CMIPrun_batch/\n"
     ]
    }
   ],
   "source": [
    "filepath = \"/glade/work/chuyan/Research/Cloud_CCFs_RMs/Tan_et_al_2023_JGR-A__/output_file/CMIPrun_batch/\"\n",
    "\n",
    "for i in range(52):\n",
    "    \n",
    "    file = open(filepath+'batchjob_lrm_' + str(i+1)+'.sh', 'w')\n",
    "    # file = open(filepath+'batchjob_calcstats_' + str(i+1)+'.sh', 'w')\n",
    "    line = []\n",
    "\n",
    "    line.append('#!/bin/tcsh\\n')\n",
    "    line.append('#PBS -N cmip6_bestfitLRM\\n')\n",
    "    line.append('#PBS -A WYOM0119\\n')\n",
    "    line.append('#PBS -l select=1:ncpus=6:mem=75GB\\n')\n",
    "    line.append('#PBS -l walltime=01:05:00\\n')\n",
    "    line.append('#PBS -q casper\\n')\n",
    "    line.append('#PBS -j oe\\n')\n",
    "\n",
    "    line.append('source /etc/profile.d/modules.csh\\n')\n",
    "    line.append('module load conda/latest\\n')\n",
    "    line.append('conda activate npl\\n')\n",
    "\n",
    "    line.append('python shell_job1.py ' + str(i))\n",
    "    # line.append('python loop_small_LRM.py ' + str(i))\n",
    "\n",
    "    # print(line)\n",
    "    \n",
    "    for j in np.arange(len(line)):\n",
    "        file.write(line[j])\n",
    "    file.close\n",
    "\n",
    "print(filepath)"
   ]
  },
  {
   "cell_type": "code",
   "execution_count": 6,
   "id": "a0440b9e-7579-430f-8fdf-88d5aa809a91",
   "metadata": {
    "collapsed": true,
    "jupyter": {
     "outputs_hidden": true
    },
    "tags": []
   },
   "outputs": [
    {
     "name": "stdin",
     "output_type": "stream",
     "text": [
      "Please input: 0 if you want to continue: 0\n"
     ]
    },
    {
     "name": "stdout",
     "output_type": "stream",
     "text": [
      "model No.0\n",
      "0\n",
      "model No.1\n",
      "0\n",
      "model No.2\n",
      "0\n",
      "model No.3\n",
      "0\n",
      "model No.4\n",
      "0\n",
      "model No.5\n",
      "0\n",
      "model No.6\n",
      "0\n",
      "model No.7\n",
      "0\n",
      "model No.8\n",
      "0\n",
      "model No.9\n",
      "0\n",
      "model No.10\n",
      "0\n",
      "model No.11\n",
      "0\n",
      "model No.12\n",
      "0\n",
      "model No.13\n",
      "0\n",
      "model No.14\n",
      "0\n",
      "model No.15\n",
      "0\n",
      "model No.16\n",
      "0\n",
      "model No.17\n",
      "0\n",
      "model No.18\n",
      "0\n",
      "model No.19\n",
      "0\n",
      "model No.20\n",
      "0\n",
      "model No.21\n",
      "0\n",
      "model No.22\n",
      "0\n",
      "model No.23\n",
      "0\n",
      "model No.24\n",
      "0\n",
      "model No.25\n",
      "0\n",
      "model No.26\n",
      "0\n",
      "model No.27\n",
      "0\n",
      "model No.28\n",
      "0\n",
      "model No.29\n",
      "0\n",
      "model No.30\n",
      "0\n",
      "model No.31\n",
      "0\n",
      "model No.32\n",
      "0\n",
      "model No.33\n",
      "0\n",
      "model No.34\n",
      "0\n",
      "model No.35\n",
      "0\n",
      "model No.36\n",
      "0\n",
      "model No.37\n",
      "0\n",
      "model No.38\n",
      "0\n",
      "model No.39\n",
      "0\n",
      "model No.40\n",
      "0\n",
      "model No.41\n",
      "0\n",
      "model No.42\n",
      "0\n",
      "model No.43\n",
      "0\n",
      "model No.44\n",
      "0\n",
      "model No.45\n",
      "0\n",
      "model No.46\n",
      "0\n",
      "model No.47\n",
      "0\n",
      "model No.48\n",
      "0\n",
      "model No.49\n",
      "0\n",
      "model No.50\n",
      "0\n"
     ]
    }
   ],
   "source": [
    "filepath = \"/glade/work/chuyan/Research/Cloud_CCFs_RMs/Tan_et_al_2023_JGR-A__/output_file/CMIPrun_batch/\"\n",
    "\n",
    "filepath_batch_job = filepath\n",
    "\n",
    "caution_condition = input(\"Please input: 0 if you want to continue:\")\n",
    "# print(caution_condition)\n",
    "if caution_condition == '0':\n",
    "#     \n",
    "    P = 1\n",
    "    for i in range(51):\n",
    "\n",
    "        print(\"model No.\"+str(i))\n",
    "        ## batchjob for do linear regression:\n",
    "        sub_comm = filepath + \"batchjob_lrm_\" + str(i+1) + \".sh\"\n",
    "        ## batchjob for calc cut-off statistics:\n",
    "        # sub_comm = filepath + \"batchjob_calcstats_\" + str(i+1) + \".sh\"\n",
    "        os.system(\"cd \"+filepath_batch_job)\n",
    "        # print(os.getcwd())\n",
    "        output_call_functions = subprocess.run([\"qsub\", sub_comm], stdout = subprocess.DEVNULL)\n",
    "\n",
    "        print(output_call_functions.returncode)\n",
    "else:\n",
    "    \n",
    "    print(' REFUSE TO RUN BATCH JOB.')"
   ]
  },
  {
   "cell_type": "code",
   "execution_count": 4,
   "id": "448d13ab-efa7-4a38-9ae6-4aa8e6b9178e",
   "metadata": {
    "tags": []
   },
   "outputs": [
    {
     "name": "stdin",
     "output_type": "stream",
     "text": [
      "Please input: 0 if you want to continue: 0\n"
     ]
    },
    {
     "name": "stdout",
     "output_type": "stream",
     "text": [
      "model No.45\n",
      "0\n"
     ]
    }
   ],
   "source": [
    "filepath = \"/glade/work/chuyan/Research/Cloud_CCFs_RMs/Tan_et_al_2023_JGR-A__/output_file/CMIPrun_batch/\"\n",
    "\n",
    "filepath_batch_job = filepath\n",
    "\n",
    "caution_condition = input(\"Please input: 0 if you want to continue:\")\n",
    "# print(caution_condition)\n",
    "if caution_condition == '0':\n",
    "    \n",
    "    for i in [45]:\n",
    "        \n",
    "        print(\"model No.\"+str(i))\n",
    "        \n",
    "        ## batchjob for do linear regression:\n",
    "        sub_comm = filepath + \"batchjob_lrm_\" + str(i+1) + \".sh\"\n",
    "        \n",
    "        ## batchjob for calc cut-off statistics:\n",
    "        # sub_comm = filepath + \"batchjob_calcstats_\" + str(i+1) + \".sh\"\n",
    "        os.system(\"cd \"+filepath_batch_job)\n",
    "        # print(os.getcwd())\n",
    "        output_call_functions = subprocess.run([\"qsub\", sub_comm], stdout = subprocess.DEVNULL)\n",
    "        \n",
    "        print(output_call_functions.returncode)"
   ]
  },
  {
   "cell_type": "code",
   "execution_count": 17,
   "id": "60cb4efb-fe17-41bf-885e-b17e9553e072",
   "metadata": {
    "jupyter": {
     "source_hidden": true
    },
    "tags": []
   },
   "outputs": [],
   "source": [
    "from loop_small_LRM import *"
   ]
  },
  {
   "cell_type": "code",
   "execution_count": 19,
   "id": "8314f34b-66b6-4aeb-b441-dc25a6ca5544",
   "metadata": {
    "collapsed": true,
    "jupyter": {
     "outputs_hidden": true,
     "source_hidden": true
    },
    "tags": []
   },
   "outputs": [
    {
     "name": "stdout",
     "output_type": "stream",
     "text": [
      "['/glade/scratch/chuyan/CMIP_output/CMIP_partition_RESULT/IPSLCM6ALR__STAT_pi+abr_22x_31y_May22_23_anomalies.npz']\n"
     ]
    },
    {
     "data": {
      "image/png": "[encoded data removed]",
      "text/plain": [
       "<Figure size 1166.4x676.8 with 4 Axes>"
      ]
     },
     "metadata": {
      "needs_background": "light"
     },
     "output_type": "display_data"
    }
   ],
   "source": [
    "stats_matrics_Visualization(modn = 'IPSLCM6ALR')"
   ]
  },
  {
   "cell_type": "code",
   "execution_count": 6,
   "id": "b012c10d-59ee-400a-81a4-b2b58bf14542",
   "metadata": {
    "collapsed": true,
    "jupyter": {
     "outputs_hidden": true,
     "source_hidden": true
    },
    "tags": []
   },
   "outputs": [
    {
     "name": "stdin",
     "output_type": "stream",
     "text": [
      "Please input: 0 if you want to continue: 0\n"
     ]
    },
    {
     "name": "stdout",
     "output_type": "stream",
     "text": [
      "0\n",
      "0\n",
      "0\n",
      "1\n",
      "0\n",
      "2\n",
      "0\n",
      "3\n",
      "0\n",
      "4\n",
      "0\n",
      "5\n",
      "0\n",
      "6\n",
      "0\n",
      "7\n",
      "0\n",
      "8\n",
      "0\n",
      "9\n",
      "0\n",
      "10\n",
      "0\n",
      "11\n",
      "0\n",
      "12\n",
      "0\n",
      "13\n",
      "0\n",
      "14\n",
      "0\n",
      "15\n",
      "0\n",
      "16\n",
      "0\n",
      "17\n",
      "0\n",
      "18\n",
      "0\n",
      "19\n",
      "0\n",
      "20\n",
      "0\n",
      "21\n",
      "0\n",
      "22\n",
      "0\n",
      "23\n",
      "0\n",
      "24\n",
      "0\n",
      "25\n",
      "0\n",
      "26\n",
      "0\n",
      "27\n",
      "0\n",
      "28\n",
      "0\n",
      "29\n",
      "0\n",
      "30\n",
      "0\n",
      "31\n",
      "0\n",
      "32\n",
      "0\n",
      "33\n",
      "0\n",
      "34\n",
      "0\n",
      "35\n",
      "0\n",
      "36\n",
      "0\n",
      "37\n",
      "0\n",
      "38\n",
      "0\n",
      "39\n",
      "0\n",
      "40\n",
      "0\n"
     ]
    }
   ],
   "source": [
    "filepath = \"/glade/work/chuyan/Research/Cloud_CCFs_RMs/Tan_et_al_2023_JGR-A__/output_file/CMIPrun_batch/\"\n",
    "\n",
    "filepath_batch_job = filepath\n",
    "\n",
    "caution_condition = input(\"Please input: 0 if you want to continue:\")\n",
    "# print(caution_condition)\n",
    "if caution_condition == '0':\n",
    "    \n",
    "    P = 1\n",
    "    for i in range(51):\n",
    "        \n",
    "        print(\"model No.\"+str(i))\n",
    "        \n",
    "        ## batchjob for do linear regression:\n",
    "        sub_comm = filepath + \"batchjob_lrm_\" + str(i+1) + \".sh\"\n",
    "        \n",
    "        ## batchjob for calc cut-off statistics:\n",
    "        # sub_comm = filepath + \"batchjob_calcstats_\" + str(i+1) + \".sh\"\n",
    "        os.system(\"cd \"+filepath_batch_job)\n",
    "        # print(os.getcwd())\n",
    "        output_call_functions = subprocess.run([\"qsub\", sub_comm], stdout = subprocess.DEVNULL)\n",
    "else:\n",
    "    \n",
    "    print(' REFUSE TO RUN BATCH JOB.')"
   ]
  },
  {
   "cell_type": "code",
   "execution_count": 8,
   "id": "82a725d3-1fc3-4e81-bbdb-7f1b87373eba",
   "metadata": {
    "tags": []
   },
   "outputs": [],
   "source": [
    "# "
   ]
  }
 ],
 "metadata": {
  "kernelspec": {
   "display_name": "NPL-3.7.9",
   "language": "python",
   "name": "npl-3.7.9"
  },
  "language_info": {
   "codemirror_mode": {
    "name": "ipython",
    "version": 3
   },
   "file_extension": ".py",
   "mimetype": "text/x-python",
   "name": "python",
   "nbconvert_exporter": "python",
   "pygments_lexer": "ipython3",
   "version": "3.7.9"
  }
 },
 "nbformat": 4,
 "nbformat_minor": 5
}
