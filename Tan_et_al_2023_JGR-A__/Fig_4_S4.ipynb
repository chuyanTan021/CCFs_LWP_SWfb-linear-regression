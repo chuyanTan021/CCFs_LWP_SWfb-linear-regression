{
 "cells": [
  {
   "cell_type": "code",
   "execution_count": 1,
   "id": "a74300b4-e0d6-4156-b78b-201c0d5057fb",
   "metadata": {},
   "outputs": [],
   "source": [
    "import netCDF4\n",
    "import numpy as np\n",
    "import matplotlib.pyplot as plt\n",
    "import xarray as xr\n",
    "\n",
    "import pandas as pd\n",
    "import glob\n",
    "from copy import deepcopy\n",
    "from scipy.stats import *\n",
    "from scipy.stats.stats import pearsonr\n",
    "from sklearn import linear_model\n",
    "from sklearn.metrics import mean_squared_error, r2_score\n",
    "from matplotlib.ticker import MaxNLocator\n",
    "from matplotlib.colors import BoundaryNorm\n",
    "# self_defined modules\n",
    "from area_mean import *\n",
    "from binned_cyFunctions5 import *\n",
    "from read_hs_file import read_var_mod\n",
    "from read_var_obs import *\n",
    "\n",
    "from calc_LRM_metric import *\n",
    "from get_LWPCMIP5data import *\n",
    "from get_LWPCMIP6data import *\n",
    "from get_OBSLRMdata import *\n",
    "from fitLRM_cy1 import *\n",
    "from fitLRM_cy2 import *\n",
    "# from fitLRM_cy4 import *\n",
    "from useful_func_cy import *\n",
    "from calc_Radiation_LRM_1 import *\n",
    "from calc_Radiation_LRM_2 import *\n"
   ]
  },
  {
   "cell_type": "markdown",
   "id": "5bdff1ee-9323-4ce0-ac2b-f8146641e1f8",
   "metadata": {},
   "source": [
    "Test read data:"
   ]
  },
  {
   "cell_type": "code",
   "execution_count": 2,
   "id": "d2d92c80-ae8b-454b-8a52-185cd616eca8",
   "metadata": {},
   "outputs": [],
   "source": [
    "from calc_LRMobs_metric import *\n",
    "from fitLRMobs import *\n",
    "from Aploting_Sep11 import *\n",
    "\n",
    "path1 = '/glade/scratch/chuyan/CMIP_output/CMIP_lrm_RESULT/'\n",
    "path6 = '/glade/work/chuyan/Research/Cloud_CCFs_RMs/Tan_et_al_2023_JGR-A__/plot_file/'"
   ]
  },
  {
   "cell_type": "code",
   "execution_count": 12,
   "id": "291d93b0-2293-41f1-aa70-2924e4b0b4ca",
   "metadata": {},
   "outputs": [],
   "source": [
    "valid_range1=[1992, 1, 15]\n",
    "valid_range2=[2011, 12, 31]\n",
    "valid_range3=[2012, 1, 15]\n",
    "valid_range4=[2016, 12, 31]\n",
    "\n",
    "valid_range5=[2001, 1, 15]\n",
    "valid_range6=[2011, 12, 31]\n",
    "\n",
    "valid_range7=[2012, 1, 15]\n",
    "valid_range8=[2016, 12, 31]\n",
    "\n",
    "valid_range9=[2001, 1, 15]\n",
    "valid_range10=[2016, 12, 31]\n",
    "\n",
    "# Using to do area_mean\n",
    "s_range = arange(-90., 90., 5.) + 2.5  #..global-region latitude edge: (36)\n",
    "x_range = arange(-180., 180., 5.)  #..longitude sequences edge: number: 72\n",
    "y_range = arange(-85, -40., 5.) + 2.5  #..southern-ocaen latitude edge: 9"
   ]
  },
  {
   "cell_type": "markdown",
   "id": "b036eed8-6100-4bf7-b516-5c5e46497b43",
   "metadata": {},
   "source": [
    "Add IMERG Precip data:"
   ]
  },
  {
   "cell_type": "code",
   "execution_count": 4,
   "id": "562bd339-bc18-4cad-816c-f387d9bc16d3",
   "metadata": {
    "jupyter": {
     "source_hidden": true
    },
    "tags": []
   },
   "outputs": [],
   "source": [
    "pp_path_OBS='/glade/scratch/chuyan/obs_data/'\n",
    "\n",
    "def read_var_obs_IMERG3(valid_range1 = [2002, 7, 15], valid_range2 = [2016, 12, 31], data_type = '2'):\n",
    "    #------------------\n",
    "    # This function is for reading IMERG precipitation observation (HDF5).\n",
    "    # valid_range1 & 2: the starting and end time stamps of time sequential metric. Only the first two values are valid for monthly data.\n",
    "    # data_type: there are two types of IMERG data, '1': raw resolution (0.1 X 0.1, -180 ~ 180, -90 ~ 90)\n",
    "    # '2': regrided resolution (1 X 1, 0.5 ~ 359.5, 89.5 ~ -89.5)\n",
    "    #------------------\n",
    "    # 'read_hs' functionality:\n",
    "\n",
    "    folder = pp_path_OBS\n",
    "    data_type ='2'\n",
    "\n",
    "    if data_type == '2':\n",
    "        # file_name example: '3B-MO.MS.MRG.3IMERG.20161201-S000000-E235959.12.V06B.HDF5.SUB.nc4'\n",
    "\n",
    "        fn = glob.glob(folder + '*'+ '3B-MO.MS.MRG.3IMERG.' + '*' + '.V06B.HDF5.SUB.nc4')\n",
    "        # print(fn)\n",
    "\n",
    "    # 'read_hs_file' functionality:\n",
    "\n",
    "    # loading the data files one by one through 'netCDF4' module, but in a random order of times\n",
    "    data = []\n",
    "    timeo = []\n",
    "    varnm = 'precipitation'\n",
    "    for i in range(len(fn)):\n",
    "\n",
    "        file = nc.Dataset(fn[i], 'r')  # random order of times (due to the functionality of \"glob\")\n",
    "\n",
    "        tt = np.asarray(file.variables['time'])  # Time (Monthly data)\n",
    "        lat = np.asarray(file.variables['lat'])  # Latitude\n",
    "        lon = np.asarray(file.variables['lon'])  # Longitude\n",
    "\n",
    "        # Create a shape = (n, 3) array to store the (year, mon, day) cf.datetime object:\n",
    "        time_i = np.zeros((len(tt), 3))\n",
    "\n",
    "        for i in range(len(tt)):\n",
    "\n",
    "            tt1 = nc.num2date(tt[i], file.variables['time'].units, calendar = u'standard')  # cf.Datetime object: including yr, mon, day, hour, minute, second info\n",
    "\n",
    "            time_i[i,:] = [tt1.year, tt1.month, tt1.day]\n",
    "\n",
    "        # Precipitation data:\n",
    "\n",
    "        data_pieces = []\n",
    "\n",
    "        # determine whether the variable_time within the time_range we want:\n",
    "        if valid_range1[0] != valid_range2[0]:   # case 1, starting time and ending time are the different year.\n",
    "            if ((time_i[0, 0] > valid_range1[0]) & (time_i[0, 0] < valid_range2[0])) | ((time_i[0, 0] == valid_range1[0]) & (time_i[0, 1] >= valid_range1[1])) | ((time_i[0, 0] == valid_range2[0]) & (time_i[0, 1] <= valid_range2[1])):\n",
    "\n",
    "                data_pieces = file.variables[varnm]   # data, in unit of mm/hr\n",
    "\n",
    "        elif (valid_range1[0] == valid_range2[0]) & (time_i[0, 0] == valid_range2[0]):   # case 2, starting and ending time are the same year.\n",
    "            if  (time_i[0, 1] >= valid_range1[1]) & (time_i[0, 1] <= valid_range2[1]):\n",
    "\n",
    "                data_pieces = file.variables[varnm]   # data, in unit of mm/hr        \n",
    "        # print(data_pieces)\n",
    "\n",
    "        # end 'read_hs_file' functionality.\n",
    "\n",
    "        if len(data_pieces) > 0:\n",
    "                data.append(data_pieces)  # Variable\n",
    "                timeo.append(time_i)  # Times\n",
    "\n",
    "    # ending loop, and end 'read_hs' functionality.\n",
    "\n",
    "    # 'read_var_mod' functionality\n",
    "\n",
    "    # processing lat, lon, data, and time array, output in an ordered arrangement\n",
    "\n",
    "    # use 'np.concatenate' to get rid of one extra axis (the second axes)\n",
    "    dataOUT = np.concatenate(data, axis = 0)\n",
    "    timeOUT = np.concatenate(timeo, axis = 0)\n",
    "    # print(np.asarray(dataOUT).shape)\n",
    "\n",
    "    if len(dataOUT) == 0:\n",
    "        print(\" No data in the desired time period. \")\n",
    "\n",
    "    # replacing fill value to be 'np.nan'\n",
    "    dataOUT = np.asarray(dataOUT)\n",
    "    dataOUT[dataOUT == file.variables[varnm]._FillValue] = np.nan\n",
    "\n",
    "    # print(dataOUT)\n",
    "\n",
    "    # use 'np.unique' to get ordered time and data array\n",
    "    tf = timeOUT[:, 0] + timeOUT[:, 1]/100.\n",
    "    TF, ind = np.unique(tf, return_index = True)  # TF is the sorted (time from smaller value to bigger value), unique 'tf', and ind is the indices\n",
    "\n",
    "    dataOUT = dataOUT[ind]\n",
    "    dataOUT = dataOUT.reshape(len(tf), len(lat), len(lon))\n",
    "    timeOUT = timeOUT[ind]\n",
    "\n",
    "    if data_type == '2':\n",
    "\n",
    "        # print(lat)  # Originally is from -90. to 90.\n",
    "        lat1 = lat[::-1] *1.\n",
    "        # print(lon)  # Originally is from -180. to 180.\n",
    "        lon2 = lon[:] *1.\n",
    "        lon2[lon2 > 180] = lon2[lon2 > 180] - 360.  # convert to range from -180. to 180.\n",
    "        ind_sort = np.argsort(lon2)\n",
    "        lon2 = lon2[ind_sort]\n",
    "        # print(ind_sort)\n",
    "        dataOUT1 = dataOUT.copy()\n",
    "        if np.argsort(lat)[0] != 0:\n",
    "            lat = lat1\n",
    "            dataOUT1 = dataOUT1[:, ::-1, ind_sort]\n",
    "\n",
    "        dataOUT = dataOUT1\n",
    "\n",
    "    return np.asarray(dataOUT), np.asarray(lat), np.asarray(lon2), np.asarray(timeOUT)\n"
   ]
  },
  {
   "cell_type": "code",
   "execution_count": 5,
   "id": "0a8a0d5c-3a0e-4a54-ac40-e0593c08629d",
   "metadata": {
    "collapsed": true,
    "jupyter": {
     "outputs_hidden": true,
     "source_hidden": true
    },
    "tags": []
   },
   "outputs": [
    {
     "name": "stdout",
     "output_type": "stream",
     "text": [
      "(0,)\n",
      "(0,)\n",
      "[2001 2002 2003 2004 2005 2006 2007 2008 2009 2010 2011 2012 2013 2014\n",
      " 2015 2016]\n",
      "0.5070563271604939\n",
      "(16, 9, 72)\n",
      "(16, 9, 72)\n",
      "0.511670524691358\n"
     ]
    },
    {
     "name": "stderr",
     "output_type": "stream",
     "text": [
      "/glade/work/chuyan/Research/Cloud_CCFs_RMs/Tan_et_al_2023_JGR-A__/useful_func_cy.py:100: RuntimeWarning: Mean of empty slice\n",
      "  annually_array[i,:,:] = nanmean(data[i*12:(i+1)*12, :,:], axis = 0)\n"
     ]
    }
   ],
   "source": [
    "# Re-calculate annual mean variability:\n",
    "\n",
    "P_IMERG3, lat_IMERG3, lon_IMERG3, times_IMERG3 = read_var_obs_IMERG3(valid_range1=valid_range9, valid_range2=valid_range10, data_type='2')\n",
    "\n",
    "E, lat_merra2, lon_merra2, Pres, times_merra2 = read_var_obs_MERRA2(varnm = 'EFLUX', read_p = False, valid_range1=valid_range9, valid_range2=valid_range10, data_type='2')\n",
    "\n",
    "SST = read_var_obs_MERRA2(varnm = 'TS', read_p = False, valid_range1=valid_range9, valid_range2=valid_range10, data_type='2')[0]\n",
    "\n",
    "LWP, lwp_error, mask_array_mac, lat_mac, lon_mac, times_mac = read_var_obs_MAClwp(varnm = 'cloudlwp', valid_range1 = valid_range9, valid_range2 = valid_range10)\n",
    "# print(P_IMERG3.shape)\n",
    "# print(E.shape)\n",
    "\n",
    "# Eva: Evaporation, Unit in mm day^-1 (here use the latent heat flux from the sfc, unit convert from W m^-2 --> kg m^-2 s^-1 --> mm day^-1)\n",
    "lh_vaporization = (2.501 - (2.361 * 10**-3) * (SST - 273.15)) * 1e6  # the latent heat of vaporization at the surface Temperature\n",
    "Eva = E / lh_vaporization * (24. * 60 * 60)\n",
    "\n",
    "Precip = (P_IMERG3 * 24.)\n",
    "\n",
    "# Moisture convergence:\n",
    "MC_IMERG3 = Precip - Eva\n",
    "\n",
    "MC_so, lats_so, lons_so = region_cropping_var(MC_IMERG3, lat_IMERG3, lon_IMERG3, lat_range = [-85., -40.], lon_range = [-180., 180.])\n",
    "LWP_so, lats_so_mac, lons_so_mac = region_cropping_var(LWP, lat_mac, lon_mac, lat_range = [-85., -40.], lon_range = [-180., 180.])\n",
    "\n",
    "# calcuate annual mean MC:\n",
    "MC_SO_an = annually_mean(MC_so, times_IMERG3, label = 'mon')\n",
    "LWP_SO_an = annually_mean(LWP_so, times_mac, label = 'mon')\n",
    "# print(MC_SO_an.shape)\n",
    "\n",
    "# propagate NaN value:\n",
    "\n",
    "test_array_yr = np.ones((LWP_SO_an.shape))\n",
    "\n",
    "test_array_yr = MC_SO_an * test_array_yr * LWP_SO_an\n",
    "\n",
    "shape_ratio_yr = np.asarray(np.nonzero(np.isnan(test_array_yr) == True)).shape[1] / len(test_array_yr.flatten())\n",
    "print(shape_ratio_yr)\n",
    "ind_NaN = np.isnan(test_array_yr)  # store the mask positions for annually mean MERRA-2, MAC-LWP, CERES data in the SO;\n",
    "\n",
    "x_array_yr = np.zeros((LWP_SO_an.shape))  # used for count the missing points in annually mean binned boxes\n",
    "x_array_yr[ind_NaN] = 1.0\n",
    "\n",
    "# Propagating the .nan into annually mean data:\n",
    "MC_SO_an_nan = deepcopy(MC_SO_an)\n",
    "LWP_SO_an_nan = deepcopy(LWP_SO_an)\n",
    "MC_SO_an_nan[ind_NaN] = np.nan\n",
    "LWP_SO_an_nan[ind_NaN] = np.nan\n",
    "\n",
    "\n",
    "# calculate the SO 5 x 5^{o} bin:\n",
    "MC_SO_an_bin_nan = binned_cySouthOcean5(MC_SO_an_nan, lats_so, lons_so)\n",
    "LWP_SO_an_bin_nan = binned_cySouthOcean5(LWP_SO_an_nan, lats_so_mac, lons_so_mac)\n",
    "print(MC_SO_an_bin_nan.shape)\n",
    "print(LWP_SO_an_bin_nan.shape)\n",
    "# since the latitide/ longitude grid for MERRA-2 (data_type = '2') and MAC-LWP/ CERES-EBAF-TOA_Ed4.1 are the same, it does not matter for the choice of lat/lon.\n",
    "\n",
    "\n",
    "# count the ratio of values that are missing in each bin boxes:\n",
    "ratio_array = binned_cySO_availabledata(x_array_yr, lats_so, lons_so)\n",
    "\n",
    "ind_binned_omit = np.where(ratio_array> 0.50, True, False)  # ignoring bin boxes which has the ratio of np.nan points over 0.5.\n",
    "\n",
    "shape_ratio_bin = np.asarray(np.nonzero(ind_binned_omit == True)).shape[1] / len(ind_binned_omit.flatten())\n",
    "print(shape_ratio_bin)   # ratio of bin boxes that should be omited\n",
    "\n",
    "MC_SO_an_bin_nan[ind_binned_omit] = np.nan\n",
    "LWP_SO_an_bin_nan[ind_binned_omit] = np.nan\n",
    "\n",
    "# print(lat_IMERG3, lon_IMERG3)"
   ]
  },
  {
   "cell_type": "code",
   "execution_count": 7,
   "id": "347bcb28-744b-431a-acff-e5b5f613ca30",
   "metadata": {
    "jupyter": {
     "source_hidden": true
    },
    "tags": []
   },
   "outputs": [],
   "source": [
    "def get_OBSLRM(valid_range1=[2002, 7, 15], valid_range2=[2016, 12, 31]):\n",
    "    # This function is for reading the observation data from the MERRA-2 Re-analysis, .. for LRM training and testing.\n",
    "    \n",
    "    T_alevs, lat_merra2, lon_merra2, Pres, times_merra2 = read_var_obs_MERRA2(varnm = 'T', read_p = True, valid_range1=valid_range1, valid_range2=valid_range2, data_type = '2')\n",
    "    T_700 = T_alevs[:, 12, :,:]  # 700 hPa level\n",
    "    \n",
    "    sub = read_var_obs_MERRA2(varnm = 'OMEGA500', read_p = False, valid_range1=valid_range1, valid_range2=valid_range2, data_type='2')[0]\n",
    "    sfc_T = read_var_obs_MERRA2(varnm = 'TS', read_p = False, valid_range1=valid_range1, valid_range2=valid_range2, data_type='2')[0]\n",
    "    sfc_P = read_var_obs_MERRA2(varnm = 'PS', read_p = False, valid_range1=valid_range1, valid_range2=valid_range2, data_type='2')[0]\n",
    "    tas = read_var_obs_MERRA2(varnm = 'T2M', read_p = False, valid_range1=valid_range1, valid_range2=valid_range2, data_type ='2')[0]\n",
    "    P = read_var_obs_MERRA2(varnm = 'PRECTOT', read_p = False, valid_range1=valid_range1, valid_range2=valid_range2, data_type='2')[0]\n",
    "    P_IMERG3, lat_imerg, lon_imerg, times_imerg = read_var_obs_IMERG3(valid_range1=valid_range1, valid_range2=valid_range2, data_type='2')\n",
    "    \n",
    "    E = read_var_obs_MERRA2(varnm = 'EFLUX', read_p = False, valid_range1=valid_range1, valid_range2=valid_range2, data_type='2')[0]\n",
    "    \n",
    "    lwp, lwp_error, mask_array_mac, lat_mac, lon_mac, times_mac = read_var_obs_MAClwp(varnm = 'cloudlwp', valid_range1 = valid_range1, valid_range2 = valid_range2)\n",
    "    \n",
    "    rsut, lat_ceres, lon_ceres, times_ceres = read_var_obs_CERES(varnm = 'toa_sw_all_mon', valid_range1=valid_range1, valid_range2=valid_range2)\n",
    "    rsdt = read_var_obs_CERES(varnm = 'solar_mon', valid_range1=valid_range1, valid_range2=valid_range2)[0]\n",
    "    rsutcs = read_var_obs_CERES(varnm = 'toa_sw_clr_c_mon', valid_range1=valid_range1, valid_range2=valid_range2)[0]\n",
    "    \n",
    "    inputVar_obs = {'sfc_T': sfc_T, 'T_700': T_700, 'sfc_P': sfc_P, 'sub': sub, 'tas': tas, 'lwp': lwp, 'lwp_error': lwp_error, 'P': P, 'P_IMERG': P_IMERG3, 'E': E, 'rsdt': rsdt, 'rsut': rsut, 'rsutcs': rsutcs, 'pres': Pres, 'lat_merra2': lat_merra2, 'lon_merra2': lon_merra2, 'times_merra2': times_merra2, 'times_imerg': times_imerg, 'maskarray_mac': mask_array_mac, 'lat_mac': lat_mac, 'lon_mac': lon_mac, 'times_mac': times_mac, 'lat_ceres': lat_ceres, 'lon_ceres': lon_ceres, 'times_ceres': times_ceres}\n",
    "    \n",
    "    return inputVar_obs"
   ]
  },
  {
   "cell_type": "code",
   "execution_count": 8,
   "id": "44efc3a7-70ad-46f7-a4e5-e67dcd3d4ed4",
   "metadata": {
    "jupyter": {
     "source_hidden": true
    },
    "tags": []
   },
   "outputs": [],
   "source": [
    "def Pre_processing_IMERG3(s_range, x_range, y_range, valid_range1=[2002, 7, 15], valid_range2=[2016, 12, 31]):\n",
    "    # get the variables for training:\n",
    "    inputVar_obs = get_OBSLRM(valid_range1=valid_range1, valid_range2=valid_range2)\n",
    "    # ------------------------\n",
    "    # radiation code\n",
    "    \n",
    "    # Data processing\n",
    "    # Liquid water path, Unit in kg m^-2\n",
    "    LWP = inputVar_obs['lwp'] / 1000.\n",
    "    # 1-Sigma Liquid water path statistic error, Unit in kg m^-2\n",
    "    LWP_error = inputVar_obs['lwp_error'] / 1000.\n",
    "    # the MaskedArray of 'MAC-LWP' dataset\n",
    "    Maskarray_mac = inputVar_obs['maskarray_mac']\n",
    "\n",
    "\n",
    "    # GMT: Global mean surface air Temperature (2-meter), Unit in K\n",
    "    gmt = inputVar_obs['tas'] * 1.\n",
    "    # X_{i}: CCFs:\n",
    "    # T_s: Sea Surface Temperature or skin- Temperature, Unit in K\n",
    "    SST = inputVar_obs['sfc_T'] * 1.\n",
    "\n",
    "    # Eva: Evaporation, Unit in mm day^-1 (here use the latent heat flux from the sfc, unit convert from W m^-2 --> kg m^-2 s^-1 --> mm day^-1)\n",
    "    lh_vaporization = (2.501 - (2.361 * 10**-3) * (SST - 273.15)) * 1e6  # the latent heat of vaporization at the surface Temperature\n",
    "    Eva = inputVar_obs['E'] / lh_vaporization * (24. * 60 * 60)\n",
    "\n",
    "    # Precip: Precipitation, Unit in mm day^-1 (convert from kg m^-2 s^-1)\n",
    "\n",
    "    Precip = inputVar_obs['P'] * (24. * 60 * 60)\n",
    "\n",
    "    # Precipitation data 2 from IMERG, Unit in mm/day (convert from mm/hr)\n",
    "\n",
    "    Precip_IMERG = inputVar_obs['P_IMERG'] * (24.)\n",
    "\n",
    "    # MC: Moisture Convergence, represent the water vapor abundance, Unit in mm day^-1\n",
    "\n",
    "    MC = Precip - Eva  # FROM 2011 TO 2016\n",
    "\n",
    "    MC_IMERG = Precip_IMERG - Eva[len(Eva)-len(Precip_IMERG)::, :, :]  # FROM 2011 TO 2016;\n",
    "\n",
    "    # print(MC_IMERG)\n",
    "\n",
    "    # LTS: Lower Tropospheric Stability, Unit in K (the same as Potential Temperature):\n",
    "    k = 0.286\n",
    "\n",
    "    theta_700 = inputVar_obs['T_700'] * (100000. / 70000.)**k\n",
    "    theta_skin = inputVar_obs['sfc_T'] * (100000. / inputVar_obs['sfc_P'])**k\n",
    "    LTS_m = theta_700 - theta_skin  # LTS with np.nan\n",
    "\n",
    "    # #.. mask the place with np.nan value\n",
    "    # LTS_e = np.ma.masked_where(theta_700==np.nan, LTS_m)\n",
    "    # # print(LTS_e)\n",
    "\n",
    "    # 500 mb Subsidence:\n",
    "    Subsidence = inputVar_obs['sub']\n",
    "\n",
    "    # SW radiative fluxes:\n",
    "    Rsdt = inputVar_obs['rsdt']\n",
    "    Rsut = inputVar_obs['rsut']\n",
    "    Rsutcs = inputVar_obs['rsutcs']\n",
    "\n",
    "    albedo = Rsut / Rsdt\n",
    "    albedo_cs = Rsutcs / Rsdt\n",
    "    Alpha_cre = albedo - albedo_cs\n",
    "    # abnormal values:\n",
    "    albedo_cs[(albedo_cs <= 0.08) & (albedo_cs >= 1.00)] == np.nan\n",
    "    Alpha_cre[(albedo_cs <= 0.08) & (albedo_cs >= 1.00)] == np.nan\n",
    "\n",
    "    # define Dictionary to store: CCFs(4), gmt, other variables :\n",
    "    dict0_var = {'gmt': gmt, 'SST': SST, 'p_e': MC, 'p_e_IMERG': MC_IMERG, 'LTS': LTS_m, 'SUB': Subsidence, 'LWP': LWP, 'rsdt': Rsdt, 'rsut': Rsut, 'rsutcs': Rsutcs, 'albedo' : albedo, 'albedo_cs': albedo_cs, 'alpha_cre': Alpha_cre, 'LWP_statistic_error': LWP_error, 'Maskarray_mac': Maskarray_mac}\n",
    "    \n",
    "    \n",
    "    # Crop the regions\n",
    "    # crop the variables to the Southern Ocean latitude range: (40 ~ 85^o S)\n",
    "\n",
    "    dict1_SO, lat_merra2_so, lon_merra2_so = region_cropping(dict0_var, ['SST', 'p_e', 'p_e_IMERG', 'LTS', 'SUB'], inputVar_obs['lat_merra2'], inputVar_obs['lon_merra2'], lat_range = [-85., -40.], lon_range = [-180., 180.])\n",
    "    dict1_SO, lat_mac_so, lon_mac_so = region_cropping(dict1_SO, ['LWP', 'LWP_statistic_error', 'Maskarray_mac'], inputVar_obs['lat_mac'], inputVar_obs['lon_mac'], lat_range =[-85., -40.], lon_range = [-180., 180.])\n",
    "\n",
    "    # print(dict1_SO['p_e'])\n",
    "    # print(dict1_SO['p_e_IMERG'])\n",
    "\n",
    "    # Time-scale average\n",
    "    # monthly mean (not changed)\n",
    "    dict2_SO_mon = deepcopy(dict1_SO)\n",
    "\n",
    "\n",
    "    # annual mean variable\n",
    "    dict2_SO_yr = get_annually_dict(dict1_SO, ['gmt', 'SST', 'p_e', 'p_e_IMERG', 'LTS', 'SUB', 'LWP', 'LWP_statistic_error', 'rsdt', 'rsut', 'rsutcs', 'albedo', 'albedo_cs', 'alpha_cre'], inputVar_obs['times_merra2'], label = 'mon')\n",
    "\n",
    "    # print(dict2_SO_yr['SST'].shape, area_mean(dict2_SO_yr['p_e_IMERG'], lat_merra2_so, lon_merra2_so), area_mean(dict2_SO_yr['p_e'], lat_merra2_so, lon_merra2_so))\n",
    "\n",
    "    # Propagate the np.nan values in 3 different datasets:\n",
    "    # monthly data\n",
    "    test_array_mon = np.ones((dict2_SO_mon['LWP'].shape))\n",
    "    for i in ['SST', 'p_e', 'p_e_IMERG', 'LTS', 'SUB', 'LWP', 'LWP_statistic_error', 'rsdt', 'rsut', 'rsutcs', 'albedo', 'albedo_cs', 'alpha_cre']:\n",
    "        if dict2_SO_mon[i].shape == dict2_SO_mon['LWP'].shape:\n",
    "            test_array_mon = test_array_mon * (1. * dict2_SO_mon[i])\n",
    "\n",
    "    shape_ratio_mon = np.asarray(np.nonzero(np.isnan(test_array_mon) == True)).shape[1] / len(test_array_mon.flatten())\n",
    "\n",
    "    Maskarray_all_mon = np.isnan(test_array_mon)  # store the mask positions for monthly MERRA-2, MAC-LWP, CERES data in the SO;\n",
    "\n",
    "    x_array_mon = np.zeros((dict2_SO_mon['SST'].shape))  # used for count the missing points in monthly binned boxes\n",
    "    x_array_mon[np.isnan(test_array_mon)] = 1.0\n",
    "\n",
    "    # print(shape_ratio_mon, x_array_mon)\n",
    "\n",
    "    # Propagating the .nan into monthly mean data:\n",
    "    for j in ['SST', 'p_e', 'p_e_IMERG', 'LTS', 'SUB', 'LWP', 'LWP_statistic_error', 'rsdt', 'rsut', 'rsutcs', 'albedo', 'albedo_cs', 'alpha_cre']:\n",
    "        if dict2_SO_mon[j].shape == dict2_SO_mon['LWP'].shape:\n",
    "            dict2_SO_mon[j][Maskarray_all_mon] = np.nan\n",
    "\n",
    "\n",
    "    # annually data\n",
    "    test_array_yr = np.ones((dict2_SO_yr['LWP'].shape))\n",
    "    for i in ['SST', 'p_e', 'p_e_IMERG', 'LTS', 'SUB', 'LWP', 'LWP_statistic_error', 'rsdt', 'rsut', 'rsutcs', 'albedo', 'albedo_cs', 'alpha_cre']:\n",
    "            if dict2_SO_yr[i].shape == dict2_SO_yr['LWP'].shape:\n",
    "                test_array_yr = test_array_yr * (1. * dict2_SO_yr[i])\n",
    "\n",
    "    shape_ratio_yr = np.asarray(np.nonzero(np.isnan(test_array_yr) == True)).shape[1] / len(test_array_yr.flatten())\n",
    "    # print(shape_ratio_yr)\n",
    "    Maskarray_all_yr = np.isnan(test_array_yr)  # store the mask positions for annually mean MERRA-2, MAC-LWP, CERES data in the SO;\n",
    "\n",
    "    x_array_yr = np.zeros((dict2_SO_yr['SST'].shape))  # used for count the missing points in annually mean binned boxes\n",
    "    x_array_yr[np.isnan(test_array_yr)] = 1.0\n",
    "\n",
    "    # Propagating the .nan into annually mean data:\n",
    "    for j in ['SST', 'p_e', 'p_e_IMERG', 'LTS', 'SUB', 'LWP', 'LWP_statistic_error', 'rsdt', 'rsut', 'rsutcs', 'albedo', 'albedo_cs', 'alpha_cre']:\n",
    "        if dict2_SO_yr[j].shape == dict2_SO_yr['LWP'].shape:\n",
    "            dict2_SO_yr[j][Maskarray_all_yr] = np.nan\n",
    "\n",
    "\n",
    "\n",
    "    # binned (spatial) avergae.\n",
    "    # Southern Ocean 5 * 5 degree bin box\n",
    "    #..set are-mean range and define function\n",
    "    s_range = arange(-90., 90., 5.) + 2.5  #..global-region latitude edge: (36)\n",
    "    x_range = arange(-180., 180.5, 5.)  #..logitude sequences edge: number: 72\n",
    "    y_range = arange(-85, -40., 5.) + 2.5  #..southern-ocaen latitude edge: 9\n",
    "\n",
    "\n",
    "    # binned Monthly variables:\n",
    "    dict3_SO_mon_bin = {}\n",
    "\n",
    "    for e in ['SST', 'p_e', 'p_e_IMERG', 'LTS', 'SUB', 'LWP', 'LWP_statistic_error', 'rsdt', 'rsut', 'rsutcs', 'albedo', 'albedo_cs', 'alpha_cre']:\n",
    "\n",
    "        dict3_SO_mon_bin[e] = binned_cySouthOcean5(dict2_SO_mon[e], inputVar_obs['lat_ceres'], inputVar_obs['lon_ceres'])\n",
    "        # since the latitide/ longitude grid for MERRA-2 (data_type = '2') and MAC-LWP/ CERES-EBAF-TOA_Ed4.1 are the same, it does not matter for the choice of lat/lon.\n",
    "\n",
    "    dict3_SO_mon_bin['gmt'] = binned_cyGlobal5(dict2_SO_mon['gmt'], inputVar_obs['lat_merra2'], inputVar_obs['lon_merra2'])\n",
    "    print(\"End monthly data binned.\")\n",
    "\n",
    "    # binned Annually data (it's different than do the binned operation on the 'dict2_SO_yr'):\n",
    "    dict3_SO_yr_bin = get_annually_dict(dict3_SO_mon_bin, ['gmt', 'SST', 'p_e', 'p_e_IMERG', 'LTS', 'SUB', 'LWP', 'LWP_statistic_error', 'rsdt', 'rsut', 'rsutcs', 'albedo', 'albedo_cs', 'alpha_cre'], inputVar_obs['times_merra2'])\n",
    "\n",
    "    print(\"End annually data binned.\")\n",
    "\n",
    "\n",
    "    # count the ratio of values that are missing in each bin boxes:\n",
    "    ratio_array = binned_cySO_availabledata(x_array_mon, inputVar_obs['lat_ceres'], inputVar_obs['lon_ceres'])\n",
    "\n",
    "    ind_binned_omit = np.where(ratio_array>0.499, True, False)  # ignoring bin boxes which has the ratio of np.nan points over 0.5.\n",
    "\n",
    "    shape_ratio_bin = np.asarray(np.nonzero(ind_binned_omit == True)).shape[1] / len(ind_binned_omit.flatten())\n",
    "    # print(shape_ratio_bin)   # ratio of bin boxes that should be omited\n",
    "\n",
    "    for k in ['SST', 'p_e', 'p_e_IMERG', 'LTS', 'SUB', 'LWP', 'LWP_statistic_error', 'rsdt', 'rsut', 'rsutcs', 'albedo', 'albedo_cs', 'alpha_cre']:\n",
    "        if dict3_SO_mon_bin[k].shape == dict3_SO_mon_bin['LWP'].shape:\n",
    "            dict3_SO_mon_bin[k][ind_binned_omit] = np.nan\n",
    "\n",
    "\n",
    "    \n",
    "    return dict3_SO_mon_bin, np.asarray(lat_merra2_so), np.asarray(lon_merra2_so), np.asarray(inputVar_obs['times_merra2'])"
   ]
  },
  {
   "cell_type": "markdown",
   "id": "956b0266-390f-469b-8aa9-4b144f8758a0",
   "metadata": {},
   "source": [
    "Calculating IMERG CCF MODEL:"
   ]
  },
  {
   "cell_type": "code",
   "execution_count": 9,
   "id": "091100e0-c63f-4a09-9432-0bcc5b5fbf74",
   "metadata": {
    "collapsed": true,
    "jupyter": {
     "outputs_hidden": true,
     "source_hidden": true
    },
    "tags": []
   },
   "outputs": [
    {
     "name": "stdout",
     "output_type": "stream",
     "text": [
      "(42,)\n",
      "(0,)\n",
      "(0,)\n",
      "(0,)\n",
      "(0,)\n",
      "(0,)\n",
      "(0,)\n",
      "[2012 2013 2014 2015 2016]\n"
     ]
    },
    {
     "name": "stderr",
     "output_type": "stream",
     "text": [
      "/glade/u/ssg/ch/usr/jupyterhub/envs/npl-3.7.9/dav/lib/python3.7/site-packages/numpy/core/_asarray.py:85: UserWarning: WARNING: valid_min not used since it\n",
      "cannot be safely cast to variable data type\n",
      "  return array(a, dtype, copy=False, order=order)\n",
      "/glade/u/ssg/ch/usr/jupyterhub/envs/npl-3.7.9/dav/lib/python3.7/site-packages/numpy/core/_asarray.py:85: UserWarning: WARNING: valid_max not used since it\n",
      "cannot be safely cast to variable data type\n",
      "  return array(a, dtype, copy=False, order=order)\n"
     ]
    },
    {
     "name": "stdout",
     "output_type": "stream",
     "text": [
      "Fill Value:  -999.0\n",
      "(60, 45, 360)\n",
      "Fill Value:  -999.0\n",
      "(60, 45, 360)\n",
      "Fill Value:  -999.0\n",
      "(60, 45, 360)\n"
     ]
    },
    {
     "name": "stderr",
     "output_type": "stream",
     "text": [
      "/glade/u/ssg/ch/usr/jupyterhub/envs/npl-3.7.9/dav/lib/python3.7/site-packages/ipykernel_launcher.py:65: RuntimeWarning: invalid value encountered in less_equal\n",
      "/glade/u/ssg/ch/usr/jupyterhub/envs/npl-3.7.9/dav/lib/python3.7/site-packages/ipykernel_launcher.py:65: RuntimeWarning: invalid value encountered in greater_equal\n",
      "/glade/u/ssg/ch/usr/jupyterhub/envs/npl-3.7.9/dav/lib/python3.7/site-packages/ipykernel_launcher.py:66: RuntimeWarning: invalid value encountered in less_equal\n",
      "/glade/u/ssg/ch/usr/jupyterhub/envs/npl-3.7.9/dav/lib/python3.7/site-packages/ipykernel_launcher.py:66: RuntimeWarning: invalid value encountered in greater_equal\n",
      "/glade/work/chuyan/Research/Cloud_CCFs_RMs/Tan_et_al_2023_JGR-A__/useful_func_cy.py:175: RuntimeWarning: Mean of empty slice\n",
      "  annually_array[i,:,:] = nanmean(dict_annually_mean[variable_nas[v]][i*12:(i+1)*12, :,:], axis = 0)\n"
     ]
    },
    {
     "name": "stdout",
     "output_type": "stream",
     "text": [
      " ended cropping \n",
      " ended cropping \n",
      "End monthly data binned.\n",
      "End annually data binned.\n",
      "(42,)\n",
      "(0,)\n",
      "(0,)\n",
      "(0,)\n",
      "(0,)\n",
      "(0,)\n",
      "(0,)\n",
      "[2001 2002 2003 2004 2005 2006 2007 2008 2009 2010 2011]\n",
      "Fill Value:  -999.0\n",
      "(114, 45, 360)\n",
      "Fill Value:  -999.0\n",
      "(114, 45, 360)\n",
      "Fill Value:  -999.0\n",
      "(114, 45, 360)\n",
      " ended cropping \n",
      " ended cropping \n",
      "End monthly data binned.\n",
      "End annually data binned.\n"
     ]
    }
   ],
   "source": [
    "# Southern Ocean 5 * 5 degree bin box\n",
    "# Using to do area_mean\n",
    "s_range = arange(-90., 90., 5.) + 2.5  #..global-region latitude edge: (36)\n",
    "x_range = arange(-180., 180., 5.)  #..logitude sequences edge: number: 72\n",
    "y_range = arange(-85, -40., 5.) + 2.5  #..southern-ocaen latitude edge: 9\n",
    "\n",
    "# Function #1 Precossing IMERG data:\n",
    "dict_training_IMERG3, lats_Array, lons_Array, times_Array_training_IMERG3 = Pre_processing_IMERG3(s_range, x_range, y_range, valid_range1 = valid_range7, valid_range2 = valid_range8)\n",
    "\n",
    "dict_predict_IMERG3,  lats_Array, lons_Array, times_Array_predict_IMERG3 = Pre_processing_IMERG3(s_range, x_range, y_range, valid_range1 = valid_range5, valid_range2 = valid_range6)"
   ]
  },
  {
   "cell_type": "code",
   "execution_count": 10,
   "id": "c4f6e380-6378-49dc-8754-02c6ce01dd39",
   "metadata": {
    "collapsed": true,
    "jupyter": {
     "outputs_hidden": true,
     "source_hidden": true
    },
    "tags": []
   },
   "outputs": [
    {
     "name": "stdout",
     "output_type": "stream",
     "text": [
      "(60, 9, 72)\n",
      "(60, 9, 72)\n",
      "(60, 9, 72)\n",
      "(60, 9, 72)\n",
      "(60, 9, 72)\n",
      "(60, 9, 72)\n",
      "(60, 9, 72)\n",
      "(60, 9, 72)\n",
      "(60, 9, 72)\n",
      "(60, 9, 72)\n",
      "(60, 9, 72)\n",
      "(60, 9, 72)\n",
      "predictors metrix shape:  (4, 38880)\n",
      "shape1:  (38880,)\n",
      "shape2:  (1, 15193)\n",
      " Total # of regime 1\n",
      "(4, 85536)\n",
      "shape1:  (85536,)\n",
      "shape2:  (1, 33524)\n",
      " Total # of regime 1\n",
      "current # of regimes 0\n"
     ]
    }
   ],
   "source": [
    "# Function #2 training LRM with using no cut-off, then use it to predict the validation period.\n",
    "\n",
    "predict_result_1r_IMERG3 = fitLRMobs_1(dict_training_IMERG3, dict_predict_IMERG3, s_range, y_range, x_range, lats_Array, lons_Array, add_IMERG = True)\n"
   ]
  },
  {
   "cell_type": "code",
   "execution_count": 11,
   "id": "0b79d770-74ba-4fc4-b9d5-5c90207c67bb",
   "metadata": {
    "collapsed": true,
    "jupyter": {
     "outputs_hidden": true,
     "source_hidden": true
    },
    "tags": []
   },
   "outputs": [
    {
     "name": "stdout",
     "output_type": "stream",
     "text": [
      "[array([ 1.72075226e-03,  7.45112293e-04,  1.89696024e-05, -3.53097808e-01])\n",
      " -0.39394768379170947]\n",
      "[3.90782609 3.23372597 9.88096764 0.02026041]\n",
      "[ 6.72440056  2.40948897  0.18743803 -7.15390778]\n"
     ]
    }
   ],
   "source": [
    "# Add IMERG3 observational dLWP/dXi in units of kg*m^-2/ (raw unit).\n",
    "\n",
    "coef_obs_IMERG3 = predict_result_1r_IMERG3['coef_dict']\n",
    "print(coef_obs_IMERG3)\n",
    "# Convert Observational dLWP/dXi from kg*m^-2/ unit to g*m^-2/ (std*dev)\n",
    "# std_dev_LWP = predict_result_1r['std_LWP_training']\n",
    "\n",
    "sigmaXi_r2_obs_IMERG3 = np.full((4), 0.0)\n",
    "sigmaXi_r2_obs_IMERG3 = np.asarray([np.nanstd(dict_training_IMERG3['SST']), np.nanstd(dict_training_IMERG3['p_e_IMERG']), np.nanstd(dict_training_IMERG3['LTS']), np.nanstd(dict_training_IMERG3['SUB'])])\n",
    "print(sigmaXi_r2_obs_IMERG3)\n",
    "\n",
    "a_IMERG3 = 1000. * coef_obs_IMERG3[0] * sigmaXi_r2_obs_IMERG3\n",
    "print(a_IMERG3)"
   ]
  },
  {
   "cell_type": "markdown",
   "id": "c2c8540d-da66-4ffd-9a27-4144e2508b70",
   "metadata": {},
   "source": [
    "Calculating MERRA-2 CCF Model:"
   ]
  },
  {
   "cell_type": "code",
   "execution_count": 13,
   "id": "5ea12b90-97a7-4682-9799-7ab3c147b92c",
   "metadata": {
    "tags": []
   },
   "outputs": [
    {
     "name": "stdout",
     "output_type": "stream",
     "text": [
      "(42,)\n",
      "(0,)\n",
      "(0,)\n",
      "(0,)\n",
      "(0,)\n",
      "(0,)\n",
      "(0,)\n",
      "[2012 2013 2014 2015 2016]\n"
     ]
    },
    {
     "name": "stderr",
     "output_type": "stream",
     "text": [
      "/glade/u/ssg/ch/usr/jupyterhub/envs/npl-3.7.9/dav/lib/python3.7/site-packages/numpy/core/_asarray.py:85: UserWarning: WARNING: valid_min not used since it\n",
      "cannot be safely cast to variable data type\n",
      "  return array(a, dtype, copy=False, order=order)\n",
      "/glade/u/ssg/ch/usr/jupyterhub/envs/npl-3.7.9/dav/lib/python3.7/site-packages/numpy/core/_asarray.py:85: UserWarning: WARNING: valid_max not used since it\n",
      "cannot be safely cast to variable data type\n",
      "  return array(a, dtype, copy=False, order=order)\n"
     ]
    },
    {
     "name": "stdout",
     "output_type": "stream",
     "text": [
      "Fill Value:  -999.0\n",
      "(60, 45, 360)\n",
      "Fill Value:  -999.0\n",
      "(60, 45, 360)\n",
      "Fill Value:  -999.0\n",
      "(60, 45, 360)\n"
     ]
    },
    {
     "name": "stderr",
     "output_type": "stream",
     "text": [
      "/glade/work/chuyan/Research/Cloud_CCFs_RMs/Tan_et_al_2023_JGR-A__/calc_LRMobs_metric.py:147: RuntimeWarning: invalid value encountered in less_equal\n",
      "  albedo_cs[(albedo_cs <= 0.08) & (albedo_cs >= 1.00)] == np.nan\n",
      "/glade/work/chuyan/Research/Cloud_CCFs_RMs/Tan_et_al_2023_JGR-A__/calc_LRMobs_metric.py:147: RuntimeWarning: invalid value encountered in greater_equal\n",
      "  albedo_cs[(albedo_cs <= 0.08) & (albedo_cs >= 1.00)] == np.nan\n",
      "/glade/work/chuyan/Research/Cloud_CCFs_RMs/Tan_et_al_2023_JGR-A__/calc_LRMobs_metric.py:148: RuntimeWarning: invalid value encountered in less_equal\n",
      "  Alpha_cre[(albedo_cs <= 0.08) & (albedo_cs >= 1.00)] == np.nan\n",
      "/glade/work/chuyan/Research/Cloud_CCFs_RMs/Tan_et_al_2023_JGR-A__/calc_LRMobs_metric.py:148: RuntimeWarning: invalid value encountered in greater_equal\n",
      "  Alpha_cre[(albedo_cs <= 0.08) & (albedo_cs >= 1.00)] == np.nan\n",
      "/glade/work/chuyan/Research/Cloud_CCFs_RMs/Tan_et_al_2023_JGR-A__/useful_func_cy.py:174: RuntimeWarning: Mean of empty slice\n",
      "  annual_array[i,:,:] = nanmean(dict_rawdata[variable_nas[v]][i*12:(i+1)*12, :,:], axis = 0)\n"
     ]
    },
    {
     "name": "stdout",
     "output_type": "stream",
     "text": [
      " ended cropping \n",
      " ended cropping \n",
      "End monthly data binned.\n",
      "End annually data binned.\n",
      "(42,)\n",
      "(0,)\n",
      "(0,)\n",
      "(0,)\n",
      "(0,)\n",
      "(0,)\n",
      "(0,)\n",
      "[1992 1993 1994 1995 1996 1997 1998 1999 2000 2001 2002 2003 2004 2005\n",
      " 2006 2007 2008 2009 2010 2011]\n",
      "Fill Value:  -999.0\n",
      "(114, 45, 360)\n",
      "Fill Value:  -999.0\n",
      "(114, 45, 360)\n",
      "Fill Value:  -999.0\n",
      "(114, 45, 360)\n",
      " ended cropping \n",
      " ended cropping \n",
      "End monthly data binned.\n",
      "End annually data binned.\n",
      "(60, 9, 72)\n",
      "(60, 9, 72)\n",
      "(60, 9, 72)\n",
      "(60, 9, 72)\n",
      "(60, 9, 72)\n",
      "(60, 9, 72)\n",
      "(60, 9, 72)\n",
      "(60, 9, 72)\n",
      "(60, 9, 72)\n",
      "(60, 9, 72)\n",
      "(60, 9, 72)\n",
      "(60, 9, 72)\n",
      "predictors metrix shape:  (4, 38880)\n",
      "shape1:  (38880,)\n",
      "shape2:  (1, 20257)\n",
      " Total # of regime 1\n",
      "(4, 155520)\n",
      "shape1:  (155520,)\n",
      "shape2:  (1, 80336)\n",
      " Total # of regime 1\n",
      "current # of regimes 0\n",
      "[array([ 3.15625283e-03,  1.30671639e-02, -3.24761545e-05,  1.37516961e-01])\n",
      " -0.808926167701633]\n",
      "[12.86908818 16.36944715 -0.29466646  2.64959652]\n"
     ]
    }
   ],
   "source": [
    "# Function #1 Processing MERRA-2 data.\n",
    "dict_training, lats_Array, lons_Array, times_Array_training = Pre_processing(s_range, x_range, y_range, valid_range1 = valid_range3, valid_range2 = valid_range4)\n",
    "\n",
    "dict_predict, lats_Array, lons_Array, times_Array_predict = Pre_processing(s_range, x_range, y_range, valid_range1 = valid_range1, valid_range2 = valid_range2)\n",
    "\n",
    "\n",
    "# Function #2 training LRM with using no cut-off, then use it to predict another historical period.\n",
    "predict_result_1r = fitLRMobs_1(dict_training, dict_predict, s_range, y_range, x_range, lats_Array, lons_Array, add_IMERG = False)\n",
    "\n",
    "# Observational dLWP/dXi in units of kg*m^-2/ (raw unit).\n",
    "\n",
    "coef_obs = predict_result_1r['coef_dict']\n",
    "print(coef_obs)\n",
    "# Convert Observational dLWP/dXi from kg*m^-2/ unit to g*m^-2/ (std*dev)\n",
    "# std_dev_LWP = predict_result_1r['std_LWP_training']\n",
    "\n",
    "sigmaXi_r2_obs = np.full((4), 0.0)\n",
    "sigmaXi_r2_obs = np.asarray([np.nanstd(dict_training['SST']), np.nanstd(dict_training['p_e']), np.nanstd(dict_training['LTS']), np.nanstd(dict_training['SUB'])])\n",
    "# print(sigmaXi_r2_obs)\n",
    "\n",
    "a = 1000. * coef_obs[0] * sigmaXi_r2_obs\n",
    "print(a)"
   ]
  },
  {
   "cell_type": "markdown",
   "id": "15175bc1-7484-4116-94aa-bf266a38db06",
   "metadata": {},
   "source": [
    "### Fig 4: \n",
    "\n",
    "<!-- Out-of-sample Test in Observations: traning period (1992-1996) to predict the LWP in validation period (1997-2016): -->\n",
    "Out-of-sample Test in Observations: traning period (2012 - 2016) to predict the LWP in validation period (1992-2011): "
   ]
  },
  {
   "cell_type": "code",
   "execution_count": 14,
   "id": "22f509f1-41dd-445b-8d95-c6e9393af2a6",
   "metadata": {
    "collapsed": true,
    "jupyter": {
     "outputs_hidden": true,
     "source_hidden": true
    },
    "tags": []
   },
   "outputs": [
    {
     "name": "stdout",
     "output_type": "stream",
     "text": [
      "(85536,)\n",
      "(155520,)\n",
      "(240, 9, 72)\n"
     ]
    }
   ],
   "source": [
    "print((predict_result_1r_IMERG3['predict_Array']['p_e_IMERG']).shape)\n",
    "print((predict_result_1r['predict_Array']['p_e']).shape)\n",
    "\n",
    "print(dict_predict['LWP'].shape)"
   ]
  },
  {
   "cell_type": "code",
   "execution_count": 15,
   "id": "670fc2fc-974e-41f9-88f3-24d1b58beed8",
   "metadata": {
    "collapsed": true,
    "jupyter": {
     "outputs_hidden": true,
     "source_hidden": true
    },
    "tags": []
   },
   "outputs": [
    {
     "data": {
      "text/plain": [
       "[<matplotlib.lines.Line2D at 0x2b79de974a90>]"
      ]
     },
     "execution_count": 15,
     "metadata": {},
     "output_type": "execute_result"
    },
    {
     "data": {
      "image/png": "[encoded data removed]",
      "text/plain": [
       "<Figure size 648x288 with 1 Axes>"
      ]
     },
     "metadata": {
      "needs_background": "light"
     },
     "output_type": "display_data"
    }
   ],
   "source": [
    "plt.figure(figsize = (9, 4))\n",
    "\n",
    "plt.plot(np.arange(2001, 2017, 1), area_mean(MC_SO_an_bin_nan,y_range,x_range), c = 'blue')"
   ]
  },
  {
   "cell_type": "code",
   "execution_count": 40,
   "id": "c71565cf-beed-4d11-a834-e1bd9964955f",
   "metadata": {
    "tags": []
   },
   "outputs": [
    {
     "name": "stderr",
     "output_type": "stream",
     "text": [
      "/glade/work/chuyan/Research/Cloud_CCFs_RMs/Tan_et_al_2023_JGR-A__/useful_func_cy.py:116: RuntimeWarning: Mean of empty slice\n",
      "  annual_array[i,:,:] = nanmean(data[i*12:(i+1)*12, :,:], axis = 0)\n"
     ]
    }
   ],
   "source": [
    "# MERRA-2 Precipitation:\n",
    "# annual mean:\n",
    "# Out-of-sample Test in Observations: traning period (2012 - 2016) to predict the LWP in validation period (1992-2011): \n",
    "time_Array_training = times_Array_training\n",
    "time_Array_predict = times_Array_predict\n",
    "\n",
    "lats = y_range\n",
    "lons = x_range\n",
    "\n",
    "data_Array_actual_predict = predict_result_1r['LWP_actual_predict']\n",
    "data_Array_actual_training = predict_result_1r['LWP_actual_training']\n",
    "data_Array_predict_predict = predict_result_1r['LWP_predi_predict']\n",
    "data_Array_predict_training = predict_result_1r['LWP_predi_training']\n",
    "\n",
    "\n",
    "coef_dict = coef_obs\n",
    "# print(coef_dict.shape)\n",
    "\n",
    "output_CCF1 = area_mean(get_annual_metric(np.append(predict_result_1r['predict_Array']['SST'].reshape(dict_predict['LWP'].shape), predict_result_1r['training_Array']['SST'].reshape(dict_training['LWP'].shape), axis = 0), np.append(time_Array_predict, time_Array_training, axis = 0)), lats, lons)\n",
    "output_CCF2 = area_mean(get_annual_metric(np.append(predict_result_1r['predict_Array']['p_e'].reshape(dict_predict['LWP'].shape), predict_result_1r['training_Array']['p_e'].reshape(dict_training['LWP'].shape), axis = 0), np.append(time_Array_predict, time_Array_training, axis = 0)), lats, lons)\n",
    "# output_CCF2_IMERG3 = area_mean(get_annual_metric(np.append(predict_result_1r_IMERG3['predict_Array']['p_e_IMERG'].reshape(dict_predict_IMERG3['LWP'].shape), predict_result_1r_IMERG3['training_Array']['p_e_IMERG'].reshape(dict_training_IMERG3['LWP'].shape), axis = 0), np.append(times_Array_predict_IMERG3, times_Array_training_IMERG3, axis = 0)), lats, lons)\n",
    "# output_CCF2_IMERG3 = area_mean(MC_SO_an_bin_nan,y_range, x_range)\n",
    "\n",
    "output_CCF3 = area_mean(get_annual_metric(np.append(predict_result_1r['predict_Array']['LTS'].reshape(dict_predict['LWP'].shape), predict_result_1r['training_Array']['LTS'].reshape(dict_training['LWP'].shape), axis = 0), np.append(time_Array_predict, time_Array_training, axis = 0)), lats, lons)\n",
    "output_CCF4 = area_mean(get_annual_metric(np.append(predict_result_1r['predict_Array']['SUB'].reshape(dict_predict['LWP'].shape), predict_result_1r['training_Array']['SUB'].reshape(dict_training['LWP'].shape), axis = 0), np.append(time_Array_predict, time_Array_training, axis = 0)), lats, lons)\n",
    "\n",
    "output_time = np.arange(0, time_Array_training.shape[0]//12 + time_Array_predict.shape[0]//12, 1)\n",
    "# output_time_IMERG3 = np.arange(0, times_Array_training_IMERG3.shape[0]//12 + times_Array_predict_IMERG3.shape[0]//12, 1) + 9\n",
    "\n",
    "output_actual = area_mean(get_annual_metric(np.append(data_Array_actual_predict, data_Array_actual_training, axis = 0), times = np.append(time_Array_predict, time_Array_training, axis = 0)), lats, lons)\n",
    "# output_actual_IMERG3 = area_mean(get_annual_metric(np.append(predict_result_1r_IMERG3['LWP_actual_predict'], predict_result_1r_IMERG3['LWP_actual_training'], axis = 0), times = np.append(times_Array_predict_IMERG3, times_Array_training_IMERG3, axis = 0)), lats, lons)\n",
    "\n",
    "# output_predict = area_mean(annually_mean(np.append(data_Array_predict_predict, data_Array_predict_training, axis = 0), times = np.append(time_Array_predict, time_Array_training, axis = 0)), lats, lons)\n",
    "output_predict = (coef_obs[0][0] * output_CCF1[:] + coef_obs[1] + coef_obs[0][1] * output_CCF2 + coef_obs[0][2] * output_CCF3[:] + coef_obs[0][3] * output_CCF4[:])\n",
    "# output_predict_IMERG3 = (coef_obs[0][0] * output_CCF1[25-16:] + coef_obs[1] + coef_obs[0][1] * output_CCF2_IMERG3+ coef_obs[0][2] * output_CCF3[25-16:] + coef_obs[0][3] * output_CCF4[25-16:])"
   ]
  },
  {
   "cell_type": "markdown",
   "id": "516a09b8-d757-48c1-bf5a-c459bb96510f",
   "metadata": {},
   "source": [
    "Out-of-sample Test in Observations: traning period (1992-1996) to predict the LWP in validation period (1997-2016):"
   ]
  },
  {
   "cell_type": "code",
   "execution_count": 38,
   "id": "547537c1-e4fd-4edc-9cd2-92d931f5a2d7",
   "metadata": {
    "tags": []
   },
   "outputs": [],
   "source": [
    "# MERRA-2 Precipitation:\n",
    "# annual mean: flip the training and validation period:\n",
    "# Out-of-sample Test in Observations: traning period (1992-1996) to predict the LWP in validation period (1997-2016):\n",
    "time_Array_training = times_Array_training\n",
    "time_Array_predict = times_Array_predict\n",
    "\n",
    "lats = y_range\n",
    "lons = x_range\n",
    "\n",
    "data_Array_actual_predict = predict_result_1r['LWP_actual_predict']\n",
    "data_Array_actual_training = predict_result_1r['LWP_actual_training']\n",
    "data_Array_predict_predict = predict_result_1r['LWP_predi_predict']\n",
    "data_Array_predict_training = predict_result_1r['LWP_predi_training']\n",
    "\n",
    "\n",
    "coef_dict = coef_obs\n",
    "# print(coef_dict.shape)\n",
    "\n",
    "output_CCF1 = area_mean(get_annual_metric(np.append(predict_result_1r['training_Array']['SST'].reshape(dict_training['LWP'].shape), predict_result_1r['predict_Array']['SST'].reshape(dict_predict['LWP'].shape), axis = 0), np.append(time_Array_training, time_Array_predict, axis = 0)), lats, lons)\n",
    "output_CCF2 = area_mean(get_annual_metric(np.append(predict_result_1r['training_Array']['p_e'].reshape(dict_training['LWP'].shape), predict_result_1r['predict_Array']['p_e'].reshape(dict_predict['LWP'].shape), axis = 0), np.append(time_Array_training, time_Array_predict, axis = 0)), lats, lons)\n",
    "# output_CCF2_IMERG3 = area_mean(get_annual_metric(np.append(predict_result_1r_IMERG3['predict_Array']['p_e_IMERG'].reshape(dict_predict_IMERG3['LWP'].shape), predict_result_1r_IMERG3['training_Array']['p_e_IMERG'].reshape(dict_training_IMERG3['LWP'].shape), axis = 0), np.append(times_Array_predict_IMERG3, times_Array_training_IMERG3, axis = 0)), lats, lons)\n",
    "# output_CCF2_IMERG3 = area_mean(MC_SO_an_bin_nan,y_range, x_range)\n",
    "\n",
    "output_CCF3 = area_mean(get_annual_metric(np.append(predict_result_1r['training_Array']['LTS'].reshape(dict_training['LWP'].shape), predict_result_1r['predict_Array']['LTS'].reshape(dict_predict['LWP'].shape), axis = 0), np.append(time_Array_training, time_Array_predict, axis = 0)), lats, lons)\n",
    "output_CCF4 = area_mean(get_annual_metric(np.append(predict_result_1r['training_Array']['SUB'].reshape(dict_training['LWP'].shape), predict_result_1r['predict_Array']['SUB'].reshape(dict_predict['LWP'].shape), axis = 0), np.append(time_Array_training, time_Array_predict, axis = 0)), lats, lons)\n",
    "\n",
    "output_time = np.arange(0, time_Array_predict.shape[0]//12 + time_Array_training.shape[0]//12, 1)\n",
    "# output_time_IMERG3 = np.arange(0, times_Array_training_IMERG3.shape[0]//12 + times_Array_predict_IMERG3.shape[0]//12, 1) + 9\n",
    "\n",
    "output_actual = area_mean(get_annual_metric(np.append(data_Array_actual_training, data_Array_actual_predict, axis = 0), times = np.append(time_Array_predict, time_Array_training, axis = 0)), lats, lons)\n",
    "# output_actual_IMERG3 = area_mean(get_annual_metric(np.append(predict_result_1r_IMERG3['LWP_actual_predict'], predict_result_1r_IMERG3['LWP_actual_training'], axis = 0), times = np.append(times_Array_predict_IMERG3, times_Array_training_IMERG3, axis = 0)), lats, lons)\n",
    "\n",
    "# output_predict = area_mean(get_annual_metric(np.append(data_Array_predict_predict, data_Array_predict_training, axis = 0), times = np.append(time_Array_predict, time_Array_training, axis = 0)), lats, lons)\n",
    "output_predict = (coef_obs[0][0] * output_CCF1[:] + coef_obs[1] + coef_obs[0][1] * output_CCF2 + coef_obs[0][2] * output_CCF3[:] + coef_obs[0][3] * output_CCF4[:])\n",
    "# output_predict_IMERG3 = (coef_obs[0][0] * output_CCF1[25-16:] + coef_obs[1] + coef_obs[0][1] * output_CCF2_IMERG3+ coef_obs[0][2] * output_CCF3[25-16:] + coef_obs[0][3] * output_CCF4[25-16:])\n"
   ]
  },
  {
   "cell_type": "code",
   "execution_count": 46,
   "id": "f3efce79-279a-45c1-95bb-5e511535ac2f",
   "metadata": {
    "tags": []
   },
   "outputs": [
    {
     "data": {
      "text/plain": [
       "Text(0.5, 1.0, '(a) Southern Ocean LWP')"
      ]
     },
     "execution_count": 46,
     "metadata": {},
     "output_type": "execute_result"
    },
    {
     "data": {
      "image/png": "[encoded data removed]",
      "text/plain": [
       "<Figure size 705.6x594 with 2 Axes>"
      ]
     },
     "metadata": {
      "needs_background": "light"
     },
     "output_type": "display_data"
    }
   ],
   "source": [
    "# Plotting_1:\n",
    "\n",
    "\n",
    "parameters = {'axes.labelsize': 15, 'legend.fontsize': 14,\n",
    "         'axes.titlesize': 18,  'xtick.labelsize': 16,  'ytick.labelsize': 16}\n",
    "plt.rcParams.update(parameters)\n",
    "\n",
    "fig = plt.figure( figsize = (9.8, 8.25))\n",
    "gs = fig.add_gridspec(2, hspace = 0.137)\n",
    "axs = gs.subplots(sharex=True, sharey= False)\n",
    "axs[0].set_ylim(86.5, 94.5, 1.)\n",
    "axs[1].set_ylim(-2.5, 3.5, 0.6)\n",
    "\n",
    "# Hide the right and top spines:\n",
    "axs[1].spines['right'].set_visible(False)\n",
    "axs[1].spines['top'].set_visible(False)\n",
    "\n",
    "axs[0].spines['right'].set_visible(False)\n",
    "axs[0].spines['top'].set_visible(False)\n",
    "axs[0].spines['bottom'].set_visible(False)\n",
    "\n",
    "# Only show ticks on the left and bottom spines\n",
    "axs[1].yaxis.set_ticks_position('left')\n",
    "axs[1].xaxis.set_ticks_position('bottom')\n",
    "axs[0].xaxis.set_ticks_position('none')\n",
    "\n",
    "axs[0].plot(output_time, 1000.*output_actual, label = r'$OBS\\ LWP$', alpha = 1.0, linewidth= 3.20, linestyle = '-', c = 'green', zorder = 98)\n",
    "# axs[0].plot(output_time_IMERG3, 1000.*output_actual_IMERG3, label = r'$OBS\\ LWP_{IMERG} $', alpha = 1.0, linewidth= 3.40, linestyle = '--', c = 'green', zorder = 98)\n",
    "\n",
    "axs[0].plot(output_time, 1000.*output_predict, label = r'$Equ\\ 2\\ Predicted\\ LWP$', alpha = 1.0, linewidth= 3.10, linestyle = '-', c = 'b', zorder = 98)\n",
    "# axs[0].plot(output_time_IMERG3, 1000.*output_predict_IMERG3, label = r'$Equ\\ 2|_{IMERG} \\ Predicted\\ LWP$', alpha = 1.0, linewidth= 3.80, linestyle = '--', c = 'b', zorder = 98)\n",
    "\n",
    "# axs[0].axvline(time_Array_training.shape[0]//12, linestyle = '--', linewidth = 4.0, c = 'k')  # for training period at the front\n",
    "axs[0].axvline(time_Array_predict.shape[0]//12, linestyle = '--', linewidth = 4.0, c = 'k')  \n",
    "\n",
    "axs[1].plot(output_time, 1000.*((coef_dict[0][0] * output_CCF1 + coef_dict[1]) - (coef_dict[0][0] * output_CCF1[0] + coef_dict[1])), label = r'$T_{s}$', alpha = 1.0, linewidth= 2.80, c = 'k', linestyle = '--')\n",
    "axs[1].plot(output_time, 1000.*((coef_dict[0][1] * output_CCF2) - (coef_dict[0][1] * output_CCF2[0])), label = r'$P-E$', alpha = 1.0, linewidth= 2.80, c = 'royalblue', linestyle = '--')\n",
    "# axs[1].plot(output_time_IMERG3, 1000.*((coef_dict[0][1] * output_CCF2_IMERG3) - ((coef_dict[0][1] * output_CCF2_IMERG3[0]))), label = r'$P-E_{IMERG}$', alpha = 1.0, linewidth= 3.80, c = 'royalblue', linestyle = '-')\n",
    "axs[1].plot(output_time, 1000.*((coef_dict[0][2] * output_CCF3) - (coef_dict[0][2] * output_CCF3[0])), label = r'$LTS$', alpha = 1.0, linewidth= 2.80, c = 'purple', linestyle = '--')\n",
    "axs[1].plot(output_time, 1000.*((coef_dict[0][3] * output_CCF4) - (coef_dict[0][3] * output_CCF4[0])), label = r'$\\omega_{500}$', alpha = 1.0, linewidth= 2.80, c = 'red', linestyle = '--')\n",
    "\n",
    "# Hide x labels and tick labels for all but bottom plot.\n",
    "for ax in axs:\n",
    "    ax.label_outer()\n",
    "\n",
    "axs[0].legend()\n",
    "axs[1].legend(loc = 'upper left')\n",
    "axs[0].set_ylim(86.5, 94.5, 1.)\n",
    "axs[1].set_xticks(output_time[0:])\n",
    "\n",
    "# training period at the behind:\n",
    "axs[1].set_xticklabels((np.append(np.arange(time_Array_predict[0, 0], time_Array_predict[0, 0] + time_Array_predict.shape[0]//12, 1), np.arange(time_Array_training[0, 0], time_Array_training[0, 0] + time_Array_training.shape[0]//12, 1))).astype(int), rotation = 45)\n",
    "## training period at the front:\n",
    "# axs[1].set_xticklabels((np.append(np.arange(time_Array_training[0, 0], time_Array_training[0, 0] + time_Array_training.shape[0]//12, 1), np.arange(time_Array_predict[0, 0], time_Array_predict[0, 0] + time_Array_predict.shape[0]//12, 1))).astype(int), rotation = 45)\n",
    "\n",
    "# axs[0].set_xlabel(' Time ')\n",
    "axs[0].set_ylabel(r\"$\\ LWP,\\ $\" + r\"$ [g/m^{2}]$\")  # kg*m^{-2} \n",
    "axs[1].set_ylabel(r\"$\\partial LWP/ \\partial X_{i} \\cdot \\Delta X_{i},\\ $\" + r\"$ [g/m^{2}]$\")  #  std \\cdot dev^{-1}\n",
    "axs[0].set_title( \"(a) Southern Ocean LWP\", fontsize = 17)\n",
    "# axs[1].set_title( \"(b) CCF contribution\", fontsize = 18)\n",
    "# fig.suptitle(\" Observational trend of LWP from MAC-LWP \")\n",
    "\n",
    "# plt.legend()\n",
    "# plt.show()\n",
    "# plt.savefig(path6 + 'Fig_4.jpg', bbox_inches = 'tight', dpi = 500)\n"
   ]
  },
  {
   "cell_type": "code",
   "execution_count": 20,
   "id": "48c2669c-3b35-4472-84ef-b2c56689a6f6",
   "metadata": {},
   "outputs": [
    {
     "name": "stderr",
     "output_type": "stream",
     "text": [
      "/glade/work/chuyan/Research/Cloud_CCFs_RMs/Tan_et_al_2023_JGR-A__/useful_func_cy.py:100: RuntimeWarning: Mean of empty slice\n",
      "  annually_array[i,:,:] = nanmean(data[i*12:(i+1)*12, :,:], axis = 0)\n"
     ]
    }
   ],
   "source": [
    "#:IMERG3:Precipitation:\n",
    "# annual mean:\n",
    "\n",
    "time_Array_training = times_Array_training_IMERG3\n",
    "time_Array_predict = times_Array_predict_IMERG3\n",
    "\n",
    "lats = y_range\n",
    "lons = x_range\n",
    "\n",
    "data_Array_actual_predict = predict_result_1r_IMERG3['LWP_actual_predict']\n",
    "data_Array_actual_training = predict_result_1r_IMERG3['LWP_actual_training']\n",
    "data_Array_predict_predict = predict_result_1r_IMERG3['LWP_predi_predict']\n",
    "data_Array_predict_training = predict_result_1r_IMERG3['LWP_predi_training']\n",
    "\n",
    "\n",
    "# coef_dict = coef_obs\n",
    "coef_dict = coef_obs_IMERG3\n",
    "# print(coef_dict.shape)\n",
    "\n",
    "output_CCF1 = area_mean(annually_mean(np.append(predict_result_1r_IMERG3['predict_Array']['SST'].reshape(dict_predict_IMERG3['LWP'].shape), predict_result_1r_IMERG3['training_Array']['SST'].reshape(dict_training_IMERG3['LWP'].shape), axis = 0), np.append(times_Array_predict_IMERG3, times_Array_training_IMERG3, axis = 0)), lats, lons)\n",
    "output_CCF2 = area_mean(annually_mean(np.append(predict_result_1r_IMERG3['predict_Array']['p_e_IMERG'].reshape(dict_predict_IMERG3['LWP'].shape), predict_result_1r_IMERG3['training_Array']['p_e_IMERG'].reshape(dict_training_IMERG3['LWP'].shape), axis = 0), np.append(times_Array_predict_IMERG3, times_Array_training_IMERG3, axis = 0)), lats, lons)\n",
    "output_CCF2_IMERG3 = area_mean(MC_SO_an_bin_nan,y_range, x_range)\n",
    "\n",
    "output_CCF3 = area_mean(annually_mean(np.append(predict_result_1r_IMERG3['predict_Array']['LTS'].reshape(dict_predict_IMERG3['LWP'].shape), predict_result_1r_IMERG3['training_Array']['LTS'].reshape(dict_training_IMERG3['LWP'].shape), axis = 0), np.append(times_Array_predict_IMERG3, times_Array_training_IMERG3, axis = 0)), lats, lons)\n",
    "output_CCF4 = area_mean(annually_mean(np.append(predict_result_1r_IMERG3['predict_Array']['SUB'].reshape(dict_predict_IMERG3['LWP'].shape), predict_result_1r_IMERG3['training_Array']['SUB'].reshape(dict_training_IMERG3['LWP'].shape), axis = 0), np.append(times_Array_predict_IMERG3, times_Array_training_IMERG3, axis = 0)), lats, lons)\n",
    "\n",
    "# running_mean_window = 2\n",
    "# output_CCF1 = df_CCF1.rolling((12* running_mean_window + 1), min_periods = 1, center = True).mean()\n",
    "# output_CCF2 = df_CCF2.rolling((12* running_mean_window + 1), min_periods = 1, center = True).mean()\n",
    "# output_CCF3 = df_CCF3.rolling((12* running_mean_window + 1), min_periods = 1, center = True).mean()\n",
    "# output_CCF4 = df_CCF4.rolling((12* running_mean_window + 1), min_periods = 1, center = True).mean()\n",
    "output_time = np.arange(0, time_Array_training.shape[0]//12 + time_Array_predict.shape[0]//12, 1)\n",
    "output_actual = area_mean(annually_mean(np.append(data_Array_actual_predict, data_Array_actual_training, axis = 0), times = np.append(time_Array_predict, time_Array_training, axis = 0)), lats, lons)\n",
    "output_predict = area_mean(annually_mean(np.append(data_Array_predict_predict, data_Array_predict_training, axis = 0), times = np.append(time_Array_predict, time_Array_training, axis = 0)), lats, lons)\n",
    "output_predict_IMERG3 = (coef_dict[0][0] * output_CCF1 + coef_dict[1] + coef_dict[0][1] * output_CCF2_IMERG3+ coef_dict[0][2] * output_CCF3 + coef_dict[0][3] * output_CCF4)"
   ]
  },
  {
   "cell_type": "code",
   "execution_count": 21,
   "id": "656a8e70-48a6-4d88-a450-ef7ee43ddd1c",
   "metadata": {},
   "outputs": [
    {
     "data": {
      "text/plain": [
       "Text(0.5, 1.0, '(b) CCF contribution')"
      ]
     },
     "execution_count": 21,
     "metadata": {},
     "output_type": "execute_result"
    },
    {
     "data": {
      "image/png": "[encoded data removed]",
      "text/plain": [
       "<Figure size 669.6x550.8 with 2 Axes>"
      ]
     },
     "metadata": {
      "needs_background": "light"
     },
     "output_type": "display_data"
    }
   ],
   "source": [
    "# Plotting_2:\n",
    "\n",
    "parameters = {'axes.labelsize': 15, 'legend.fontsize': 14,\n",
    "         'axes.titlesize': 18,  'xtick.labelsize': 16,  'ytick.labelsize': 16}\n",
    "plt.rcParams.update(parameters)\n",
    "\n",
    "fig = plt.figure( figsize = (9.3, 7.65))\n",
    "gs = fig.add_gridspec(2, hspace = 0.137)\n",
    "axs = gs.subplots(sharex=True, sharey= False)\n",
    "axs[0].set_ylim(86.5, 94.5, 1.)\n",
    "axs[1].set_ylim(-2.5, 3.5, 0.6)\n",
    "\n",
    "# Hide the right and top spines:\n",
    "axs[1].spines['right'].set_visible(False)\n",
    "axs[1].spines['top'].set_visible(False)\n",
    "\n",
    "axs[0].spines['right'].set_visible(False)\n",
    "axs[0].spines['top'].set_visible(False)\n",
    "axs[0].spines['bottom'].set_visible(False)\n",
    "\n",
    "# Only show ticks on the left and bottom spines\n",
    "axs[1].yaxis.set_ticks_position('left')\n",
    "axs[1].xaxis.set_ticks_position('bottom')\n",
    "axs[0].xaxis.set_ticks_position('none')\n",
    "\n",
    "axs[0].plot(output_time, 1000.*output_actual, label = r'$OBS\\ LWP$', alpha = 1.0, linewidth= 3.40, linestyle = '-', c = 'green', zorder = 98)\n",
    "# axs[0].plot(output_time, 1000.*output_predict, label = r'$Equ\\ 2\\ Predicted\\ LWP$', alpha = 1.0, linewidth= 3.40, linestyle = '-', c = 'b', zorder = 98)\n",
    "axs[0].plot(output_time, 1000.*output_predict_IMERG3, label = r'$Equ\\ 2\\ Predicted\\ LWP$', alpha = 1.0, linewidth= 3.40, linestyle = '-', c = 'b', zorder = 98)\n",
    "\n",
    "axs[0].axvline(time_Array_predict.shape[0]//12, linestyle = '--', linewidth = 4.0, c = 'k')\n",
    "\n",
    "axs[1].plot(output_time, 1000.*((coef_dict[0][0] * output_CCF1 + coef_dict[1]) - (coef_dict[0][0] * output_CCF1[0] + coef_dict[1])), label = r'$SST$', alpha = 1.0, linewidth= 2.80, c = 'k', linestyle = '--')\n",
    "axs[1].plot(output_time, 1000.*((coef_dict[0][1] * output_CCF2_IMERG3) - (coef_dict[0][1] * output_CCF2_IMERG3[0])), label = r'$P-E$', alpha = 1.0, linewidth= 2.80, c = 'royalblue', linestyle = '--')\n",
    "axs[1].plot(output_time, 1000.*((coef_dict[0][2] * output_CCF3) - (coef_dict[0][2] * output_CCF3[0])), label = r'$LTS$', alpha = 1.0, linewidth= 2.80, c = 'purple', linestyle = '--')\n",
    "axs[1].plot(output_time, 1000.*((coef_dict[0][3] * output_CCF4) - (coef_dict[0][3] * output_CCF4[0])), label = r'$SUB_{500}$', alpha = 1.0, linewidth= 2.80, c = 'red', linestyle = '--')\n",
    "# Hide x labels and tick labels for all but bottom plot.\n",
    "for ax in axs:\n",
    "    ax.label_outer()\n",
    "\n",
    "axs[0].legend()\n",
    "axs[1].legend(loc = 'upper left')\n",
    "axs[0].set_ylim(86.5, 94.5, 1.)\n",
    "# axs[1].set_ylim(0., 6., 0.6)\n",
    "axs[1].set_xticks(output_time[0:])\n",
    "axs[1].set_xticklabels((np.append(np.arange(time_Array_predict[0, 0], time_Array_predict[0, 0] + time_Array_predict.shape[0]//12, 1), np.arange(time_Array_training[0, 0], time_Array_training[0, 0] + time_Array_training.shape[0]//12, 1))).astype(int), rotation = 45)\n",
    "# axs[0].set_xlabel(' Time ')\n",
    "axs[0].set_ylabel(r\"$\\ LWP,\\ $\" + r\"$ [g/m^{2}]$\")  # kg*m^{-2} \n",
    "axs[1].set_ylabel(r\"$\\partial LWP/ \\partial X_{i} \\cdot \\Delta X_{i},\\ $\" + r\"$ [g/m^{2}]$\")  #  std \\cdot dev^{-1}\n",
    "axs[0].set_title( \"(a) Southern Ocean LWP\", fontsize = 17)\n",
    "axs[1].set_title( \"(b) CCF contribution\", fontsize = 18)\n",
    "# fig.suptitle(\" Observational trend of LWP from MAC-LWP \")\n",
    "\n",
    "# plt.legend()\n",
    "# plt.show()\n",
    "# plt.savefig(path6 + 'Fig_4(Supplem).jpg', bbox_inches = 'tight', dpi = 500)\n"
   ]
  },
  {
   "cell_type": "code",
   "execution_count": null,
   "id": "628f0e75-409c-4d67-9401-e2a2285747d5",
   "metadata": {},
   "outputs": [],
   "source": []
  }
 ],
 "metadata": {
  "kernelspec": {
   "display_name": "NPL-3.7.9",
   "language": "python",
   "name": "npl-3.7.9"
  },
  "language_info": {
   "codemirror_mode": {
    "name": "ipython",
    "version": 3
   },
   "file_extension": ".py",
   "mimetype": "text/x-python",
   "name": "python",
   "nbconvert_exporter": "python",
   "pygments_lexer": "ipython3",
   "version": "3.7.9"
  }
 },
 "nbformat": 4,
 "nbformat_minor": 5
}
