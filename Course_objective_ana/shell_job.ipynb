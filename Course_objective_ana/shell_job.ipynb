{
 "cells": [
  {
   "cell_type": "code",
   "execution_count": 1,
   "id": "cea7743a-1175-4438-a840-7ae901f710e6",
   "metadata": {},
   "outputs": [],
   "source": [
    "import os\n",
    "import numpy as np\n",
    "import subprocess"
   ]
  },
  {
   "cell_type": "code",
   "execution_count": 2,
   "id": "12335cf3-2551-4021-bb71-8be9f1f8ef44",
   "metadata": {
    "tags": []
   },
   "outputs": [
    {
     "name": "stdout",
     "output_type": "stream",
     "text": [
      "/glade/work/chuyan/Research/Cloud_CCFs_RMs/Course_objective_ana\n"
     ]
    }
   ],
   "source": [
    "import sys\n",
    "# sys.path.append('/glade/work/chuyan/Research/Cloud_CCFs_RMs/Course_objective_ana')\n",
    "\n",
    "print(os.getcwd())"
   ]
  },
  {
   "cell_type": "code",
   "execution_count": null,
   "id": "7d4f3cb3-1b1b-4cb3-a1ed-8d47ebe46166",
   "metadata": {
    "jupyter": {
     "source_hidden": true
    },
    "tags": []
   },
   "outputs": [],
   "source": [
    "'''  code deprecated\n",
    "filepath = '/glade/work/chuyan/Research/Cloud_CCFs_RMs/Course_objective_ana/'\n",
    "\n",
    "# filepath = os.getcwd()\n",
    "for i in range(18):\n",
    "    \n",
    "    file = open(filepath+'/'+ 'batchjobt1_'+str(i+1)+'.sh', 'w')\n",
    "    line = []\n",
    "\n",
    "    line.append('#!/bin/tcsh\\n')\n",
    "    line.append('#PBS -N cmip6_bestfitLRM\\n')\n",
    "    line.append('#PBS -A WYOM0119\\n')\n",
    "    line.append('#PBS -l select=1:ncpus=12:mem=76GB\\n')\n",
    "    line.append('#PBS -l walltime=00:25:00\\n')\n",
    "    line.append('#PBS -q casper\\n')\n",
    "    line.append('#PBS -j oe\\n')\n",
    "\n",
    "    line.append('source /etc/profile.d/modules.csh\\n')\n",
    "    line.append('module load ncarenv python\\n')\n",
    "    line.append('ncar_pylib\\n')\n",
    "\n",
    "    line.append('python shell_job1.py ' + str(i))\n",
    "\n",
    "\n",
    "    print(line)\n",
    "    \n",
    "    for j in np.arange(len(line)):\n",
    "        file.write(line[j])\n",
    "    file.close\n",
    "\n",
    "print(filepath)\n",
    "'''"
   ]
  },
  {
   "cell_type": "code",
   "execution_count": 3,
   "id": "03412f69-4206-4f5d-80ed-e909bc35b568",
   "metadata": {
    "collapsed": true,
    "jupyter": {
     "outputs_hidden": true
    },
    "tags": []
   },
   "outputs": [
    {
     "ename": "NameError",
     "evalue": "name 'type_analysis' is not defined",
     "output_type": "error",
     "traceback": [
      "\u001b[0;31m---------------------------------------------------------------------------\u001b[0m",
      "\u001b[0;31mNameError\u001b[0m                                 Traceback (most recent call last)",
      "\u001b[0;32m<ipython-input-3-76eaa3a3446a>\u001b[0m in \u001b[0;36m<module>\u001b[0;34m\u001b[0m\n\u001b[1;32m     99\u001b[0m \u001b[0;34m\u001b[0m\u001b[0m\n\u001b[1;32m    100\u001b[0m \u001b[0;34m\u001b[0m\u001b[0m\n\u001b[0;32m--> 101\u001b[0;31m \u001b[0;32mif\u001b[0m \u001b[0;34m(\u001b[0m\u001b[0mdeck2\u001b[0m\u001b[0;34m[\u001b[0m\u001b[0;36m1\u001b[0m\u001b[0;34m]\u001b[0m\u001b[0;34m[\u001b[0m\u001b[0;34m'cmip'\u001b[0m\u001b[0;34m]\u001b[0m\u001b[0;34m==\u001b[0m\u001b[0;34m'cmip5'\u001b[0m\u001b[0;34m)\u001b[0m \u001b[0;34m&\u001b[0m \u001b[0;34m(\u001b[0m\u001b[0mtype_analysis\u001b[0m \u001b[0;34m==\u001b[0m \u001b[0;34m'forecasting'\u001b[0m\u001b[0;34m)\u001b[0m\u001b[0;34m:\u001b[0m\u001b[0;34m\u001b[0m\u001b[0;34m\u001b[0m\u001b[0m\n\u001b[0m\u001b[1;32m    102\u001b[0m     \u001b[0minputVar_pi\u001b[0m\u001b[0;34m,\u001b[0m \u001b[0minputVar_abr\u001b[0m \u001b[0;34m=\u001b[0m \u001b[0mget_LWPCMIP5\u001b[0m\u001b[0;34m(\u001b[0m\u001b[0;34m**\u001b[0m\u001b[0mdeck2\u001b[0m\u001b[0;34m[\u001b[0m\u001b[0;36m1\u001b[0m\u001b[0;34m]\u001b[0m\u001b[0;34m)\u001b[0m\u001b[0;34m\u001b[0m\u001b[0;34m\u001b[0m\u001b[0m\n\u001b[1;32m    103\u001b[0m \u001b[0;34m\u001b[0m\u001b[0m\n",
      "\u001b[0;31mNameError\u001b[0m: name 'type_analysis' is not defined"
     ]
    }
   ],
   "source": []
  },
  {
   "cell_type": "code",
   "execution_count": 3,
   "id": "59a8e7de-8c31-41ac-9170-29d6766f7830",
   "metadata": {
    "tags": []
   },
   "outputs": [
    {
     "name": "stdout",
     "output_type": "stream",
     "text": [
      "['#!/bin/tcsh\\n', '#PBS -N cmip6_bestfitLRM\\n', '#PBS -A WYOM0119\\n', '#PBS -l select=1:ncpus=6:mem=75GB\\n', '#PBS -l walltime=00:50:00\\n', '#PBS -q casper\\n', '#PBS -j oe\\n', 'source /etc/profile.d/modules.csh\\n', 'module load conda/latest\\n', 'conda activate npl\\n', 'python shell_job1.py 0']\n",
      "['#!/bin/tcsh\\n', '#PBS -N cmip6_bestfitLRM\\n', '#PBS -A WYOM0119\\n', '#PBS -l select=1:ncpus=6:mem=75GB\\n', '#PBS -l walltime=00:50:00\\n', '#PBS -q casper\\n', '#PBS -j oe\\n', 'source /etc/profile.d/modules.csh\\n', 'module load conda/latest\\n', 'conda activate npl\\n', 'python shell_job1.py 1']\n",
      "['#!/bin/tcsh\\n', '#PBS -N cmip6_bestfitLRM\\n', '#PBS -A WYOM0119\\n', '#PBS -l select=1:ncpus=6:mem=75GB\\n', '#PBS -l walltime=00:50:00\\n', '#PBS -q casper\\n', '#PBS -j oe\\n', 'source /etc/profile.d/modules.csh\\n', 'module load conda/latest\\n', 'conda activate npl\\n', 'python shell_job1.py 2']\n",
      "['#!/bin/tcsh\\n', '#PBS -N cmip6_bestfitLRM\\n', '#PBS -A WYOM0119\\n', '#PBS -l select=1:ncpus=6:mem=75GB\\n', '#PBS -l walltime=00:50:00\\n', '#PBS -q casper\\n', '#PBS -j oe\\n', 'source /etc/profile.d/modules.csh\\n', 'module load conda/latest\\n', 'conda activate npl\\n', 'python shell_job1.py 3']\n",
      "['#!/bin/tcsh\\n', '#PBS -N cmip6_bestfitLRM\\n', '#PBS -A WYOM0119\\n', '#PBS -l select=1:ncpus=6:mem=75GB\\n', '#PBS -l walltime=00:50:00\\n', '#PBS -q casper\\n', '#PBS -j oe\\n', 'source /etc/profile.d/modules.csh\\n', 'module load conda/latest\\n', 'conda activate npl\\n', 'python shell_job1.py 4']\n",
      "['#!/bin/tcsh\\n', '#PBS -N cmip6_bestfitLRM\\n', '#PBS -A WYOM0119\\n', '#PBS -l select=1:ncpus=6:mem=75GB\\n', '#PBS -l walltime=00:50:00\\n', '#PBS -q casper\\n', '#PBS -j oe\\n', 'source /etc/profile.d/modules.csh\\n', 'module load conda/latest\\n', 'conda activate npl\\n', 'python shell_job1.py 5']\n",
      "['#!/bin/tcsh\\n', '#PBS -N cmip6_bestfitLRM\\n', '#PBS -A WYOM0119\\n', '#PBS -l select=1:ncpus=6:mem=75GB\\n', '#PBS -l walltime=00:50:00\\n', '#PBS -q casper\\n', '#PBS -j oe\\n', 'source /etc/profile.d/modules.csh\\n', 'module load conda/latest\\n', 'conda activate npl\\n', 'python shell_job1.py 6']\n",
      "['#!/bin/tcsh\\n', '#PBS -N cmip6_bestfitLRM\\n', '#PBS -A WYOM0119\\n', '#PBS -l select=1:ncpus=6:mem=75GB\\n', '#PBS -l walltime=00:50:00\\n', '#PBS -q casper\\n', '#PBS -j oe\\n', 'source /etc/profile.d/modules.csh\\n', 'module load conda/latest\\n', 'conda activate npl\\n', 'python shell_job1.py 7']\n",
      "['#!/bin/tcsh\\n', '#PBS -N cmip6_bestfitLRM\\n', '#PBS -A WYOM0119\\n', '#PBS -l select=1:ncpus=6:mem=75GB\\n', '#PBS -l walltime=00:50:00\\n', '#PBS -q casper\\n', '#PBS -j oe\\n', 'source /etc/profile.d/modules.csh\\n', 'module load conda/latest\\n', 'conda activate npl\\n', 'python shell_job1.py 8']\n",
      "['#!/bin/tcsh\\n', '#PBS -N cmip6_bestfitLRM\\n', '#PBS -A WYOM0119\\n', '#PBS -l select=1:ncpus=6:mem=75GB\\n', '#PBS -l walltime=00:50:00\\n', '#PBS -q casper\\n', '#PBS -j oe\\n', 'source /etc/profile.d/modules.csh\\n', 'module load conda/latest\\n', 'conda activate npl\\n', 'python shell_job1.py 9']\n",
      "['#!/bin/tcsh\\n', '#PBS -N cmip6_bestfitLRM\\n', '#PBS -A WYOM0119\\n', '#PBS -l select=1:ncpus=6:mem=75GB\\n', '#PBS -l walltime=00:50:00\\n', '#PBS -q casper\\n', '#PBS -j oe\\n', 'source /etc/profile.d/modules.csh\\n', 'module load conda/latest\\n', 'conda activate npl\\n', 'python shell_job1.py 10']\n",
      "['#!/bin/tcsh\\n', '#PBS -N cmip6_bestfitLRM\\n', '#PBS -A WYOM0119\\n', '#PBS -l select=1:ncpus=6:mem=75GB\\n', '#PBS -l walltime=00:50:00\\n', '#PBS -q casper\\n', '#PBS -j oe\\n', 'source /etc/profile.d/modules.csh\\n', 'module load conda/latest\\n', 'conda activate npl\\n', 'python shell_job1.py 11']\n",
      "['#!/bin/tcsh\\n', '#PBS -N cmip6_bestfitLRM\\n', '#PBS -A WYOM0119\\n', '#PBS -l select=1:ncpus=6:mem=75GB\\n', '#PBS -l walltime=00:50:00\\n', '#PBS -q casper\\n', '#PBS -j oe\\n', 'source /etc/profile.d/modules.csh\\n', 'module load conda/latest\\n', 'conda activate npl\\n', 'python shell_job1.py 12']\n",
      "['#!/bin/tcsh\\n', '#PBS -N cmip6_bestfitLRM\\n', '#PBS -A WYOM0119\\n', '#PBS -l select=1:ncpus=6:mem=75GB\\n', '#PBS -l walltime=00:50:00\\n', '#PBS -q casper\\n', '#PBS -j oe\\n', 'source /etc/profile.d/modules.csh\\n', 'module load conda/latest\\n', 'conda activate npl\\n', 'python shell_job1.py 13']\n",
      "['#!/bin/tcsh\\n', '#PBS -N cmip6_bestfitLRM\\n', '#PBS -A WYOM0119\\n', '#PBS -l select=1:ncpus=6:mem=75GB\\n', '#PBS -l walltime=00:50:00\\n', '#PBS -q casper\\n', '#PBS -j oe\\n', 'source /etc/profile.d/modules.csh\\n', 'module load conda/latest\\n', 'conda activate npl\\n', 'python shell_job1.py 14']\n",
      "['#!/bin/tcsh\\n', '#PBS -N cmip6_bestfitLRM\\n', '#PBS -A WYOM0119\\n', '#PBS -l select=1:ncpus=6:mem=75GB\\n', '#PBS -l walltime=00:50:00\\n', '#PBS -q casper\\n', '#PBS -j oe\\n', 'source /etc/profile.d/modules.csh\\n', 'module load conda/latest\\n', 'conda activate npl\\n', 'python shell_job1.py 15']\n",
      "['#!/bin/tcsh\\n', '#PBS -N cmip6_bestfitLRM\\n', '#PBS -A WYOM0119\\n', '#PBS -l select=1:ncpus=6:mem=75GB\\n', '#PBS -l walltime=00:50:00\\n', '#PBS -q casper\\n', '#PBS -j oe\\n', 'source /etc/profile.d/modules.csh\\n', 'module load conda/latest\\n', 'conda activate npl\\n', 'python shell_job1.py 16']\n",
      "['#!/bin/tcsh\\n', '#PBS -N cmip6_bestfitLRM\\n', '#PBS -A WYOM0119\\n', '#PBS -l select=1:ncpus=6:mem=75GB\\n', '#PBS -l walltime=00:50:00\\n', '#PBS -q casper\\n', '#PBS -j oe\\n', 'source /etc/profile.d/modules.csh\\n', 'module load conda/latest\\n', 'conda activate npl\\n', 'python shell_job1.py 17']\n",
      "['#!/bin/tcsh\\n', '#PBS -N cmip6_bestfitLRM\\n', '#PBS -A WYOM0119\\n', '#PBS -l select=1:ncpus=6:mem=75GB\\n', '#PBS -l walltime=00:50:00\\n', '#PBS -q casper\\n', '#PBS -j oe\\n', 'source /etc/profile.d/modules.csh\\n', 'module load conda/latest\\n', 'conda activate npl\\n', 'python shell_job1.py 18']\n",
      "['#!/bin/tcsh\\n', '#PBS -N cmip6_bestfitLRM\\n', '#PBS -A WYOM0119\\n', '#PBS -l select=1:ncpus=6:mem=75GB\\n', '#PBS -l walltime=00:50:00\\n', '#PBS -q casper\\n', '#PBS -j oe\\n', 'source /etc/profile.d/modules.csh\\n', 'module load conda/latest\\n', 'conda activate npl\\n', 'python shell_job1.py 19']\n",
      "['#!/bin/tcsh\\n', '#PBS -N cmip6_bestfitLRM\\n', '#PBS -A WYOM0119\\n', '#PBS -l select=1:ncpus=6:mem=75GB\\n', '#PBS -l walltime=00:50:00\\n', '#PBS -q casper\\n', '#PBS -j oe\\n', 'source /etc/profile.d/modules.csh\\n', 'module load conda/latest\\n', 'conda activate npl\\n', 'python shell_job1.py 20']\n",
      "['#!/bin/tcsh\\n', '#PBS -N cmip6_bestfitLRM\\n', '#PBS -A WYOM0119\\n', '#PBS -l select=1:ncpus=6:mem=75GB\\n', '#PBS -l walltime=00:50:00\\n', '#PBS -q casper\\n', '#PBS -j oe\\n', 'source /etc/profile.d/modules.csh\\n', 'module load conda/latest\\n', 'conda activate npl\\n', 'python shell_job1.py 21']\n",
      "['#!/bin/tcsh\\n', '#PBS -N cmip6_bestfitLRM\\n', '#PBS -A WYOM0119\\n', '#PBS -l select=1:ncpus=6:mem=75GB\\n', '#PBS -l walltime=00:50:00\\n', '#PBS -q casper\\n', '#PBS -j oe\\n', 'source /etc/profile.d/modules.csh\\n', 'module load conda/latest\\n', 'conda activate npl\\n', 'python shell_job1.py 22']\n",
      "['#!/bin/tcsh\\n', '#PBS -N cmip6_bestfitLRM\\n', '#PBS -A WYOM0119\\n', '#PBS -l select=1:ncpus=6:mem=75GB\\n', '#PBS -l walltime=00:50:00\\n', '#PBS -q casper\\n', '#PBS -j oe\\n', 'source /etc/profile.d/modules.csh\\n', 'module load conda/latest\\n', 'conda activate npl\\n', 'python shell_job1.py 23']\n",
      "['#!/bin/tcsh\\n', '#PBS -N cmip6_bestfitLRM\\n', '#PBS -A WYOM0119\\n', '#PBS -l select=1:ncpus=6:mem=75GB\\n', '#PBS -l walltime=00:50:00\\n', '#PBS -q casper\\n', '#PBS -j oe\\n', 'source /etc/profile.d/modules.csh\\n', 'module load conda/latest\\n', 'conda activate npl\\n', 'python shell_job1.py 24']\n",
      "['#!/bin/tcsh\\n', '#PBS -N cmip6_bestfitLRM\\n', '#PBS -A WYOM0119\\n', '#PBS -l select=1:ncpus=6:mem=75GB\\n', '#PBS -l walltime=00:50:00\\n', '#PBS -q casper\\n', '#PBS -j oe\\n', 'source /etc/profile.d/modules.csh\\n', 'module load conda/latest\\n', 'conda activate npl\\n', 'python shell_job1.py 25']\n",
      "['#!/bin/tcsh\\n', '#PBS -N cmip6_bestfitLRM\\n', '#PBS -A WYOM0119\\n', '#PBS -l select=1:ncpus=6:mem=75GB\\n', '#PBS -l walltime=00:50:00\\n', '#PBS -q casper\\n', '#PBS -j oe\\n', 'source /etc/profile.d/modules.csh\\n', 'module load conda/latest\\n', 'conda activate npl\\n', 'python shell_job1.py 26']\n",
      "['#!/bin/tcsh\\n', '#PBS -N cmip6_bestfitLRM\\n', '#PBS -A WYOM0119\\n', '#PBS -l select=1:ncpus=6:mem=75GB\\n', '#PBS -l walltime=00:50:00\\n', '#PBS -q casper\\n', '#PBS -j oe\\n', 'source /etc/profile.d/modules.csh\\n', 'module load conda/latest\\n', 'conda activate npl\\n', 'python shell_job1.py 27']\n",
      "['#!/bin/tcsh\\n', '#PBS -N cmip6_bestfitLRM\\n', '#PBS -A WYOM0119\\n', '#PBS -l select=1:ncpus=6:mem=75GB\\n', '#PBS -l walltime=00:50:00\\n', '#PBS -q casper\\n', '#PBS -j oe\\n', 'source /etc/profile.d/modules.csh\\n', 'module load conda/latest\\n', 'conda activate npl\\n', 'python shell_job1.py 28']\n",
      "['#!/bin/tcsh\\n', '#PBS -N cmip6_bestfitLRM\\n', '#PBS -A WYOM0119\\n', '#PBS -l select=1:ncpus=6:mem=75GB\\n', '#PBS -l walltime=00:50:00\\n', '#PBS -q casper\\n', '#PBS -j oe\\n', 'source /etc/profile.d/modules.csh\\n', 'module load conda/latest\\n', 'conda activate npl\\n', 'python shell_job1.py 29']\n",
      "['#!/bin/tcsh\\n', '#PBS -N cmip6_bestfitLRM\\n', '#PBS -A WYOM0119\\n', '#PBS -l select=1:ncpus=6:mem=75GB\\n', '#PBS -l walltime=00:50:00\\n', '#PBS -q casper\\n', '#PBS -j oe\\n', 'source /etc/profile.d/modules.csh\\n', 'module load conda/latest\\n', 'conda activate npl\\n', 'python shell_job1.py 30']\n",
      "['#!/bin/tcsh\\n', '#PBS -N cmip6_bestfitLRM\\n', '#PBS -A WYOM0119\\n', '#PBS -l select=1:ncpus=6:mem=75GB\\n', '#PBS -l walltime=00:50:00\\n', '#PBS -q casper\\n', '#PBS -j oe\\n', 'source /etc/profile.d/modules.csh\\n', 'module load conda/latest\\n', 'conda activate npl\\n', 'python shell_job1.py 31']\n",
      "['#!/bin/tcsh\\n', '#PBS -N cmip6_bestfitLRM\\n', '#PBS -A WYOM0119\\n', '#PBS -l select=1:ncpus=6:mem=75GB\\n', '#PBS -l walltime=00:50:00\\n', '#PBS -q casper\\n', '#PBS -j oe\\n', 'source /etc/profile.d/modules.csh\\n', 'module load conda/latest\\n', 'conda activate npl\\n', 'python shell_job1.py 32']\n",
      "['#!/bin/tcsh\\n', '#PBS -N cmip6_bestfitLRM\\n', '#PBS -A WYOM0119\\n', '#PBS -l select=1:ncpus=6:mem=75GB\\n', '#PBS -l walltime=00:50:00\\n', '#PBS -q casper\\n', '#PBS -j oe\\n', 'source /etc/profile.d/modules.csh\\n', 'module load conda/latest\\n', 'conda activate npl\\n', 'python shell_job1.py 33']\n",
      "['#!/bin/tcsh\\n', '#PBS -N cmip6_bestfitLRM\\n', '#PBS -A WYOM0119\\n', '#PBS -l select=1:ncpus=6:mem=75GB\\n', '#PBS -l walltime=00:50:00\\n', '#PBS -q casper\\n', '#PBS -j oe\\n', 'source /etc/profile.d/modules.csh\\n', 'module load conda/latest\\n', 'conda activate npl\\n', 'python shell_job1.py 34']\n",
      "['#!/bin/tcsh\\n', '#PBS -N cmip6_bestfitLRM\\n', '#PBS -A WYOM0119\\n', '#PBS -l select=1:ncpus=6:mem=75GB\\n', '#PBS -l walltime=00:50:00\\n', '#PBS -q casper\\n', '#PBS -j oe\\n', 'source /etc/profile.d/modules.csh\\n', 'module load conda/latest\\n', 'conda activate npl\\n', 'python shell_job1.py 35']\n",
      "['#!/bin/tcsh\\n', '#PBS -N cmip6_bestfitLRM\\n', '#PBS -A WYOM0119\\n', '#PBS -l select=1:ncpus=6:mem=75GB\\n', '#PBS -l walltime=00:50:00\\n', '#PBS -q casper\\n', '#PBS -j oe\\n', 'source /etc/profile.d/modules.csh\\n', 'module load conda/latest\\n', 'conda activate npl\\n', 'python shell_job1.py 36']\n",
      "['#!/bin/tcsh\\n', '#PBS -N cmip6_bestfitLRM\\n', '#PBS -A WYOM0119\\n', '#PBS -l select=1:ncpus=6:mem=75GB\\n', '#PBS -l walltime=00:50:00\\n', '#PBS -q casper\\n', '#PBS -j oe\\n', 'source /etc/profile.d/modules.csh\\n', 'module load conda/latest\\n', 'conda activate npl\\n', 'python shell_job1.py 37']\n",
      "['#!/bin/tcsh\\n', '#PBS -N cmip6_bestfitLRM\\n', '#PBS -A WYOM0119\\n', '#PBS -l select=1:ncpus=6:mem=75GB\\n', '#PBS -l walltime=00:50:00\\n', '#PBS -q casper\\n', '#PBS -j oe\\n', 'source /etc/profile.d/modules.csh\\n', 'module load conda/latest\\n', 'conda activate npl\\n', 'python shell_job1.py 38']\n",
      "['#!/bin/tcsh\\n', '#PBS -N cmip6_bestfitLRM\\n', '#PBS -A WYOM0119\\n', '#PBS -l select=1:ncpus=6:mem=75GB\\n', '#PBS -l walltime=00:50:00\\n', '#PBS -q casper\\n', '#PBS -j oe\\n', 'source /etc/profile.d/modules.csh\\n', 'module load conda/latest\\n', 'conda activate npl\\n', 'python shell_job1.py 39']\n",
      "['#!/bin/tcsh\\n', '#PBS -N cmip6_bestfitLRM\\n', '#PBS -A WYOM0119\\n', '#PBS -l select=1:ncpus=6:mem=75GB\\n', '#PBS -l walltime=00:50:00\\n', '#PBS -q casper\\n', '#PBS -j oe\\n', 'source /etc/profile.d/modules.csh\\n', 'module load conda/latest\\n', 'conda activate npl\\n', 'python shell_job1.py 40']\n",
      "['#!/bin/tcsh\\n', '#PBS -N cmip6_bestfitLRM\\n', '#PBS -A WYOM0119\\n', '#PBS -l select=1:ncpus=6:mem=75GB\\n', '#PBS -l walltime=00:50:00\\n', '#PBS -q casper\\n', '#PBS -j oe\\n', 'source /etc/profile.d/modules.csh\\n', 'module load conda/latest\\n', 'conda activate npl\\n', 'python shell_job1.py 41']\n",
      "['#!/bin/tcsh\\n', '#PBS -N cmip6_bestfitLRM\\n', '#PBS -A WYOM0119\\n', '#PBS -l select=1:ncpus=6:mem=75GB\\n', '#PBS -l walltime=00:50:00\\n', '#PBS -q casper\\n', '#PBS -j oe\\n', 'source /etc/profile.d/modules.csh\\n', 'module load conda/latest\\n', 'conda activate npl\\n', 'python shell_job1.py 42']\n",
      "['#!/bin/tcsh\\n', '#PBS -N cmip6_bestfitLRM\\n', '#PBS -A WYOM0119\\n', '#PBS -l select=1:ncpus=6:mem=75GB\\n', '#PBS -l walltime=00:50:00\\n', '#PBS -q casper\\n', '#PBS -j oe\\n', 'source /etc/profile.d/modules.csh\\n', 'module load conda/latest\\n', 'conda activate npl\\n', 'python shell_job1.py 43']\n",
      "['#!/bin/tcsh\\n', '#PBS -N cmip6_bestfitLRM\\n', '#PBS -A WYOM0119\\n', '#PBS -l select=1:ncpus=6:mem=75GB\\n', '#PBS -l walltime=00:50:00\\n', '#PBS -q casper\\n', '#PBS -j oe\\n', 'source /etc/profile.d/modules.csh\\n', 'module load conda/latest\\n', 'conda activate npl\\n', 'python shell_job1.py 44']\n",
      "/glade/work/chuyan/Research/Cloud_CCFs_RMs/Course_objective_ana/batchjob_file\n"
     ]
    }
   ],
   "source": [
    "filepath = '/glade/work/chuyan/Research/Cloud_CCFs_RMs/Course_objective_ana/batchjob_file'\n",
    "\n",
    "# filepath = os.getcwd()\n",
    "for i in range(45):\n",
    "    \n",
    "    file = open(filepath+'/'+ 'batchjobt6_'+str(i+1)+'.sh', 'w')\n",
    "    line = []\n",
    "\n",
    "    line.append('#!/bin/tcsh\\n')\n",
    "    line.append('#PBS -N cmip6_bestfitLRM\\n')\n",
    "    line.append('#PBS -A WYOM0119\\n')\n",
    "    line.append('#PBS -l select=1:ncpus=6:mem=75GB\\n')\n",
    "    line.append('#PBS -l walltime=00:50:00\\n')\n",
    "    line.append('#PBS -q casper\\n')\n",
    "    line.append('#PBS -j oe\\n')\n",
    "\n",
    "    line.append('source /etc/profile.d/modules.csh\\n')\n",
    "    line.append('module load conda/latest\\n')\n",
    "    line.append('conda activate npl\\n')\n",
    "\n",
    "    line.append('python shell_job1.py ' + str(i))\n",
    "    # line.append('python loop_small_LRM.py ' + str(i))\n",
    "\n",
    "    print(line)\n",
    "    \n",
    "    for j in np.arange(len(line)):\n",
    "        file.write(line[j])\n",
    "    file.close\n",
    "\n",
    "print(filepath)"
   ]
  },
  {
   "cell_type": "code",
   "execution_count": 3,
   "id": "a0440b9e-7579-430f-8fdf-88d5aa809a91",
   "metadata": {
    "collapsed": true,
    "jupyter": {
     "outputs_hidden": true,
     "source_hidden": true
    },
    "tags": []
   },
   "outputs": [
    {
     "name": "stdin",
     "output_type": "stream",
     "text": [
      "Please input: 0 if you want to continue: 0\n"
     ]
    },
    {
     "name": "stdout",
     "output_type": "stream",
     "text": [
      "0\n",
      "0\n",
      "0\n",
      "1\n",
      "0\n",
      "2\n",
      "0\n",
      "3\n",
      "0\n",
      "4\n",
      "0\n",
      "5\n",
      "0\n",
      "6\n",
      "0\n",
      "7\n",
      "0\n",
      "8\n",
      "0\n",
      "9\n",
      "0\n",
      "10\n",
      "0\n",
      "11\n",
      "0\n",
      "12\n",
      "0\n",
      "13\n",
      "0\n",
      "14\n",
      "0\n",
      "15\n",
      "0\n",
      "16\n",
      "0\n",
      "17\n",
      "0\n",
      "18\n",
      "0\n",
      "19\n",
      "0\n",
      "20\n",
      "0\n",
      "21\n",
      "0\n",
      "22\n",
      "0\n",
      "23\n",
      "0\n",
      "24\n",
      "0\n",
      "25\n",
      "0\n",
      "26\n",
      "0\n",
      "27\n",
      "0\n",
      "28\n",
      "0\n",
      "29\n",
      "0\n",
      "30\n",
      "0\n"
     ]
    }
   ],
   "source": [
    "filepath = '/glade/work/chuyan/Research/Cloud_CCFs_RMs/Course_objective_ana/batchjob_file/'\n",
    "\n",
    "filepath_batch_job = filepath\n",
    "\n",
    "caution_condition = input(\"Please input: 0 if you want to continue:\")\n",
    "print(caution_condition)\n",
    "if caution_condition == '0':\n",
    "    P = 1\n",
    "    for i in range(31):\n",
    "\n",
    "        print(i)\n",
    "\n",
    "        sub_comm = filepath + \"batchjobt2_\" + str(i+1) + \".sh\"  # batchjobt2\n",
    "        os.system(\"cd \"+filepath_batch_job)\n",
    "        # print(os.getcwd())\n",
    "        output_call_functions = subprocess.run([\"qsub\", sub_comm], stdout = subprocess.DEVNULL)\n",
    "\n",
    "        print(output_call_functions.returncode)\n",
    "else:\n",
    "    print(' REFUSE TO RUN BATCH JOB.')"
   ]
  },
  {
   "cell_type": "code",
   "execution_count": 4,
   "id": "448d13ab-efa7-4a38-9ae6-4aa8e6b9178e",
   "metadata": {
    "tags": []
   },
   "outputs": [
    {
     "name": "stdin",
     "output_type": "stream",
     "text": [
      "Please input: 0 if you want to continue: 0\n"
     ]
    },
    {
     "name": "stdout",
     "output_type": "stream",
     "text": [
      "0\n",
      "2\n",
      "0\n",
      "3\n",
      "0\n"
     ]
    }
   ],
   "source": [
    "filepath = '/glade/work/chuyan/Research/Cloud_CCFs_RMs/Course_objective_ana/batchjob_file/'\n",
    "\n",
    "filepath_batch_job = filepath\n",
    "\n",
    "caution_condition = input(\"Please input: 0 if you want to continue:\")\n",
    "print(caution_condition)\n",
    "if caution_condition == '0':\n",
    "    \n",
    "    for i in [2, 3]:\n",
    "        \n",
    "        print(i)\n",
    "        \n",
    "        sub_comm = filepath + \"batchjobt5_\" + str(i+1) + \".sh\"\n",
    "        os.system(\"cd \"+filepath_batch_job)\n",
    "        # print(os.getcwd())\n",
    "        output_call_functions = subprocess.run([\"qsub\", sub_comm], stdout = subprocess.DEVNULL)\n",
    "        \n",
    "        print(output_call_functions.returncode)"
   ]
  },
  {
   "cell_type": "code",
   "execution_count": 5,
   "id": "df7cd9e9-e71b-4a9a-8b94-4f67da4103ed",
   "metadata": {
    "collapsed": true,
    "jupyter": {
     "outputs_hidden": true
    },
    "tags": []
   },
   "outputs": [
    {
     "name": "stdout",
     "output_type": "stream",
     "text": [
      "/glade/work/chuyan/Research/Cloud_CCFs_RMs/Course_objective_ana\n"
     ]
    }
   ],
   "source": [
    "print(os.getcwd())"
   ]
  },
  {
   "cell_type": "code",
   "execution_count": 6,
   "id": "8f91c90c-e92d-4d13-9f6e-3fb0d8146e49",
   "metadata": {
    "collapsed": true,
    "jupyter": {
     "outputs_hidden": true
    },
    "tags": []
   },
   "outputs": [
    {
     "name": "stdout",
     "output_type": "stream",
     "text": [
      "/glade/work/chuyan/Research/Cloud_CCFs_RMs/Course_objective_ana\n",
      "18\n",
      "0\n"
     ]
    }
   ],
   "source": [
    "filepath = os.getcwd()\n",
    "filepath_batch_job = filepath\n",
    "print(filepath_batch_job)\n",
    "\n",
    "i = 17\n",
    "print(i+1)\n",
    "sub_comm = \"batchjobt2_\" + str(i+1) + \".sh\"\n",
    "os.system(\"cd \"+filepath_batch_job)\n",
    "\n",
    "output_call_functions = subprocess.run([\"qsub\", sub_comm], stdout = subprocess.DEVNULL)\n",
    "print(output_call_functions.returncode)"
   ]
  },
  {
   "cell_type": "code",
   "execution_count": 5,
   "id": "82a725d3-1fc3-4e81-bbdb-7f1b87373eba",
   "metadata": {
    "collapsed": true,
    "jupyter": {
     "outputs_hidden": true,
     "source_hidden": true
    },
    "tags": []
   },
   "outputs": [
    {
     "name": "stdout",
     "output_type": "stream",
     "text": [
      "['#!/bin/tcsh\\n', '#PBS -N cmip6_bestfitLRM\\n', '#PBS -A WYOM0119\\n', '#PBS -l select=1:ncpus=12:mem=106GB\\n', '#PBS -l walltime=00:45:00\\n', '#PBS -q casper\\n', '#PBS -j oe\\n', 'source /etc/profile.d/modules.csh\\n', 'module load conda/latest\\n', 'conda activate npl\\n', 'python test_reading_data.py 0']\n",
      "['#!/bin/tcsh\\n', '#PBS -N cmip6_bestfitLRM\\n', '#PBS -A WYOM0119\\n', '#PBS -l select=1:ncpus=12:mem=106GB\\n', '#PBS -l walltime=00:45:00\\n', '#PBS -q casper\\n', '#PBS -j oe\\n', 'source /etc/profile.d/modules.csh\\n', 'module load conda/latest\\n', 'conda activate npl\\n', 'python test_reading_data.py 1']\n",
      "['#!/bin/tcsh\\n', '#PBS -N cmip6_bestfitLRM\\n', '#PBS -A WYOM0119\\n', '#PBS -l select=1:ncpus=12:mem=106GB\\n', '#PBS -l walltime=00:45:00\\n', '#PBS -q casper\\n', '#PBS -j oe\\n', 'source /etc/profile.d/modules.csh\\n', 'module load conda/latest\\n', 'conda activate npl\\n', 'python test_reading_data.py 2']\n",
      "['#!/bin/tcsh\\n', '#PBS -N cmip6_bestfitLRM\\n', '#PBS -A WYOM0119\\n', '#PBS -l select=1:ncpus=12:mem=106GB\\n', '#PBS -l walltime=00:45:00\\n', '#PBS -q casper\\n', '#PBS -j oe\\n', 'source /etc/profile.d/modules.csh\\n', 'module load conda/latest\\n', 'conda activate npl\\n', 'python test_reading_data.py 3']\n",
      "['#!/bin/tcsh\\n', '#PBS -N cmip6_bestfitLRM\\n', '#PBS -A WYOM0119\\n', '#PBS -l select=1:ncpus=12:mem=106GB\\n', '#PBS -l walltime=00:45:00\\n', '#PBS -q casper\\n', '#PBS -j oe\\n', 'source /etc/profile.d/modules.csh\\n', 'module load conda/latest\\n', 'conda activate npl\\n', 'python test_reading_data.py 4']\n",
      "['#!/bin/tcsh\\n', '#PBS -N cmip6_bestfitLRM\\n', '#PBS -A WYOM0119\\n', '#PBS -l select=1:ncpus=12:mem=106GB\\n', '#PBS -l walltime=00:45:00\\n', '#PBS -q casper\\n', '#PBS -j oe\\n', 'source /etc/profile.d/modules.csh\\n', 'module load conda/latest\\n', 'conda activate npl\\n', 'python test_reading_data.py 5']\n",
      "['#!/bin/tcsh\\n', '#PBS -N cmip6_bestfitLRM\\n', '#PBS -A WYOM0119\\n', '#PBS -l select=1:ncpus=12:mem=106GB\\n', '#PBS -l walltime=00:45:00\\n', '#PBS -q casper\\n', '#PBS -j oe\\n', 'source /etc/profile.d/modules.csh\\n', 'module load conda/latest\\n', 'conda activate npl\\n', 'python test_reading_data.py 6']\n",
      "['#!/bin/tcsh\\n', '#PBS -N cmip6_bestfitLRM\\n', '#PBS -A WYOM0119\\n', '#PBS -l select=1:ncpus=12:mem=106GB\\n', '#PBS -l walltime=00:45:00\\n', '#PBS -q casper\\n', '#PBS -j oe\\n', 'source /etc/profile.d/modules.csh\\n', 'module load conda/latest\\n', 'conda activate npl\\n', 'python test_reading_data.py 7']\n",
      "['#!/bin/tcsh\\n', '#PBS -N cmip6_bestfitLRM\\n', '#PBS -A WYOM0119\\n', '#PBS -l select=1:ncpus=12:mem=106GB\\n', '#PBS -l walltime=00:45:00\\n', '#PBS -q casper\\n', '#PBS -j oe\\n', 'source /etc/profile.d/modules.csh\\n', 'module load conda/latest\\n', 'conda activate npl\\n', 'python test_reading_data.py 8']\n",
      "['#!/bin/tcsh\\n', '#PBS -N cmip6_bestfitLRM\\n', '#PBS -A WYOM0119\\n', '#PBS -l select=1:ncpus=12:mem=106GB\\n', '#PBS -l walltime=00:45:00\\n', '#PBS -q casper\\n', '#PBS -j oe\\n', 'source /etc/profile.d/modules.csh\\n', 'module load conda/latest\\n', 'conda activate npl\\n', 'python test_reading_data.py 9']\n",
      "['#!/bin/tcsh\\n', '#PBS -N cmip6_bestfitLRM\\n', '#PBS -A WYOM0119\\n', '#PBS -l select=1:ncpus=12:mem=106GB\\n', '#PBS -l walltime=00:45:00\\n', '#PBS -q casper\\n', '#PBS -j oe\\n', 'source /etc/profile.d/modules.csh\\n', 'module load conda/latest\\n', 'conda activate npl\\n', 'python test_reading_data.py 10']\n",
      "['#!/bin/tcsh\\n', '#PBS -N cmip6_bestfitLRM\\n', '#PBS -A WYOM0119\\n', '#PBS -l select=1:ncpus=12:mem=106GB\\n', '#PBS -l walltime=00:45:00\\n', '#PBS -q casper\\n', '#PBS -j oe\\n', 'source /etc/profile.d/modules.csh\\n', 'module load conda/latest\\n', 'conda activate npl\\n', 'python test_reading_data.py 11']\n",
      "['#!/bin/tcsh\\n', '#PBS -N cmip6_bestfitLRM\\n', '#PBS -A WYOM0119\\n', '#PBS -l select=1:ncpus=12:mem=106GB\\n', '#PBS -l walltime=00:45:00\\n', '#PBS -q casper\\n', '#PBS -j oe\\n', 'source /etc/profile.d/modules.csh\\n', 'module load conda/latest\\n', 'conda activate npl\\n', 'python test_reading_data.py 12']\n",
      "['#!/bin/tcsh\\n', '#PBS -N cmip6_bestfitLRM\\n', '#PBS -A WYOM0119\\n', '#PBS -l select=1:ncpus=12:mem=106GB\\n', '#PBS -l walltime=00:45:00\\n', '#PBS -q casper\\n', '#PBS -j oe\\n', 'source /etc/profile.d/modules.csh\\n', 'module load conda/latest\\n', 'conda activate npl\\n', 'python test_reading_data.py 13']\n",
      "['#!/bin/tcsh\\n', '#PBS -N cmip6_bestfitLRM\\n', '#PBS -A WYOM0119\\n', '#PBS -l select=1:ncpus=12:mem=106GB\\n', '#PBS -l walltime=00:45:00\\n', '#PBS -q casper\\n', '#PBS -j oe\\n', 'source /etc/profile.d/modules.csh\\n', 'module load conda/latest\\n', 'conda activate npl\\n', 'python test_reading_data.py 14']\n",
      "['#!/bin/tcsh\\n', '#PBS -N cmip6_bestfitLRM\\n', '#PBS -A WYOM0119\\n', '#PBS -l select=1:ncpus=12:mem=106GB\\n', '#PBS -l walltime=00:45:00\\n', '#PBS -q casper\\n', '#PBS -j oe\\n', 'source /etc/profile.d/modules.csh\\n', 'module load conda/latest\\n', 'conda activate npl\\n', 'python test_reading_data.py 15']\n",
      "['#!/bin/tcsh\\n', '#PBS -N cmip6_bestfitLRM\\n', '#PBS -A WYOM0119\\n', '#PBS -l select=1:ncpus=12:mem=106GB\\n', '#PBS -l walltime=00:45:00\\n', '#PBS -q casper\\n', '#PBS -j oe\\n', 'source /etc/profile.d/modules.csh\\n', 'module load conda/latest\\n', 'conda activate npl\\n', 'python test_reading_data.py 16']\n",
      "['#!/bin/tcsh\\n', '#PBS -N cmip6_bestfitLRM\\n', '#PBS -A WYOM0119\\n', '#PBS -l select=1:ncpus=12:mem=106GB\\n', '#PBS -l walltime=00:45:00\\n', '#PBS -q casper\\n', '#PBS -j oe\\n', 'source /etc/profile.d/modules.csh\\n', 'module load conda/latest\\n', 'conda activate npl\\n', 'python test_reading_data.py 17']\n",
      "['#!/bin/tcsh\\n', '#PBS -N cmip6_bestfitLRM\\n', '#PBS -A WYOM0119\\n', '#PBS -l select=1:ncpus=12:mem=106GB\\n', '#PBS -l walltime=00:45:00\\n', '#PBS -q casper\\n', '#PBS -j oe\\n', 'source /etc/profile.d/modules.csh\\n', 'module load conda/latest\\n', 'conda activate npl\\n', 'python test_reading_data.py 18']\n",
      "['#!/bin/tcsh\\n', '#PBS -N cmip6_bestfitLRM\\n', '#PBS -A WYOM0119\\n', '#PBS -l select=1:ncpus=12:mem=106GB\\n', '#PBS -l walltime=00:45:00\\n', '#PBS -q casper\\n', '#PBS -j oe\\n', 'source /etc/profile.d/modules.csh\\n', 'module load conda/latest\\n', 'conda activate npl\\n', 'python test_reading_data.py 19']\n",
      "['#!/bin/tcsh\\n', '#PBS -N cmip6_bestfitLRM\\n', '#PBS -A WYOM0119\\n', '#PBS -l select=1:ncpus=12:mem=106GB\\n', '#PBS -l walltime=00:45:00\\n', '#PBS -q casper\\n', '#PBS -j oe\\n', 'source /etc/profile.d/modules.csh\\n', 'module load conda/latest\\n', 'conda activate npl\\n', 'python test_reading_data.py 20']\n",
      "['#!/bin/tcsh\\n', '#PBS -N cmip6_bestfitLRM\\n', '#PBS -A WYOM0119\\n', '#PBS -l select=1:ncpus=12:mem=106GB\\n', '#PBS -l walltime=00:45:00\\n', '#PBS -q casper\\n', '#PBS -j oe\\n', 'source /etc/profile.d/modules.csh\\n', 'module load conda/latest\\n', 'conda activate npl\\n', 'python test_reading_data.py 21']\n",
      "['#!/bin/tcsh\\n', '#PBS -N cmip6_bestfitLRM\\n', '#PBS -A WYOM0119\\n', '#PBS -l select=1:ncpus=12:mem=106GB\\n', '#PBS -l walltime=00:45:00\\n', '#PBS -q casper\\n', '#PBS -j oe\\n', 'source /etc/profile.d/modules.csh\\n', 'module load conda/latest\\n', 'conda activate npl\\n', 'python test_reading_data.py 22']\n",
      "['#!/bin/tcsh\\n', '#PBS -N cmip6_bestfitLRM\\n', '#PBS -A WYOM0119\\n', '#PBS -l select=1:ncpus=12:mem=106GB\\n', '#PBS -l walltime=00:45:00\\n', '#PBS -q casper\\n', '#PBS -j oe\\n', 'source /etc/profile.d/modules.csh\\n', 'module load conda/latest\\n', 'conda activate npl\\n', 'python test_reading_data.py 23']\n",
      "['#!/bin/tcsh\\n', '#PBS -N cmip6_bestfitLRM\\n', '#PBS -A WYOM0119\\n', '#PBS -l select=1:ncpus=12:mem=106GB\\n', '#PBS -l walltime=00:45:00\\n', '#PBS -q casper\\n', '#PBS -j oe\\n', 'source /etc/profile.d/modules.csh\\n', 'module load conda/latest\\n', 'conda activate npl\\n', 'python test_reading_data.py 24']\n",
      "['#!/bin/tcsh\\n', '#PBS -N cmip6_bestfitLRM\\n', '#PBS -A WYOM0119\\n', '#PBS -l select=1:ncpus=12:mem=106GB\\n', '#PBS -l walltime=00:45:00\\n', '#PBS -q casper\\n', '#PBS -j oe\\n', 'source /etc/profile.d/modules.csh\\n', 'module load conda/latest\\n', 'conda activate npl\\n', 'python test_reading_data.py 25']\n",
      "['#!/bin/tcsh\\n', '#PBS -N cmip6_bestfitLRM\\n', '#PBS -A WYOM0119\\n', '#PBS -l select=1:ncpus=12:mem=106GB\\n', '#PBS -l walltime=00:45:00\\n', '#PBS -q casper\\n', '#PBS -j oe\\n', 'source /etc/profile.d/modules.csh\\n', 'module load conda/latest\\n', 'conda activate npl\\n', 'python test_reading_data.py 26']\n",
      "['#!/bin/tcsh\\n', '#PBS -N cmip6_bestfitLRM\\n', '#PBS -A WYOM0119\\n', '#PBS -l select=1:ncpus=12:mem=106GB\\n', '#PBS -l walltime=00:45:00\\n', '#PBS -q casper\\n', '#PBS -j oe\\n', 'source /etc/profile.d/modules.csh\\n', 'module load conda/latest\\n', 'conda activate npl\\n', 'python test_reading_data.py 27']\n",
      "['#!/bin/tcsh\\n', '#PBS -N cmip6_bestfitLRM\\n', '#PBS -A WYOM0119\\n', '#PBS -l select=1:ncpus=12:mem=106GB\\n', '#PBS -l walltime=00:45:00\\n', '#PBS -q casper\\n', '#PBS -j oe\\n', 'source /etc/profile.d/modules.csh\\n', 'module load conda/latest\\n', 'conda activate npl\\n', 'python test_reading_data.py 28']\n",
      "['#!/bin/tcsh\\n', '#PBS -N cmip6_bestfitLRM\\n', '#PBS -A WYOM0119\\n', '#PBS -l select=1:ncpus=12:mem=106GB\\n', '#PBS -l walltime=00:45:00\\n', '#PBS -q casper\\n', '#PBS -j oe\\n', 'source /etc/profile.d/modules.csh\\n', 'module load conda/latest\\n', 'conda activate npl\\n', 'python test_reading_data.py 29']\n",
      "['#!/bin/tcsh\\n', '#PBS -N cmip6_bestfitLRM\\n', '#PBS -A WYOM0119\\n', '#PBS -l select=1:ncpus=12:mem=106GB\\n', '#PBS -l walltime=00:45:00\\n', '#PBS -q casper\\n', '#PBS -j oe\\n', 'source /etc/profile.d/modules.csh\\n', 'module load conda/latest\\n', 'conda activate npl\\n', 'python test_reading_data.py 30']\n",
      "/glade/work/chuyan/Research/Cloud_CCFs_RMs/Course_objective_ana/batchjob_file/\n"
     ]
    }
   ],
   "source": [
    "# testing read data:\n",
    "\n",
    "filepath = '/glade/work/chuyan/Research/Cloud_CCFs_RMs/Course_objective_ana/batchjob_file/'\n",
    "\n",
    "# filepath = os.getcwd()\n",
    "for i in range(31):\n",
    "    \n",
    "    file = open(filepath+'/'+ 'batchjobt2_'+str(i+1)+'.sh', 'w')\n",
    "    line = []\n",
    "\n",
    "    line.append('#!/bin/tcsh\\n')\n",
    "    line.append('#PBS -N cmip6_bestfitLRM\\n')\n",
    "    line.append('#PBS -A WYOM0119\\n')\n",
    "    line.append('#PBS -l select=1:ncpus=12:mem=106GB\\n')\n",
    "    line.append('#PBS -l walltime=00:45:00\\n')\n",
    "    line.append('#PBS -q casper\\n')\n",
    "    line.append('#PBS -j oe\\n')\n",
    "\n",
    "    line.append('source /etc/profile.d/modules.csh\\n')\n",
    "    line.append('module load conda/latest\\n')\n",
    "    line.append('conda activate npl\\n')\n",
    "\n",
    "    line.append('python test_reading_data.py ' + str(i))\n",
    "\n",
    "\n",
    "    print(line)\n",
    "    \n",
    "    for j in np.arange(len(line)):\n",
    "        file.write(line[j])\n",
    "    file.close\n",
    "\n",
    "print(filepath)"
   ]
  },
  {
   "cell_type": "code",
   "execution_count": 4,
   "id": "b012c10d-59ee-400a-81a4-b2b58bf14542",
   "metadata": {
    "tags": []
   },
   "outputs": [
    {
     "name": "stdin",
     "output_type": "stream",
     "text": [
      "Please input: 0 if you want to continue: 0\n"
     ]
    },
    {
     "name": "stdout",
     "output_type": "stream",
     "text": [
      "0\n",
      "0\n",
      "0\n",
      "1\n",
      "0\n",
      "2\n",
      "0\n",
      "3\n",
      "0\n",
      "4\n",
      "0\n",
      "5\n",
      "0\n",
      "6\n",
      "0\n",
      "7\n",
      "0\n",
      "8\n",
      "0\n",
      "9\n",
      "0\n",
      "10\n",
      "0\n",
      "11\n",
      "0\n",
      "12\n",
      "0\n",
      "13\n",
      "0\n",
      "14\n",
      "0\n",
      "15\n",
      "0\n",
      "16\n",
      "0\n",
      "17\n",
      "0\n",
      "18\n",
      "0\n",
      "19\n",
      "0\n",
      "20\n",
      "0\n",
      "21\n",
      "0\n",
      "22\n",
      "0\n",
      "23\n",
      "0\n",
      "24\n",
      "0\n",
      "25\n",
      "0\n",
      "26\n",
      "0\n",
      "27\n",
      "0\n",
      "28\n",
      "0\n",
      "29\n",
      "0\n",
      "30\n",
      "0\n",
      "31\n",
      "0\n",
      "32\n",
      "0\n",
      "33\n",
      "0\n",
      "34\n",
      "0\n",
      "35\n",
      "0\n",
      "36\n",
      "0\n",
      "37\n",
      "0\n",
      "38\n",
      "0\n",
      "39\n",
      "0\n",
      "40\n",
      "0\n",
      "41\n",
      "0\n",
      "42\n",
      "0\n",
      "43\n",
      "0\n"
     ]
    }
   ],
   "source": [
    "filepath = '/glade/work/chuyan/Research/Cloud_CCFs_RMs/Course_objective_ana/batchjob_file/'\n",
    "\n",
    "filepath_batch_job = filepath\n",
    "\n",
    "caution_condition = input(\"Please input: 0 if you want to continue:\")\n",
    "print(caution_condition)\n",
    "if caution_condition == '0':\n",
    "    P = 1\n",
    "    for i in range(44):\n",
    "\n",
    "        print(i)\n",
    "\n",
    "        sub_comm = filepath + \"batchjobt6_\" + str(i+1) + \".sh\"  # batchjobt2\n",
    "        os.system(\"cd \"+filepath_batch_job)\n",
    "        # print(os.getcwd())\n",
    "        output_call_functions = subprocess.run([\"qsub\", sub_comm], stdout = subprocess.DEVNULL)\n",
    "\n",
    "        print(output_call_functions.returncode)\n",
    "else:\n",
    "    print(' REFUSE TO RUN BATCH JOB.')"
   ]
  },
  {
   "cell_type": "code",
   "execution_count": 10,
   "id": "37c9038a-ab9d-4924-b1c3-9c967942ebcf",
   "metadata": {
    "tags": []
   },
   "outputs": [],
   "source": [
    "# Testing code for read data: get_LWPCMIP6data\n",
    "\n",
    "from calc_LRM_metric import *\n",
    "import sys\n",
    "import netCDF4\n",
    "from numpy import *\n",
    "import matplotlib.pyplot as plt\n",
    "import xarray as xr\n",
    "# import PyNIO as Nio ##..deprecated\n",
    "import pandas as pd\n",
    "import glob\n",
    "from scipy.stats import *\n",
    "from scipy.stats.stats import pearsonr\n",
    "from sklearn import linear_model\n",
    "from sklearn.metrics import mean_squared_error, r2_score\n",
    "from matplotlib.ticker import MaxNLocator\n",
    "from matplotlib.colors import BoundaryNorm\n",
    "\n",
    "\n",
    "from area_mean import *\n",
    "from binned_cyFunctions5 import *\n",
    "from read_hs_file import read_var_mod\n",
    "\n",
    "\n",
    "from get_LWPCMIP6data import *\n",
    "from get_annual_so import *\n",
    "# from fitLRM_cy import *\n",
    "from useful_func_cy import *\n",
    "\n",
    "exp = 'piControl'\n",
    "\n",
    "\n",
    "AWICM11MR = {'modn': 'AWI-CM-1-1-MR', 'consort': 'AWI', 'cmip': 'cmip6',\n",
    "            'exper': exp, 'ensmem': 'r1i1p1f1', 'gg': 'gn', \"typevar\": 'Amon'}\n",
    "BCCCSMCM2MR = {'modn': 'BCC-CSM2-MR', 'consort': 'BCC', 'cmip': 'cmip6',\n",
    "               'exper': exp, 'ensmem': 'r1i1p1f1', 'gg': 'gn', \"typevar\": 'Amon'}\n",
    "BCCESM1 = {'modn': 'BCC-ESM1', 'consort': 'BCC', 'cmip': 'cmip6',\n",
    "               'exper': exp, 'ensmem': 'r1i1p1f1', 'gg': 'gn', \"typevar\": 'Amon'}\n",
    "CAMSCSM1 = {'modn': 'CAMS-CSM1-0', 'consort': 'CAMS', 'cmip': 'cmip6',\n",
    "            'exper': exp, 'ensmem': 'r1i1p1f1', 'gg': 'gn', \"typevar\": 'Amon'}\n",
    "CMCCCM2SR5 = {'modn': 'CMCC-CM2-SR5', 'consort': 'CMCC', 'cmip': 'cmip6', \n",
    "             'exper': exp, 'ensmem': 'r1i1p1f1', 'gg': 'gn', \"typevar\": 'Amon'}\n",
    "CESM2 = {'modn': 'CESM2', 'consort': 'NCAR', 'cmip': 'cmip6',\n",
    "             'exper': exp, 'ensmem': 'r1i1p1f1', 'gg': 'gn', \"typevar\": 'Amon'}\n",
    "CESM2FV2 = {'modn': 'CESM2-FV2', 'consort': 'NCAR', 'cmip': 'cmip6',\n",
    "             'exper': exp, 'ensmem': 'r1i1p1f1', 'gg': 'gn', \"typevar\": 'Amon'}\n",
    "CESM2WACCM = {'modn': 'CESM2-WACCM', 'consort': 'NCAR', 'cmip': 'cmip6',\n",
    "             'exper': exp, 'ensmem': 'r1i1p1f1', 'gg': 'gn', \"typevar\": 'Amon'}\n",
    "CESM2WACCMFV2 = {'modn': 'CESM2-WACCM-FV2', 'consort': 'NCAR', 'cmip': 'cmip6',\n",
    "             'exper': exp, 'ensmem': 'r1i1p1f1', 'gg': 'gn', \"typevar\": 'Amon'}\n",
    "\n",
    "CNRMCM61 = {'modn': 'CNRM-CM6-1', 'consort': 'CNRM-CERFACS', 'cmip': 'cmip6', \n",
    "               'exper': exp, 'ensmem': 'r1i1p1f2', 'gg': 'gr', \"typevar\": 'Amon'}\n",
    "CNRMCM61HR = {'modn': 'CNRM-CM6-1-HR', 'consort': 'CNRM-CERFACS', 'cmip': 'cmip6',\n",
    "               'exper': exp, 'ensmem': 'r1i1p1f2', 'gg': 'gr', \"typevar\": 'Amon'}\n",
    "CNRMESM21 = {'modn': 'CNRM-ESM2-1', 'consort': 'CNRM-CERFACS', 'cmip': 'cmip6', \n",
    "                 'exper': exp, 'ensmem': 'r1i1p1f2', 'gg': 'gr', \"typevar\": 'Amon'}\n",
    "CanESM5 = {'modn': 'CanESM5', 'consort': 'CCCma', 'cmip': 'cmip6',\n",
    "               'exper': exp, 'ensmem': 'r1i1p1f1', 'gg': 'gn', \"typevar\": 'Amon'}\n",
    "E3SM10 = {'modn': 'E3SM-1-0', 'consort': 'E3SM-Project', 'cmip': 'cmip6',\n",
    "              'exper': exp, 'ensmem': 'r1i1p1f1', 'gg': 'gr', \"typevar\": 'Amon'}\n",
    "\n",
    "ECEarth3 = {'modn': 'EC-Earth3', 'consort': 'EC-Earth-Consortium', 'cmip': 'cmip6',\n",
    "       'exper': exp, 'ensmem': 'r1i1p1f1', 'gg': 'gr', \"typevar\": 'Amon'}\n",
    "ECEarth3Veg = {'modn': 'EC-Earth3-Veg', 'consort': 'EC-Earth-Consortium', 'cmip': 'cmip6',\n",
    "       'exper': exp, 'ensmem': 'r1i1p1f1', 'gg': 'gr', \"typevar\": 'Amon'}\n",
    "\n",
    "FGOALSg3 = {'modn': 'FGOALS-g3', 'consort': 'CAS', 'cmip': 'cmip6',\n",
    "                'exper': exp, 'ensmem': 'r1i1p1f1', 'gg': 'gn', \"typevar\": 'Amon'}\n",
    "GISSE21G = {'modn': 'GISS-E2-1-G', 'consort': 'NASA-GISS', 'cmip': 'cmip6',\n",
    "                'exper': exp, 'ensmem': 'r1i1p1f1', 'gg': 'gn', \"typevar\": 'Amon'}\n",
    "GISSE21H = {'modn': 'GISS-E2-1-H', 'consort': 'NASA-GISS', 'cmip': 'cmip6',\n",
    "                'exper': exp, 'ensmem': 'r1i1p1f1', 'gg': 'gn', \"typevar\": 'Amon'}\n",
    "GISSE22G = {'modn': 'GISS-E2-2-G', 'consort': 'NASA-GISS', 'cmip': 'cmip6',\n",
    "               'exper': exp, 'ensmem': 'r1i1p1f1', 'gg': 'gn', \"typevar\": 'Amon'}\n",
    "GFDLCM4 = {'modn': 'GFDL-CM4', 'consort': 'NOAA-GFDL', 'cmip': 'cmip6',\n",
    "           'exper': exp, 'ensmem': 'r1i1p1f1', 'gg': 'gr1', \"typevar\": 'Amon'}\n",
    "# HADGEM3 = {'modn': 'HadGEM3-GC31-LL', 'consort': 'MOHC', 'cmip': 'cmip6',\n",
    "#             'exper': 'piControl', 'ensmem': 'r1i1p1f1', 'gg': 'gn', \"typevar\": 'Amon'}   #..missing 'wap' in 'piControl' exp(Daniel says that HadGEM3-GC31 not using p-level, so doesn't have variables on p-level\n",
    "INM_CM48 = {'modn': 'INM-CM4-8', 'consort': 'INM', 'cmip': 'cmip6', \n",
    "                'exper': exp, 'ensmem': 'r1i1p1f1', 'gg': 'gr1', \"typevar\": 'Amon'}  #..data not available again \n",
    "IPSLCM6ALR = {'modn': 'IPSL-CM6A-LR', 'consort': 'IPSL', 'cmip': 'cmip6',\n",
    "                  'exper': exp, 'ensmem': 'r1i1p1f1', 'gg': 'gr', \"typevar\": 'Amon'}\n",
    "MIROC6ES2L = {'modn': 'MIROC6-ES2L', 'consort': 'MIROC', 'cmip': 'cmip6',\n",
    "              'exper': exp, 'ensmem': 'r1i1p1f2', 'gg': 'gn', \"typevar\": 'Amon'}\n",
    "MIROC6 = {'modn': 'MIROC6', 'consort': 'MIROC', 'cmip': 'cmip6',\n",
    "              'exper': exp, 'ensmem': 'r1i1p1f1', 'gg': 'gn', \"typevar\": 'Amon'}\n",
    "MPIESM12LR = {'modn': 'MPI-ESM1-2-LR', 'consort': 'MPI-M', 'cmip': 'cmip6',\n",
    "                  'exper': exp, 'ensmem': 'r1i1p1f1', 'gg': 'gn', \"typevar\": 'Amon'}\n",
    "MRIESM20 = {'modn': 'MRI-ESM2-0', 'consort': 'MRI', 'cmip': 'cmip6',\n",
    "                'exper': exp, 'ensmem': 'r1i1p1f1', 'gg': 'gn', \"typevar\": 'Amon'}\n",
    "NESM3 = {'modn': 'NESM3', 'consort': 'NUIST', 'cmip': 'cmip6', \n",
    "                 'exper': exp, 'ensmem': 'r1i1p1f1', 'gg': 'gn', \"typevar\": 'Amon'}\n",
    "NorESM2MM = {'modn': 'NorESM2-MM', 'consort': 'NCC', 'cmip': 'cmip6',\n",
    "                 'exper': exp, 'ensmem': 'r1i1p1f1', 'gg': 'gn', \"typevar\": 'Amon'}\n",
    "SAM0 = {'modn': 'SAM0-UNICON', 'consort': 'SNU', 'cmip': 'cmip6', \n",
    "            'exper': exp, 'ensmem': 'r1i1p1f1', 'gg': 'gn', \"typevar\": 'Amon'}\n",
    "TaiESM1 = {'modn': 'TaiESM1', 'consort': 'AS-RCEC', 'cmip': 'cmip6', \n",
    "                 'exper': exp, 'ensmem': 'r1i1p1f1', 'gg': 'gn', \"typevar\": 'Amon'}\n",
    "\n",
    "deck = [BCCESM1, CanESM5, CESM2, CESM2FV2, CESM2WACCM, CNRMESM21, GISSE21G, GISSE21H, IPSLCM6ALR, MRIESM20, MIROC6, SAM0, E3SM10, FGOALSg3, GFDLCM4, CAMSCSM1, INM_CM48, MPIESM12LR, AWICM11MR, CMCCCM2SR5, CESM2WACCMFV2, CNRMCM61, CNRMCM61HR, ECEarth3, ECEarth3Veg, GISSE22G, MIROCES2L, NESM3, NorESM2MM, TaiESM1, CCSM4, CNRMCM5, CSIRO_Mk360, CanESM2, FGOALSs2, GFDLCM3, IPSLCM5ALR, MIROC5, MPIESMMR, NorESM1M]   #..current # 30+10 (40)\n",
    "deck_nas = 'BCCESM1', 'CanESM5', 'CESM2', 'CESM2FV2', 'CESM2WACCM', 'CNRMESM2', 'GISSE21G', 'GISSE21H', 'IPSLCM6ALR', 'MRIESM20', 'MIROC6', 'SAM0', 'E3SM10', 'FGOALSg3', 'GFDLCM4', 'CAMSCSM1', 'INM_CM48', 'MPIESM12LR', 'AWICM11MR', 'CMCCCM2SR5', 'CESM2WACCMFV2', 'CNRMCM61', 'CNRMCM61HR', 'ECEarth3', 'ECEarth3Veg', 'GISSE22G', 'MIROCES2L', 'NESM3', 'NorESM2MM', 'TaiESM1', 'CCSM4', 'CNRMCM5', 'CSIRO_Mk360', 'CanESM2', 'FGOALSs2', 'GFDLCM3', 'IPSLCM5ALR', 'MIROC5', 'MPIESMMR', 'NorESM1M'\n",
    "\n",
    "# try:\n",
    "# inputVar_pi, inputVar_abr = get_LWPCMIP6(**deck[25])\n",
    "# 13, 0, (6)7, 28, 14, 16, 24, 27 ..\n",
    "\n",
    "# except:\n",
    "#     print(\"Reading DATA failed!!!\")"
   ]
  },
  {
   "cell_type": "code",
   "execution_count": 11,
   "id": "a793ee79-6755-4657-b1f8-50d447945767",
   "metadata": {
    "tags": []
   },
   "outputs": [
    {
     "name": "stdout",
     "output_type": "stream",
     "text": [
      "EC-Earth3\n",
      "/glade/scratch/chuyan/CMIP6data/\n",
      " Variable ps   piControl\n",
      "(2412, 256, 512)\n",
      "[2259, 1, 1] [2357, 12, 31]\n"
     ]
    }
   ],
   "source": [
    "\n",
    "TEST2_time= read_var_mod(varnm='ps', **ECEarth3,time1=[1,1,1], time2=[8000, 12,31])[-1]\n",
    "timep1=[int(min(TEST2_time[:,0])),1,1]   #..max-799\n",
    "timep2=[int(min(TEST2_time[:,0]))+98, 12,31]  #..max-750\n",
    "\n",
    "print(timep1, timep2)"
   ]
  },
  {
   "cell_type": "code",
   "execution_count": 9,
   "id": "5b9d0f68-e358-4bfa-8c09-fc75143fd579",
   "metadata": {},
   "outputs": [
    {
     "name": "stdout",
     "output_type": "stream",
     "text": [
      "[2259, 1, 1] [2357, 12, 31]\n"
     ]
    }
   ],
   "source": []
  },
  {
   "cell_type": "code",
   "execution_count": null,
   "id": "19044299-926e-4789-bc64-79fbc22551c9",
   "metadata": {},
   "outputs": [],
   "source": []
  }
 ],
 "metadata": {
  "kernelspec": {
   "display_name": "NPL-3.7.9",
   "language": "python",
   "name": "npl-3.7.9"
  },
  "language_info": {
   "codemirror_mode": {
    "name": "ipython",
    "version": 3
   },
   "file_extension": ".py",
   "mimetype": "text/x-python",
   "name": "python",
   "nbconvert_exporter": "python",
   "pygments_lexer": "ipython3",
   "version": "3.7.9"
  }
 },
 "nbformat": 4,
 "nbformat_minor": 5
}
