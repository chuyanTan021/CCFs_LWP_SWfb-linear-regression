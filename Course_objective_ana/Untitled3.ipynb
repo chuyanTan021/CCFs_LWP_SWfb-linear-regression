{
 "cells": [
  {
   "cell_type": "code",
   "execution_count": 5,
   "id": "0a217701-f2e9-4daa-94de-96ed36518e4e",
   "metadata": {},
   "outputs": [],
   "source": [
    "import netCDF4\n",
    "import numpy as np\n",
    "import matplotlib.pyplot as plt\n",
    "import xarray as xr\n",
    "\n",
    "import pandas as pd\n",
    "import glob\n",
    "from copy import deepcopy\n",
    "from scipy.stats import *\n",
    "from scipy.stats.stats import pearsonr\n",
    "from sklearn import linear_model\n",
    "from sklearn.metrics import mean_squared_error, r2_score\n",
    "from matplotlib.ticker import MaxNLocator\n",
    "from matplotlib.colors import BoundaryNorm\n",
    "# self_defined modules\n",
    "from area_mean import *\n",
    "from binned_cyFunctions5 import *\n",
    "from read_hs_file import read_var_mod\n",
    "from read_var_obs import *\n",
    "from get_LWPCMIP5data import *\n",
    "from get_LWPCMIP6data import *\n",
    "from get_OBSLRMdata import *\n",
    "from fitLRM_cy1 import *\n",
    "from fitLRM_cy2 import *\n",
    "from fitLRM_cy4 import *\n",
    "from useful_func_cy import *\n",
    "from calc_Radiation_LRM_1 import *\n",
    "from calc_Radiation_LRM_2 import *\n"
   ]
  },
  {
   "cell_type": "markdown",
   "id": "6c5fb1cd-2e4c-42a0-a6d2-751bbb44e664",
   "metadata": {},
   "source": [
    "# calc_LRMobs_metric, fitLRMobs(fitLRM_1, 2, 4)\n",
    "# & Aploting_Sep11"
   ]
  },
  {
   "cell_type": "code",
   "execution_count": 2,
   "id": "25ef3be3-a63c-405d-9c5e-2ffed8b9416e",
   "metadata": {},
   "outputs": [],
   "source": [
    "from calc_LRMobs_metric import *\n",
    "from fitLRMobs import *\n",
    "from Aploting_Sep11 import *"
   ]
  },
  {
   "cell_type": "code",
   "execution_count": null,
   "id": "5a8740b3-78b1-45fa-9b03-05c705fa27ba",
   "metadata": {},
   "outputs": [],
   "source": [
    "valid_range1=[2013, 1, 15]\n",
    "valid_range2=[2016, 12, 31]\n",
    "valid_range3=[2003, 1, 15]\n",
    "valid_range4=[2012, 12, 31]"
   ]
  },
  {
   "cell_type": "code",
   "execution_count": 4,
   "id": "cd1f030a-666c-46c4-a274-8262cc0633b0",
   "metadata": {},
   "outputs": [
    {
     "ename": "SyntaxError",
     "evalue": "invalid syntax (<ipython-input-4-7837f7ddc117>, line 30)",
     "output_type": "error",
     "traceback": [
      "\u001b[0;36m  File \u001b[0;32m\"<ipython-input-4-7837f7ddc117>\"\u001b[0;36m, line \u001b[0;32m30\u001b[0m\n\u001b[0;31m    LWP_obs_trends(predict_result_1r['LWP_actual_predict'], predict_result_1r['LWP_predi_predict'], predict_result_1r['LWP_actual_training'], predict_result_1r['LWP_predi_training'], times_Array_predict, times_Array_training, y_range, x_range, data_type = '3', running_mean_window = 1r\u001b[0m\n\u001b[0m                                                                                                                                                                                                                                                                                            ^\u001b[0m\n\u001b[0;31mSyntaxError\u001b[0m\u001b[0;31m:\u001b[0m invalid syntax\n"
     ]
    }
   ],
   "source": [
    "# -----------------\n",
    "# 'valid_range1' and 'valid_range2' give the time stamps of starting and ending times of data for training,\n",
    "# 'valid_range3' and 'valid_range4' give the time stamps of starting and ending times of data for predicting.\n",
    "# 'THRESHOLD_sst' is the cut-off of 'Sea surface temperature' for partitioning the 'Hot'/'Cold' LRM regimes;\n",
    "# 'THRESHOLD_sub' is the cut-off of '500 mb Vertical Velocity (Pressure)' for partitioning 'Up'/'Down' regimes.\n",
    "# ..\n",
    "# ------------------\n",
    "# Southern Ocean 5 * 5 degree bin box\n",
    "# Using to do area_mean\n",
    "s_range = arange(-90., 90., 5.) + 2.5  #..global-region latitude edge: (36)\n",
    "x_range = arange(-180., 180., 5.)  #..logitude sequences edge: number: 72\n",
    "y_range = arange(-85, -40., 5.) + 2.5  #..southern-ocaen latitude edge: 9\n",
    "\n",
    "\n",
    "# Function #1 loopping through variables space to find the cut-offs of LRM (Multi-Linear Regression Model).\n",
    "dict_training, lats_Array, lons_Array, times_Array_training = Pre_processing(s_range, x_range, y_range, valid_range1 = valid_range1, valid_range2 = valid_range2)\n",
    "\n",
    "dict_predict, lats_Array, lons_Array, times_Array_predict = Pre_processing(s_range, x_range, y_range, valid_range1 = valid_range3, valid_range2 = valid_range4)\n",
    "\n",
    "# Loop_OBS_LRM(dict_training, dict_predict, s_range, x_range, y_range)\n",
    "\n",
    "\n",
    "# Function #2 training LRM with using no cut-off, then use it to predict another historical period.\n",
    "predict_result_1r = fitLRMobs_1(dict_training, dict_predict, s_range, y_range, x_range, lats_Array, lons_Array)\n",
    "\n",
    "# plotting:\n",
    "\n",
    "# monthly, binned\n",
    "\n",
    "LWP_obs_trends(predict_result_1r['LWP_actual_predict'], predict_result_1r['LWP_predi_predict'], predict_result_1r['LWP_actual_training'], predict_result_1r['LWP_predi_training'], times_Array_predict, times_Array_training, y_range, x_range, data_type = '3', running_mean_window = 2)\n",
    "\n",
    "print(pearsonr(area_mean(annually_mean(predict_result_1r['LWP_actual_predict'], times_Array_predict, label = 'mon'), y_range, x_range), area_mean(annually_mean(predict_result_1r['LWP_predi_predict'], times_Array_predict, label = 'mon'), y_range, x_range))"
   ]
  },
  {
   "cell_type": "code",
   "execution_count": 3,
   "id": "4ec49775-c4a7-4c4a-96ea-54be6b5af352",
   "metadata": {},
   "outputs": [
    {
     "name": "stdout",
     "output_type": "stream",
     "text": [
      "cut-off folder ['/glade/scratch/chuyan/obs_output/OBS__STAT_pi+abr_22x_31y_Sep11th.npz']\n",
      "TR_min_abs(bias):  284.5258187711201   K  -0.014617270429645265  Pa/s \n",
      "TR_large_pi_R_2:  283.9439510076129   K  0.004837945345928386  Pa/s \n"
     ]
    },
    {
     "ename": "NameError",
     "evalue": "name 'fitLRMobs_2_updown' is not defined",
     "output_type": "error",
     "traceback": [
      "\u001b[0;31m---------------------------------------------------------------------------\u001b[0m",
      "\u001b[0;31mNameError\u001b[0m                                 Traceback (most recent call last)",
      "\u001b[0;32m<ipython-input-3-6e218e507d71>\u001b[0m in \u001b[0;36m<module>\u001b[0;34m\u001b[0m\n\u001b[1;32m     15\u001b[0m \u001b[0mprint\u001b[0m\u001b[0;34m(\u001b[0m\u001b[0;34m\"TR_large_pi_R_2: \"\u001b[0m\u001b[0;34m,\u001b[0m \u001b[0mTR_sst2\u001b[0m\u001b[0;34m,\u001b[0m \u001b[0;34m'  K '\u001b[0m\u001b[0;34m,\u001b[0m \u001b[0mTR_sub2\u001b[0m \u001b[0;34m,\u001b[0m \u001b[0;34m' Pa/s '\u001b[0m\u001b[0;34m)\u001b[0m\u001b[0;34m\u001b[0m\u001b[0;34m\u001b[0m\u001b[0m\n\u001b[1;32m     16\u001b[0m \u001b[0;34m\u001b[0m\u001b[0m\n\u001b[0;32m---> 17\u001b[0;31m \u001b[0mpredict_result_2r_updown\u001b[0m \u001b[0;34m=\u001b[0m \u001b[0mfitLRMobs_2_updown\u001b[0m\u001b[0;34m(\u001b[0m\u001b[0mdict_training\u001b[0m\u001b[0;34m,\u001b[0m \u001b[0mdict_predict\u001b[0m\u001b[0;34m,\u001b[0m \u001b[0mTR_sst2\u001b[0m\u001b[0;34m,\u001b[0m \u001b[0mTR_sub2\u001b[0m\u001b[0;34m,\u001b[0m \u001b[0ms_range\u001b[0m\u001b[0;34m,\u001b[0m \u001b[0my_range\u001b[0m\u001b[0;34m,\u001b[0m \u001b[0mx_range\u001b[0m\u001b[0;34m,\u001b[0m \u001b[0mlats_Array\u001b[0m\u001b[0;34m,\u001b[0m \u001b[0mlons_Array\u001b[0m\u001b[0;34m)\u001b[0m\u001b[0;34m\u001b[0m\u001b[0;34m\u001b[0m\u001b[0m\n\u001b[0m\u001b[1;32m     18\u001b[0m \u001b[0;34m\u001b[0m\u001b[0m\n\u001b[1;32m     19\u001b[0m \u001b[0mpredict_result_2r_hotcold\u001b[0m \u001b[0;34m=\u001b[0m \u001b[0mfitLRMobs_2_hotcold\u001b[0m\u001b[0;34m(\u001b[0m\u001b[0mdict_training\u001b[0m\u001b[0;34m,\u001b[0m \u001b[0mdict_predict\u001b[0m\u001b[0;34m,\u001b[0m \u001b[0mTR_sst2\u001b[0m\u001b[0;34m,\u001b[0m \u001b[0mTR_sub2\u001b[0m\u001b[0;34m,\u001b[0m \u001b[0ms_range\u001b[0m\u001b[0;34m,\u001b[0m \u001b[0my_range\u001b[0m\u001b[0;34m,\u001b[0m \u001b[0mx_range\u001b[0m\u001b[0;34m,\u001b[0m \u001b[0mlats_Array\u001b[0m\u001b[0;34m,\u001b[0m \u001b[0mlons_Array\u001b[0m\u001b[0;34m)\u001b[0m\u001b[0;34m\u001b[0m\u001b[0;34m\u001b[0m\u001b[0m\n",
      "\u001b[0;31mNameError\u001b[0m: name 'fitLRMobs_2_updown' is not defined"
     ]
    }
   ],
   "source": [
    "# Function #3,4,5 training LRM with cut_off (TR_sst &/or TR_sub)\n",
    "\n",
    "WD = '/glade/scratch/chuyan/obs_output/'\n",
    "folder = glob.glob(WD + 'OBS__' + 'STAT_pi+abr_'+'22x_31y_Sep11th'+ '.npz')\n",
    "print('cut-off folder', folder)\n",
    "\n",
    "output_ARRAY = np.load(folder[0], allow_pickle=True)  # str(TR_sst)\n",
    "\n",
    "TR_sst1 = output_ARRAY['TR_minabias_SST']\n",
    "TR_sub1 = output_ARRAY['TR_minabias_SUB']\n",
    "TR_sst2 = output_ARRAY['TR_maxR2_SST']\n",
    "TR_sub2 = output_ARRAY['TR_maxR2_SUB']\n",
    "\n",
    "print(\"TR_min_abs(bias): \" , TR_sst1, '  K ', TR_sub1 , ' Pa/s ')\n",
    "print(\"TR_large_pi_R_2: \", TR_sst2, '  K ', TR_sub2 , ' Pa/s ')\n",
    "\n",
    "predict_result_2r_updown = fitLRMobs_2_updown(dict_training, dict_predict, TR_sst2, TR_sub2, s_range, y_range, x_range, lats_Array, lons_Array)\n",
    "\n",
    "predict_result_2r_hotcold = fitLRMobs_2_hotcold(dict_training, dict_predict, TR_sst2, TR_sub2, s_range, y_range, x_range, lats_Array, lons_Array)\n",
    "\n",
    "predict_result_4r = fitLRMobs_4(dict_training, dict_predict, TR_sst2, TR_sub2, s_range, y_range, x_range, lats_Array, lons_Array)\n",
    "\n",
    "# Plotting for the 'Liquid Water Path' trends in the historical period\n",
    "LWP_obs_trends(predict_result_2r_updown['LWP_actual_predict'], predict_result_2r_updown['LWP_predi_predict'], predict_result_2r_updown['LWP_actual_training'], predict_result_2r_updown['LWP_predi_training'], times_Array_predict, times_Array_training, y_range, x_range, data_type = '3', running_mean_window = 2)\n",
    "\n",
    "LWP_obs_trends(predict_result_2r_hotcold['LWP_actual_predict'], predict_result_2r_hotcold['LWP_predi_predict'], predict_result_2r_hotcold['LWP_actual_training'], predict_result_2r_hotcold['LWP_predi_training'], times_Array_predict, times_Array_training, y_range, x_range, data_type = '3', running_mean_window = 2)\n",
    "\n",
    "LWP_obs_trends(predict_result_4r['LWP_actual_predict'], predict_result_4r['LWP_predi_predict'], predict_result_4r['LWP_actual_training'], predict_result_4r['LWP_predi_training'], times_Array_predict, times_Array_training, y_range, x_range, data_type = '3', running_mean_window = 2)\n"
   ]
  },
  {
   "cell_type": "code",
   "execution_count": null,
   "id": "87e15d4b-7bbf-4dcd-8871-cd3154fae52a",
   "metadata": {},
   "outputs": [],
   "source": [
    "# CCF trends in historical period:\n",
    "\n",
    "LWP_obs_trends_2(dict_predict['p_e'], dict_predict['p_e'], times_Array_predict, y_range, x_range, data_type = '1', running_mean_window = 2)\n",
    "\n",
    "LWP_obs_trends(dict_predict['SUB'], dict_predict['SUB'], dict_training['SUB'], dict_training['SUB'], times_Array_predict, times_Array_training, y_range, x_range, data_type = '3', running_mean_window = 2)"
   ]
  }
 ],
 "metadata": {
  "kernelspec": {
   "display_name": "NPL-3.7.9",
   "language": "python",
   "name": "npl-3.7.9"
  },
  "language_info": {
   "codemirror_mode": {
    "name": "ipython",
    "version": 3
   },
   "file_extension": ".py",
   "mimetype": "text/x-python",
   "name": "python",
   "nbconvert_exporter": "python",
   "pygments_lexer": "ipython3",
   "version": "3.7.9"
  }
 },
 "nbformat": 4,
 "nbformat_minor": 5
}
